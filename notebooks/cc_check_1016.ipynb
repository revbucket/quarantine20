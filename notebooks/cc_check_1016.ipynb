{
 "cells": [
  {
   "cell_type": "code",
   "execution_count": 2,
   "metadata": {},
   "outputs": [],
   "source": [
    "import sys \n",
    "sys.path.append('..')\n",
    "import networkx as nx \n",
    "import quarantines as Q \n",
    "import quarantines_mongo as qm \n",
    "import graph_generators as gg\n",
    "import utils "
   ]
  },
  {
   "cell_type": "code",
   "execution_count": 3,
   "metadata": {},
   "outputs": [],
   "source": [
    "N = 10 ** 4\n",
    "def cc(G):\n",
    "    return nx.average_clustering(G)\n",
    "    \n"
   ]
  },
  {
   "cell_type": "code",
   "execution_count": 6,
   "metadata": {},
   "outputs": [
    {
     "name": "stdout",
     "output_type": "stream",
     "text": [
      "0 0.010906340059828566\n",
      "1 0.018028175196618153\n",
      "2 0.025615342913999133\n",
      "3 0.03317974347986347\n",
      "4 0.04206514345570173\n",
      "5 0.04880519152485652\n",
      "6 0.057880070744397605\n",
      "7 0.06509715580426574\n",
      "8 0.07330255563617986\n",
      "9 0.07926353160696381\n",
      "10 0.08537876787449572\n",
      "11 0.09422369065629006\n",
      "12 0.10010036809036879\n",
      "13 0.10452037569618701\n",
      "14 0.11036356519895803\n",
      "15 0.11954760171780947\n",
      "16 0.12358702015523852\n",
      "17 0.13147587595498714\n",
      "18 0.13929095582331516\n",
      "19 0.1468484594257302\n",
      "20 0.15701991420293546\n",
      "21 0.17044516653324274\n",
      "22 0.18560979239622835\n",
      "23 0.2085127064461705\n",
      "24 0.23750914304176848\n",
      "25 0.289024946201764\n"
     ]
    }
   ],
   "source": [
    "for _ in range(26):\n",
    "    print(_, cc(gg.plc_graph(N, 10, _/25)))"
   ]
  },
  {
   "cell_type": "code",
   "execution_count": null,
   "metadata": {},
   "outputs": [],
   "source": []
  }
 ],
 "metadata": {
  "kernelspec": {
   "display_name": "py3",
   "language": "python",
   "name": "py3"
  },
  "language_info": {
   "codemirror_mode": {
    "name": "ipython",
    "version": 3
   },
   "file_extension": ".py",
   "mimetype": "text/x-python",
   "name": "python",
   "nbconvert_exporter": "python",
   "pygments_lexer": "ipython3",
   "version": "3.6.9"
  }
 },
 "nbformat": 4,
 "nbformat_minor": 4
}
