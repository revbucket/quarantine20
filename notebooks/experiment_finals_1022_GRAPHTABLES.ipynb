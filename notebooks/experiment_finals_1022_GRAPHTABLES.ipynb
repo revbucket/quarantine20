{
 "cells": [
  {
   "cell_type": "code",
   "execution_count": null,
   "metadata": {},
   "outputs": [],
   "source": [
    "import sys\n",
    "sys.path.append('..')\n",
    "import quarantines as Q\n",
    "import quarantines_mongo as qm\n",
    "import graph_generators as gg \n",
    "import networkx as nx \n",
    "import networkit as nk\n",
    "import pymongo\n",
    "import pickle\n",
    "import numpy as np\n",
    "import matplotlib.pyplot as plt\n",
    "import seaborn as sns\n",
    "from prettytable import PrettyTable\n",
    "from tabulate import tabulate\n",
    "from scipy import stats\n",
    "from pprint import pprint\n",
    "import os \n",
    "import random\n",
    "import experiment_helpers as eh\n",
    "import utils\n",
    "sns.set()"
   ]
  },
  {
   "cell_type": "code",
   "execution_count": null,
   "metadata": {},
   "outputs": [],
   "source": [
    "data = eh.gather_data()"
   ]
  },
  {
   "cell_type": "code",
   "execution_count": 13,
   "metadata": {},
   "outputs": [],
   "source": [
    "### FIRST MAKE TABLE FOR SYNTHETIC GRAPH SUMMARY\n",
    "# Want row to have \n",
    "# {Type, Parameter, Average Degree, Clustering, Avg Shortest Path, Powerlaw Exponent}\n",
    "# ROWS: BA5, BA10, PLC5, PLC10, RW, NN, WS\n",
    "SYNTH_GRAPHS = {_: eh.parse_data_name(_) for _ in [_ for _ in data if _.endswith('_8')]}\n",
    "def make_row_floats(G):\n",
    "    return (utils.avg_deg(G), \n",
    "            nx.average_clustering(G), \n",
    "            utils.avg_shortest_path(G, samples=10 ** 5),\n",
    "            utils.get_powerlaw_exponent_cbin(G))\n",
    "def format_float(float_tup):\n",
    "    output = [] \n",
    "    output.append('%.2f' % float_tup[0])\n",
    "    output.append('%.3f' % float_tup[1])\n",
    "    output.append('%.2f' % float_tup[2])\n",
    "    output.append('%.2f' % float_tup[3])\n",
    "    return output"
   ]
  },
  {
   "cell_type": "code",
   "execution_count": null,
   "metadata": {},
   "outputs": [],
   "source": [
    "\n",
    "SYNTH_FLOATS = {k: make_row_floats(v) for k,v in SYNTH_GRAPHS.items()}"
   ]
  },
  {
   "cell_type": "code",
   "execution_count": 16,
   "metadata": {},
   "outputs": [
    {
     "data": {
      "text/plain": [
       "['ba_10_8',\n",
       " 'ba_5_8',\n",
       " 'nn_0.88_6_8',\n",
       " 'plc_10_0.25_8',\n",
       " 'plc_5_0.5_8',\n",
       " 'rw_0.91_0.94_8',\n",
       " 'ws_10_0.05_8']"
      ]
     },
     "execution_count": 16,
     "metadata": {},
     "output_type": "execute_result"
    }
   ],
   "source": [
    "sorted(SYNTH_FLOATS.keys())"
   ]
  },
  {
   "cell_type": "code",
   "execution_count": 28,
   "metadata": {},
   "outputs": [],
   "source": [
    "row_strs = []\n",
    "row_strs.append(['BA', '($m=5$)'] + format_float(SYNTH_FLOATS['ba_5_8']))\n",
    "row_strs.append(['BA', '($m=10$)'] + format_float(SYNTH_FLOATS['ba_10_8']))\n",
    "row_strs.append(['NN', '($u=0.88, k=6$)'] + format_float(SYNTH_FLOATS['nn_0.88_6_8']))\n",
    "row_strs.append(['PLC', '($m=5, p=0.5$)'] + format_float(SYNTH_FLOATS['plc_5_0.5_8']))\n",
    "row_strs.append(['PLC', '($m=10, p=0.25$)'] + format_float(SYNTH_FLOATS['plc_10_0.25_8']))\n",
    "row_strs.append(['RW', '($q_e=0.91, q_v=0.94$)'] + format_float(SYNTH_FLOATS['rw_0.91_0.94_8']))\n",
    "row_strs.append(['WS', '($k=10, p=0.05$)'] + format_float(SYNTH_FLOATS['ws_10_0.05_8']))\n",
    "\n"
   ]
  },
  {
   "cell_type": "code",
   "execution_count": 32,
   "metadata": {},
   "outputs": [
    {
     "name": "stdout",
     "output_type": "stream",
     "text": [
      "\\begin{tabular}{llrrrr}\n",
      "\\toprule\n",
      " Net Type   & Params                 &   Deg &   Cluster &   Pathlength &   Powerlaw Exp. \\\\\n",
      "\\midrule\n",
      " BA         & ($m=5$)                &  9.99 &     0.007 &         3.66 &            2.94 \\\\\n",
      " BA         & ($m=10$)               & 19.98 &     0.011 &         3.06 &            2.98 \\\\\n",
      " NN         & ($u=0.88, k=6$)        & 26.29 &     0.124 &         3.41 &            2.62 \\\\\n",
      " PLC        & ($m=5, p=0.5$)         &  9.99 &     0.178 &         3.53 &            2.67 \\\\\n",
      " PLC        & ($m=10, p=0.25$)       & 19.96 &     0.059 &         2.97 &            2.76 \\\\\n",
      " RW         & ($q\\_e=0.91, q\\_v=0.94$) & 19.32 &     0.285 &         3.45 &            2.76 \\\\\n",
      " WS         & ($k=10, p=0.05$)       & 10    &     0.574 &         7.47 &           12.92 \\\\\n",
      "\\bottomrule\n",
      "\\end{tabular}\n"
     ]
    }
   ],
   "source": [
    "HEADERS = ['Net Type', 'Params', 'Deg', 'Cluster', 'Pathlength', 'Powerlaw Exp.']\n",
    "print(tabulate(row_strs, headers=HEADERS, tablefmt='latex_booktabs').replace('\\$', '$'))"
   ]
  },
  {
   "cell_type": "code",
   "execution_count": 35,
   "metadata": {},
   "outputs": [],
   "source": [
    "### NEXT MAKE TABLE FOR REAL GRAPH SUMMARY\n",
    "# Want row to have \n",
    "# {Name, N, Average Degree, Clustering, Avg Shortest Path, Powerlaw Exponent}\n",
    "REAL_GRAPHS = {_: eh.parse_data_name(_) for _ in \n",
    "                              [_ for _ in data.keys() if _.startswith('arxiv') \n",
    "                                                      or _.startswith('fb')\n",
    "                                                      or _.startswith('deezer')]}"
   ]
  },
  {
   "cell_type": "code",
   "execution_count": 37,
   "metadata": {},
   "outputs": [],
   "source": [
    "REAL_FLOATS = {k: make_row_floats(v) for k,v in REAL_GRAPHS.items()}"
   ]
  },
  {
   "cell_type": "code",
   "execution_count": 43,
   "metadata": {},
   "outputs": [
    {
     "name": "stdout",
     "output_type": "stream",
     "text": [
      "41,773\n"
     ]
    }
   ],
   "source": []
  },
  {
   "cell_type": "code",
   "execution_count": 45,
   "metadata": {},
   "outputs": [
    {
     "data": {
      "text/plain": [
       "[['arxiv.AstroPh', '18,770', '21.11', '0.631', '4.19', '2.83'],\n",
       " ['arxiv.CondMat', '23,131', '8.08', '0.633', '5.36', '3.11'],\n",
       " ['arxiv.GrQc', '5,240', '5.53', '0.530', '6.05', '2.88'],\n",
       " ['arxiv.HepPh', '12,006', '19.74', '0.611', '4.67', '2.31'],\n",
       " ['arxiv.HepTh', '9,875', '5.26', '0.471', '5.94', '3.28'],\n",
       " ['deezer.HR', '54,573', '18.26', '0.136', '4.50', '3.39'],\n",
       " ['deezer.HU', '47,538', '9.38', '0.116', '5.34', '3.79'],\n",
       " ['deezer.RO', '41,773', '6.02', '0.091', '6.35', '3.70'],\n",
       " ['fb.artist', '50,515', '32.44', '0.138', '3.69', '2.64'],\n",
       " ['fb.athletes', '13,866', '12.53', '0.276', '4.28', '2.85'],\n",
       " ['fb.company', '14,113', '7.41', '0.239', '5.31', '2.97'],\n",
       " ['fb.government', '7,057', '25.35', '0.411', '3.78', '2.58'],\n",
       " ['fb.new_sites', '27,917', '14.78', '0.295', '4.39', '2.85']]"
      ]
     },
     "execution_count": 45,
     "metadata": {},
     "output_type": "execute_result"
    }
   ],
   "source": [
    "REAL_ROWS = []\n",
    "for k, v in sorted(REAL_FLOATS.items(), key=lambda p: p[0]):\n",
    "    row = [k, f\"{len(REAL_GRAPHS[k]) - 2:,}\",] + format_float(v)\n",
    "    REAL_ROWS.append(row)\n"
   ]
  },
  {
   "cell_type": "code",
   "execution_count": 47,
   "metadata": {},
   "outputs": [
    {
     "name": "stdout",
     "output_type": "stream",
     "text": [
      "\\begin{tabular}{llrrrr}\n",
      "\\toprule\n",
      " Net Type      & Params   &   Deg &   Cluster &   Pathlength &   Powerlaw Exp. \\\\\n",
      "\\midrule\n",
      " arxiv.AstroPh & 18,770   & 21.11 &     0.631 &         4.19 &            2.83 \\\\\n",
      " arxiv.CondMat & 23,131   &  8.08 &     0.633 &         5.36 &            3.11 \\\\\n",
      " arxiv.GrQc    & 5,240    &  5.53 &     0.53  &         6.05 &            2.88 \\\\\n",
      " arxiv.HepPh   & 12,006   & 19.74 &     0.611 &         4.67 &            2.31 \\\\\n",
      " arxiv.HepTh   & 9,875    &  5.26 &     0.471 &         5.94 &            3.28 \\\\\n",
      " deezer.HR     & 54,573   & 18.26 &     0.136 &         4.5  &            3.39 \\\\\n",
      " deezer.HU     & 47,538   &  9.38 &     0.116 &         5.34 &            3.79 \\\\\n",
      " deezer.RO     & 41,773   &  6.02 &     0.091 &         6.35 &            3.7  \\\\\n",
      " fb.artist     & 50,515   & 32.44 &     0.138 &         3.69 &            2.64 \\\\\n",
      " fb.athletes   & 13,866   & 12.53 &     0.276 &         4.28 &            2.85 \\\\\n",
      " fb.company    & 14,113   &  7.41 &     0.239 &         5.31 &            2.97 \\\\\n",
      " fb.government & 7,057    & 25.35 &     0.411 &         3.78 &            2.58 \\\\\n",
      " fb.new\\_sites  & 27,917   & 14.78 &     0.295 &         4.39 &            2.85 \\\\\n",
      "\\bottomrule\n",
      "\\end{tabular}\n"
     ]
    }
   ],
   "source": [
    "REAL_HEADERS = ['Name', 'Nodes', 'Deg', 'Cluster', 'Pathlength', 'Powerlaw Exp.']\n",
    "print(tabulate(REAL_ROWS, headers=HEADERS, tablefmt='latex_booktabs').replace('\\$', '$'))"
   ]
  },
  {
   "cell_type": "code",
   "execution_count": null,
   "metadata": {},
   "outputs": [],
   "source": []
  }
 ],
 "metadata": {
  "kernelspec": {
   "display_name": "py3",
   "language": "python",
   "name": "py3"
  },
  "language_info": {
   "codemirror_mode": {
    "name": "ipython",
    "version": 3
   },
   "file_extension": ".py",
   "mimetype": "text/x-python",
   "name": "python",
   "nbconvert_exporter": "python",
   "pygments_lexer": "ipython3",
   "version": "3.6.9"
  }
 },
 "nbformat": 4,
 "nbformat_minor": 4
}
