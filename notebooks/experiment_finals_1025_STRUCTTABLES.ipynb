{
 "cells": [
  {
   "cell_type": "code",
   "execution_count": 1,
   "metadata": {},
   "outputs": [
    {
     "data": {
      "text/html": [
       "\n",
       "\t\t\t<script type=\"text/javascript\">\n",
       "\t\t\t<!--\n",
       "\t\t\t\t\n",
       "\t\t\t{\n",
       "\t\t\t\tvar element = document.getElementById('NetworKit_script');\n",
       "\t\t\t\tif (element) {\n",
       "\t\t\t\t\telement.parentNode.removeChild(element);\n",
       "\t\t\t\t}\n",
       "\t\t\t\telement = document.createElement('script');\n",
       "\t\t\t\telement.type = 'text/javascript';\n",
       "\t\t\t\telement.innerHTML = 'function NetworKit_pageEmbed(id) { var i, j; var elements; elements = document.getElementById(id).getElementsByClassName(\"Plot\"); for (i=0; i<elements.length; i++) { elements[i].id = id + \"_Plot_\" + i; var data = elements[i].getAttribute(\"data-image\").split(\"|\"); elements[i].removeAttribute(\"data-image\"); var content = \"<div class=\\\\\"Image\\\\\" id=\\\\\"\" + elements[i].id + \"_Image\\\\\" />\"; elements[i].innerHTML = content; elements[i].setAttribute(\"data-image-index\", 0); elements[i].setAttribute(\"data-image-length\", data.length); for (j=0; j<data.length; j++) { elements[i].setAttribute(\"data-image-\" + j, data[j]); } NetworKit_plotUpdate(elements[i]); elements[i].onclick = function (e) { NetworKit_overlayShow((e.target) ? e.target : e.srcElement); } } elements = document.getElementById(id).getElementsByClassName(\"HeatCell\"); for (i=0; i<elements.length; i++) { var data = parseFloat(elements[i].getAttribute(\"data-heat\")); var color = \"#00FF00\"; if (data <= 1 && data > 0) { color = \"hsla(0, 100%, 75%, \" + (data) + \")\"; } else if (data <= 0 && data >= -1) { color = \"hsla(240, 100%, 75%, \" + (-data) + \")\"; } elements[i].style.backgroundColor = color; } elements = document.getElementById(id).getElementsByClassName(\"Details\"); for (i=0; i<elements.length; i++) { elements[i].setAttribute(\"data-title\", \"-\"); NetworKit_toggleDetails(elements[i]); elements[i].onclick = function (e) { NetworKit_toggleDetails((e.target) ? e.target : e.srcElement); } } elements = document.getElementById(id).getElementsByClassName(\"MathValue\"); for (i=elements.length-1; i>=0; i--) { value = elements[i].innerHTML.trim(); if (value === \"nan\") { elements[i].parentNode.innerHTML = \"\" } } elements = document.getElementById(id).getElementsByClassName(\"SubCategory\"); for (i=elements.length-1; i>=0; i--) { value = elements[i].innerHTML.trim(); if (value === \"\") { elements[i].parentNode.removeChild(elements[i]) } } elements = document.getElementById(id).getElementsByClassName(\"Category\"); for (i=elements.length-1; i>=0; i--) { value = elements[i].innerHTML.trim(); if (value === \"\") { elements[i].parentNode.removeChild(elements[i]) } } var isFirefox = false; try { isFirefox = typeof InstallTrigger !== \"undefined\"; } catch (e) {} if (!isFirefox) { alert(\"Currently the function\\'s output is only fully supported by Firefox.\"); } } function NetworKit_plotUpdate(source) { var index = source.getAttribute(\"data-image-index\"); var data = source.getAttribute(\"data-image-\" + index); var image = document.getElementById(source.id + \"_Image\"); image.style.backgroundImage = \"url(\" + data + \")\"; } function NetworKit_showElement(id, show) { var element = document.getElementById(id); element.style.display = (show) ? \"block\" : \"none\"; } function NetworKit_overlayShow(source) { NetworKit_overlayUpdate(source); NetworKit_showElement(\"NetworKit_Overlay\", true); } function NetworKit_overlayUpdate(source) { document.getElementById(\"NetworKit_Overlay_Title\").innerHTML = source.title; var index = source.getAttribute(\"data-image-index\"); var data = source.getAttribute(\"data-image-\" + index); var image = document.getElementById(\"NetworKit_Overlay_Image\"); image.setAttribute(\"data-id\", source.id); image.style.backgroundImage = \"url(\" + data + \")\"; var link = document.getElementById(\"NetworKit_Overlay_Toolbar_Bottom_Save\"); link.href = data; link.download = source.title + \".svg\"; } function NetworKit_overlayImageShift(delta) { var image = document.getElementById(\"NetworKit_Overlay_Image\"); var source = document.getElementById(image.getAttribute(\"data-id\")); var index = parseInt(source.getAttribute(\"data-image-index\")); var length = parseInt(source.getAttribute(\"data-image-length\")); var index = (index+delta) % length; if (index < 0) { index = length + index; } source.setAttribute(\"data-image-index\", index); NetworKit_overlayUpdate(source); } function NetworKit_toggleDetails(source) { var childs = source.children; var show = false; if (source.getAttribute(\"data-title\") == \"-\") { source.setAttribute(\"data-title\", \"+\"); show = false; } else { source.setAttribute(\"data-title\", \"-\"); show = true; } for (i=0; i<childs.length; i++) { if (show) { childs[i].style.display = \"block\"; } else { childs[i].style.display = \"none\"; } } }';\n",
       "\t\t\t\telement.setAttribute('id', 'NetworKit_script');\n",
       "\t\t\t\tdocument.head.appendChild(element);\n",
       "\t\t\t}\n",
       "\t\t\n",
       "\t\t\t\t\n",
       "\t\t\t{\n",
       "\t\t\t\tvar element = document.getElementById('NetworKit_style');\n",
       "\t\t\t\tif (element) {\n",
       "\t\t\t\t\telement.parentNode.removeChild(element);\n",
       "\t\t\t\t}\n",
       "\t\t\t\telement = document.createElement('style');\n",
       "\t\t\t\telement.type = 'text/css';\n",
       "\t\t\t\telement.innerHTML = '.NetworKit_Page { font-family: Arial, Helvetica, sans-serif; font-size: 14px; } .NetworKit_Page .Value:before { font-family: Arial, Helvetica, sans-serif; font-size: 1.05em; content: attr(data-title) \":\"; margin-left: -2.5em; padding-right: 0.5em; } .NetworKit_Page .Details .Value:before { display: block; } .NetworKit_Page .Value { font-family: monospace; white-space: pre; padding-left: 2.5em; white-space: -moz-pre-wrap !important; white-space: -pre-wrap; white-space: -o-pre-wrap; white-space: pre-wrap; word-wrap: break-word; tab-size: 4; -moz-tab-size: 4; } .NetworKit_Page .Category { clear: both; padding-left: 1em; margin-bottom: 1.5em; } .NetworKit_Page .Category:before { content: attr(data-title); font-size: 1.75em; display: block; margin-left: -0.8em; margin-bottom: 0.5em; } .NetworKit_Page .SubCategory { margin-bottom: 1.5em; padding-left: 1em; } .NetworKit_Page .SubCategory:before { font-size: 1.6em; display: block; margin-left: -0.8em; margin-bottom: 0.5em; } .NetworKit_Page .SubCategory[data-title]:before { content: attr(data-title); } .NetworKit_Page .Block { display: block; } .NetworKit_Page .Block:after { content: \".\"; visibility: hidden; display: block; height: 0; clear: both; } .NetworKit_Page .Block .Thumbnail_Overview, .NetworKit_Page .Block .Thumbnail_ScatterPlot { width: 260px; float: left; } .NetworKit_Page .Block .Thumbnail_Overview img, .NetworKit_Page .Block .Thumbnail_ScatterPlot img { width: 260px; } .NetworKit_Page .Block .Thumbnail_Overview:before, .NetworKit_Page .Block .Thumbnail_ScatterPlot:before { display: block; text-align: center; font-weight: bold; } .NetworKit_Page .Block .Thumbnail_Overview:before { content: attr(data-title); } .NetworKit_Page .HeatCell { font-family: \"Courier New\", Courier, monospace; cursor: pointer; } .NetworKit_Page .HeatCell, .NetworKit_Page .HeatCellName { display: inline; padding: 0.1em; margin-right: 2px; background-color: #FFFFFF } .NetworKit_Page .HeatCellName { margin-left: 0.25em; } .NetworKit_Page .HeatCell:before { content: attr(data-heat); display: inline-block; color: #000000; width: 4em; text-align: center; } .NetworKit_Page .Measure { clear: both; } .NetworKit_Page .Measure .Details { cursor: pointer; } .NetworKit_Page .Measure .Details:before { content: \"[\" attr(data-title) \"]\"; display: block; } .NetworKit_Page .Measure .Details .Value { border-left: 1px dotted black; margin-left: 0.4em; padding-left: 3.5em; pointer-events: none; } .NetworKit_Page .Measure .Details .Spacer:before { content: \".\"; opacity: 0.0; pointer-events: none; } .NetworKit_Page .Measure .Plot { width: 440px; height: 440px; cursor: pointer; float: left; margin-left: -0.9em; margin-right: 20px; } .NetworKit_Page .Measure .Plot .Image { background-repeat: no-repeat; background-position: center center; background-size: contain; height: 100%; pointer-events: none; } .NetworKit_Page .Measure .Stat { width: 500px; float: left; } .NetworKit_Page .Measure .Stat .Group { padding-left: 1.25em; margin-bottom: 0.75em; } .NetworKit_Page .Measure .Stat .Group .Title { font-size: 1.1em; display: block; margin-bottom: 0.3em; margin-left: -0.75em; border-right-style: dotted; border-right-width: 1px; border-bottom-style: dotted; border-bottom-width: 1px; background-color: #D0D0D0; padding-left: 0.2em; } .NetworKit_Page .Measure .Stat .Group .List { -webkit-column-count: 3; -moz-column-count: 3; column-count: 3; } .NetworKit_Page .Measure .Stat .Group .List .Entry { position: relative; line-height: 1.75em; } .NetworKit_Page .Measure .Stat .Group .List .Entry[data-tooltip]:before { position: absolute; left: 0; top: -40px; background-color: #808080; color: #ffffff; height: 30px; line-height: 30px; border-radius: 5px; padding: 0 15px; content: attr(data-tooltip); white-space: nowrap; display: none; } .NetworKit_Page .Measure .Stat .Group .List .Entry[data-tooltip]:after { position: absolute; left: 15px; top: -10px; border-top: 7px solid #808080; border-left: 7px solid transparent; border-right: 7px solid transparent; content: \"\"; display: none; } .NetworKit_Page .Measure .Stat .Group .List .Entry[data-tooltip]:hover:after, .NetworKit_Page .Measure .Stat .Group .List .Entry[data-tooltip]:hover:before { display: block; } .NetworKit_Page .Measure .Stat .Group .List .Entry .MathValue { font-family: \"Courier New\", Courier, monospace; } .NetworKit_Page .Measure:after { content: \".\"; visibility: hidden; display: block; height: 0; clear: both; } .NetworKit_Page .PartitionPie { clear: both; } .NetworKit_Page .PartitionPie img { width: 600px; } #NetworKit_Overlay { left: 0px; top: 0px; display: none; position: absolute; width: 100%; height: 100%; background-color: rgba(0,0,0,0.6); z-index: 1000; } #NetworKit_Overlay_Title { position: absolute; color: white; transform: rotate(-90deg); width: 32em; height: 32em; padding-right: 0.5em; padding-top: 0.5em; text-align: right; font-size: 40px; } #NetworKit_Overlay .button { background: white; cursor: pointer; } #NetworKit_Overlay .button:before { size: 13px; display: inline-block; text-align: center; margin-top: 0.5em; margin-bottom: 0.5em; width: 1.5em; height: 1.5em; } #NetworKit_Overlay .icon-close:before { content: \"X\"; } #NetworKit_Overlay .icon-previous:before { content: \"P\"; } #NetworKit_Overlay .icon-next:before { content: \"N\"; } #NetworKit_Overlay .icon-save:before { content: \"S\"; } #NetworKit_Overlay_Toolbar_Top, #NetworKit_Overlay_Toolbar_Bottom { position: absolute; width: 40px; right: 13px; text-align: right; z-index: 1100; } #NetworKit_Overlay_Toolbar_Top { top: 0.5em; } #NetworKit_Overlay_Toolbar_Bottom { Bottom: 0.5em; } #NetworKit_Overlay_ImageContainer { position: absolute; top: 5%; left: 5%; height: 90%; width: 90%; background-repeat: no-repeat; background-position: center center; background-size: contain; } #NetworKit_Overlay_Image { height: 100%; width: 100%; background-repeat: no-repeat; background-position: center center; background-size: contain; }';\n",
       "\t\t\t\telement.setAttribute('id', 'NetworKit_style');\n",
       "\t\t\t\tdocument.head.appendChild(element);\n",
       "\t\t\t}\n",
       "\t\t\n",
       "\t\t\t\t\n",
       "\t\t\t{\n",
       "\t\t\t\tvar element = document.getElementById('NetworKit_Overlay');\n",
       "\t\t\t\tif (element) {\n",
       "\t\t\t\t\telement.parentNode.removeChild(element);\n",
       "\t\t\t\t}\n",
       "\t\t\t\telement = document.createElement('div');\n",
       "\t\t\t\telement.innerHTML = '<div id=\"NetworKit_Overlay_Toolbar_Top\"><div class=\"button icon-close\" id=\"NetworKit_Overlay_Close\" /></div><div id=\"NetworKit_Overlay_Title\" /> <div id=\"NetworKit_Overlay_ImageContainer\"> <div id=\"NetworKit_Overlay_Image\" /> </div> <div id=\"NetworKit_Overlay_Toolbar_Bottom\"> <div class=\"button icon-previous\" onclick=\"NetworKit_overlayImageShift(-1)\" /> <div class=\"button icon-next\" onclick=\"NetworKit_overlayImageShift(1)\" /> <a id=\"NetworKit_Overlay_Toolbar_Bottom_Save\"><div class=\"button icon-save\" /></a> </div>';\n",
       "\t\t\t\telement.setAttribute('id', 'NetworKit_Overlay');\n",
       "\t\t\t\tdocument.body.appendChild(element);\n",
       "\t\t\t\tdocument.getElementById('NetworKit_Overlay_Close').onclick = function (e) {\n",
       "\t\t\t\t\tdocument.getElementById('NetworKit_Overlay').style.display = 'none';\n",
       "\t\t\t\t}\n",
       "\t\t\t}\n",
       "\t\t\n",
       "\t\t\t-->\n",
       "\t\t\t</script>\n",
       "\t\t"
      ]
     },
     "metadata": {},
     "output_type": "display_data"
    }
   ],
   "source": [
    "import sys\n",
    "sys.path.append('..')\n",
    "import quarantines as Q\n",
    "import quarantines_mongo as qm\n",
    "import graph_generators as gg \n",
    "import networkx as nx \n",
    "import networkit as nk\n",
    "import pymongo\n",
    "import pickle\n",
    "import numpy as np\n",
    "import matplotlib.pyplot as plt\n",
    "import seaborn as sns\n",
    "from prettytable import PrettyTable\n",
    "from tabulate import tabulate\n",
    "from scipy import stats\n",
    "from pprint import pprint\n",
    "import os \n",
    "import random\n",
    "import experiment_helpers as eh\n",
    "import utils\n",
    "sns.set()"
   ]
  },
  {
   "cell_type": "code",
   "execution_count": 5,
   "metadata": {},
   "outputs": [],
   "source": [
    "data = eh.gather_data()"
   ]
  },
  {
   "cell_type": "code",
   "execution_count": 6,
   "metadata": {},
   "outputs": [
    {
     "data": {
      "text/plain": [
       "dict_keys(['ba10_2Q', 'fb_artist_2Q'])"
      ]
     },
     "execution_count": 6,
     "metadata": {},
     "output_type": "execute_result"
    }
   ],
   "source": []
  },
  {
   "cell_type": "code",
   "execution_count": 3,
   "metadata": {},
   "outputs": [],
   "source": [
    "### FIRST MAKE TABLE FOR SYNTHETIC GRAPH SUMMARY\n",
    "# Want row to have \n",
    "# {Type, Parameter, ogQ, bestQ-deg, perc-change, og-sp, bestQ-sp, perc-change}\n",
    "# ROWS: BA5, BA10, PLC5, PLC10, RW, NN, WS\n",
    "SYNTH_GRAPHS = {_: eh.parse_data_name(_) for _ in [_ for _ in data if _.endswith('_0.5')]}\n",
    "\n",
    "def get_perc_change(x1, x2):\n",
    "    return (x2-x1) / x1\n",
    "    \n",
    "def get_change_summary(data, name):\n",
    "    # Gets change of {cc, avg_deg, shortest path, powerlaw exponent}\n",
    "    # Returns dict of {'avg_deg', 'sp'}\n",
    "    # where each has values of [og, bestQ, perc_change]\n",
    "    \n",
    "    og_graph = eh.parse_data_name(name)\n",
    "    min_r_graph = eh.get_minR_graph(data, name)\n",
    "    \n",
    "    og_avg = utils.avg_deg(og_graph)\n",
    "    og_sp = utils.avg_shortest_path(og_graph)\n",
    "    \n",
    "    avg = utils.avg_deg(min_r_graph)\n",
    "    sp = utils.avg_shortest_path(min_r_graph)\n",
    "    \n",
    "    return {'avg_deg': [og_avg, avg, get_perc_change(og_avg, avg)], \n",
    "            'sp': [og_sp, sp, get_perc_change(og_sp, sp)]}\n",
    "\n",
    "def make_row_floats(rowdict):\n",
    "    output = format_trip(rowdict['avg_deg']) + format_trip(rowdict['sp'])\n",
    "    return output\n",
    "    \n",
    "def format_trip(trip):\n",
    "    output = [] \n",
    "    output.append('%.2f' % trip[0])\n",
    "    output.append('%.2f' % trip[1])\n",
    "    output.append(('+' if trip[2] > 0 else '') +  \"{:.2%}\".format(trip[2]))\n",
    "    return output\n",
    "\n",
    "def get_row(name):\n",
    "    return make_row_floats(get_change_summary(data, name))\n",
    "    "
   ]
  },
  {
   "cell_type": "code",
   "execution_count": 4,
   "metadata": {},
   "outputs": [
    {
     "data": {
      "text/plain": [
       "dict_keys(['ba10', 'ba5', 'plc10.25', 'plc5.5', 'rw.91.94', 'nn.886', 'ws10.05', 'fb.artist', 'fb.athletes', 'fb.company', 'fb.new_sites', 'fb.government', 'deezer.RO', 'deezer.HR', 'deezer.HU', 'arxiv.AstroPh', 'arxiv.CondMat', 'arxiv.HepPh', 'arxiv.GrQc', 'arxiv.HepTh', 'hiv50R1', 'hiv50R3', 'hiv50R5', 'hs5_10', 'hs15_10', 'hs30_10', 'hs60_10', 'plc_5_0.5_0.03125', 'ba_5_0.25', 'ws_10_0.05_0.125', 'plc_5_0.5_0.25', 'ws_10_0.05_0.03125', 'plc_5_0.5_0.0625', 'ba_5_0.0625', 'ba_10_0.03125', 'ws_10_0.05_0.25', 'ba_5_0.03125', 'ws_10_0.05_2', 'rw_0.91_0.94_0.03125', 'ws_10_0.05_0.0625', 'rw_0.91_0.94_0.125', 'ba_5_0.125', 'ws_10_0.05_1', 'ws_10_0.05_0.5', 'plc_10_0.25_0.03125', 'ba_5_1', 'plc_5_0.5_0.125', 'rw_0.91_0.94_0.0625', 'ba_5_0.5', 'ws_10_0.05_4', 'ba_10_0.0625', 'plc_10_0.25_0.125', 'ws_10_0.05_8', 'ba_5_2', 'nn_0.88_6_0.03125', 'rw_0.91_0.94_0.25', 'ba_5_8', 'plc_5_0.5_2', 'ba_10_0.25', 'plc_5_0.5_0.5', 'ba_10_2', 'ba_5_4', 'plc_5_0.5_8', 'plc_5_0.5_1', 'ba_10_0.125', 'plc_10_0.25_0.0625', 'ba_10_4', 'plc_5_0.5_4', 'ba_10_0.5', 'ba_10_1', 'rw_0.91_0.94_8', 'rw_0.91_0.94_0.5', 'plc_10_0.25_4', 'plc_10_0.25_0.25', 'plc_10_0.25_0.5', 'rw_0.91_0.94_1', 'ba_10_8', 'rw_0.91_0.94_2', 'rw_0.91_0.94_4', 'plc_10_0.25_1', 'nn_0.88_6_0.0625', 'plc_10_0.25_2', 'nn_0.88_6_0.125', 'nn_0.88_6_0.25', 'plc_10_0.25_8', 'nn_0.88_6_1', 'nn_0.88_6_0.5', 'nn_0.88_6_2', 'nn_0.88_6_4', 'nn_0.88_6_8', 'gemsec_fb_company_rHalf', 'gemsec_fb_athletes_rHalf', 'arxiv_GrQc_rHalf', 'arxiv_HepTh_rHalf', 'gemsec_fb_government_rHalf', 'arxiv_HepPh_rHalf', 'arxiv_CondMat_rHalf', 'gemsec_deezer_RO_rHalf', 'arxiv_AstroPh_rHalf', 'gemsec_fb_new_sites_rHalf', 'gemsec_deezer_HU_rHalf', 'gemsec_fb_ARTIST_R_0.03125', 'gemsec_deezer_HR_rHalf', 'gemsec_fb_ARTIST_R_0.0625', 'gemsec_fb_ARTIST_R_0.125', 'gemsec_fb_ARTIST_R_0.25', 'gemsec_fb_artist_rHalf', 'gemsec_fb_ARTIST_R_0.5', 'gemsec_fb_ARTIST_R_1', 'gemsec_fb_ARTIST_R_2', 'gemsec_fb_ARTIST_R_16', 'gemsec_fb_ARTIST_R_4', 'gemsec_fb_ARTIST_R_32', 'gemsec_fb_ARTIST_R_8', 'fbartist_bigiter', 'ba10_bigiter'])"
      ]
     },
     "execution_count": 4,
     "metadata": {},
     "output_type": "execute_result"
    }
   ],
   "source": [
    "data.keys()"
   ]
  },
  {
   "cell_type": "code",
   "execution_count": null,
   "metadata": {},
   "outputs": [],
   "source": [
    "row_strs = []\n",
    "row_strs.append(['BA', '($m=5$)'] + get_row('ba_5_8'))\n",
    "row_strs.append(['BA', '($m=10$)'] + get_row('ba_10_8'))\n",
    "row_strs.append(['NN', '($u=0.88, k=6$)'] + get_row('nn_0.88_6_8'))\n",
    "row_strs.append(['PLC', '($m=5, p=0.5$)'] + get_row('plc_5_0.5_8'))\n",
    "row_strs.append(['PLC', '($m=10, p=0.25$)'] + get_row('plc_10_0.25_8'))\n",
    "row_strs.append(['RW', '($q_e=0.91, q_v=0.94$)'] + get_row('rw_0.91_0.94_8'))\n",
    "row_strs.append(['WS', '($k=10, p=0.05$)'] + get_row('ws_10_0.05_8'))\n",
    "\n"
   ]
  },
  {
   "cell_type": "code",
   "execution_count": null,
   "metadata": {},
   "outputs": [],
   "source": [
    "HEADERS = ['Net Type', 'Params', 'Deg', 'Deg\\'', '% Change', 'S.P.', 'S.P\\'', '% Change']\n",
    "print(tabulate(row_strs, headers=HEADERS, tablefmt='latex_booktabs').replace('\\$', '$'))"
   ]
  },
  {
   "cell_type": "code",
   "execution_count": null,
   "metadata": {},
   "outputs": [],
   "source": [
    "REAL_GRAPHS = [_ for _ in data.keys() if _.startswith('arxiv') \n",
    "                             or _.startswith('fb')\n",
    "                             or _.startswith('deezer')]\n",
    "\n"
   ]
  },
  {
   "cell_type": "code",
   "execution_count": null,
   "metadata": {},
   "outputs": [],
   "source": [
    "REAL_ROWS = []\n",
    "print(REAL_GRAPHS)\n",
    "for k in sorted(REAL_GRAPHS):\n",
    "    print(k)\n",
    "    row = [k] + get_row(k)\n",
    "    REAL_ROWS.append(row)"
   ]
  },
  {
   "cell_type": "code",
   "execution_count": null,
   "metadata": {},
   "outputs": [],
   "source": [
    "HEADERS = ['Net Type', 'Deg', 'Deg\\'', '% Change', 'S.P.', 'S.P\\'', '% Change']\n",
    "print(tabulate(REAL_ROWS, headers=HEADERS, tablefmt='latex_booktabs').replace('\\$', '$'))"
   ]
  },
  {
   "cell_type": "code",
   "execution_count": null,
   "metadata": {},
   "outputs": [],
   "source": []
  },
  {
   "cell_type": "code",
   "execution_count": null,
   "metadata": {},
   "outputs": [],
   "source": [
    "    \n",
    "def get_change_summary(data, name):\n",
    "    # Gets change of {cc, avg_deg, shortest path, powerlaw exponent}\n",
    "    # Returns dict of {'avg_deg', 'sp'}\n",
    "    # where each has values of [og, bestQ, perc_change]\n",
    "    \n",
    "    og_graph = eh.parse_data_name(name)\n",
    "    min_r_graph = eh.get_minR_graph(data, name)\n",
    "    \n",
    "    og_avg = utils.avg_deg(og_graph)\n",
    "    og_sp = utils.avg_shortest_path(og_graph)\n",
    "    \n",
    "    avg = utils.avg_deg(min_r_graph)\n",
    "    sp = utils.avg_shortest_path(min_r_graph)\n",
    "    \n",
    "    return {'avg_deg': [og_avg, avg, get_perc_change(og_avg, avg)], \n",
    "            'sp': [og_sp, sp, get_perc_change(og_sp, sp)]}\n",
    "\n"
   ]
  },
  {
   "cell_type": "code",
   "execution_count": null,
   "metadata": {},
   "outputs": [],
   "source": [
    "get_change_summary(data, 'ba_10_0.5')\n"
   ]
  },
  {
   "cell_type": "code",
   "execution_count": null,
   "metadata": {},
   "outputs": [],
   "source": [
    "row_strs = []\n",
    "row_strs.append(['BA', '($m=5$)'] + format_float(SYNTH_FLOATS['ba_5_8']))\n",
    "row_strs.append(['BA', '($m=10$)'] + format_float(SYNTH_FLOATS['ba_10_8']))\n",
    "row_strs.append(['NN', '($u=0.88, k=6$)'] + format_float(SYNTH_FLOATS['nn_0.88_6_8']))\n",
    "row_strs.append(['PLC', '($m=5, p=0.5$)'] + format_float(SYNTH_FLOATS['plc_5_0.5_8']))\n",
    "row_strs.append(['PLC', '($m=10, p=0.25$)'] + format_float(SYNTH_FLOATS['plc_10_0.25_8']))\n",
    "row_strs.append(['RW', '($q_e=0.91, q_v=0.94$)'] + format_float(SYNTH_FLOATS['rw_0.91_0.94_8']))\n",
    "row_strs.append(['WS', '($k=10, p=0.05$)'] + format_float(SYNTH_FLOATS['ws_10_0.05_8']))\n",
    "\n"
   ]
  },
  {
   "cell_type": "code",
   "execution_count": null,
   "metadata": {},
   "outputs": [],
   "source": [
    "HEADERS = ['Net Type', 'Params', 'Deg', 'Cluster', 'Pathlength', 'Powerlaw Exp.']\n",
    "print(tabulate(row_strs, headers=HEADERS, tablefmt='latex_booktabs').replace('\\$', '$'))"
   ]
  },
  {
   "cell_type": "code",
   "execution_count": null,
   "metadata": {},
   "outputs": [],
   "source": [
    "### NEXT MAKE TABLE FOR REAL GRAPH SUMMARY\n",
    "# Want row to have \n",
    "# {Name, N, Average Degree, Clustering, Avg Shortest Path, Powerlaw Exponent}\n",
    "REAL_GRAPHS = {_: eh.parse_data_name(_) for _ in \n",
    "                              [_ for _ in data.keys() if _.startswith('arxiv') \n",
    "                                                      or _.startswith('fb')\n",
    "                                                      or _.startswith('deezer')]}"
   ]
  },
  {
   "cell_type": "code",
   "execution_count": null,
   "metadata": {},
   "outputs": [],
   "source": [
    "REAL_FLOATS = {k: make_row_floats(v) for k,v in REAL_GRAPHS.items()}"
   ]
  },
  {
   "cell_type": "code",
   "execution_count": null,
   "metadata": {},
   "outputs": [],
   "source": []
  },
  {
   "cell_type": "code",
   "execution_count": null,
   "metadata": {},
   "outputs": [],
   "source": [
    "REAL_ROWS = []\n",
    "for k, v in sorted(REAL_FLOATS.items(), key=lambda p: p[0]):\n",
    "    row = [k, f\"{len(REAL_GRAPHS[k]) - 2:,}\",] + format_float(v)\n",
    "    REAL_ROWS.append(row)\n"
   ]
  },
  {
   "cell_type": "code",
   "execution_count": null,
   "metadata": {},
   "outputs": [],
   "source": [
    "REAL_HEADERS = ['Name', 'Nodes', 'Deg', 'Cluster', 'Pathlength', 'Powerlaw Exp.']\n",
    "print(tabulate(REAL_ROWS, headers=HEADERS, tablefmt='latex_booktabs').replace('\\$', '$'))"
   ]
  },
  {
   "cell_type": "code",
   "execution_count": null,
   "metadata": {},
   "outputs": [],
   "source": []
  }
 ],
 "metadata": {
  "kernelspec": {
   "display_name": "py3",
   "language": "python",
   "name": "py3"
  },
  "language_info": {
   "codemirror_mode": {
    "name": "ipython",
    "version": 3
   },
   "file_extension": ".py",
   "mimetype": "text/x-python",
   "name": "python",
   "nbconvert_exporter": "python",
   "pygments_lexer": "ipython3",
   "version": "3.6.9"
  }
 },
 "nbformat": 4,
 "nbformat_minor": 4
}
