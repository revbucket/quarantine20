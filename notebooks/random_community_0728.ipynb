{
 "cells": [
  {
   "cell_type": "code",
   "execution_count": 3,
   "metadata": {},
   "outputs": [],
   "source": [
    "import sys \n",
    "sys.path.append('..')\n",
    "import networkx as nx\n",
    "\n",
    "import random_modular_generator_variable_modules as rmg\n",
    "import sequence_generator as sg \n",
    "import quarantines as Q"
   ]
  },
  {
   "cell_type": "code",
   "execution_count": 4,
   "metadata": {},
   "outputs": [],
   "source": [
    "# Test sequence:\n",
    "N = 2000\n",
    "d = 3\n",
    "m = 10\n",
    "modularity = 0.01\n",
    "\n",
    "degfunction = sg.scalefree_sequence\n",
    "modfunction = sg.regular_sequence"
   ]
  },
  {
   "cell_type": "code",
   "execution_count": 9,
   "metadata": {},
   "outputs": [
    {
     "name": "stdout",
     "output_type": "stream",
     "text": [
      "Generating a simple poisson random modular graph with modularity(Q)= 0.85\n",
      "Graph has 1000 nodes, 10 modules, and a network mean degree of 10\n",
      "Generating graph.....\n",
      "generating degree lists......\n"
     ]
    },
    {
     "ename": "NetworkXError",
     "evalue": "Exceeded max (1000) attempts at a valid sequence.",
     "output_type": "error",
     "traceback": [
      "\u001b[0;31m---------------------------------------------------------------------------\u001b[0m",
      "\u001b[0;31mNetworkXError\u001b[0m                             Traceback (most recent call last)",
      "\u001b[0;32m<ipython-input-9-51e2b9ea72fb>\u001b[0m in \u001b[0;36m<module>\u001b[0;34m\u001b[0m\n\u001b[1;32m     18\u001b[0m \u001b[0mprint\u001b[0m\u001b[0;34m(\u001b[0m\u001b[0;34m\"Graph has \"\u001b[0m \u001b[0;34m+\u001b[0m \u001b[0mstr\u001b[0m\u001b[0;34m(\u001b[0m\u001b[0mN\u001b[0m\u001b[0;34m)\u001b[0m \u001b[0;34m+\u001b[0m \u001b[0;34m\" nodes, \"\u001b[0m \u001b[0;34m+\u001b[0m\u001b[0mstr\u001b[0m\u001b[0;34m(\u001b[0m\u001b[0mm\u001b[0m\u001b[0;34m)\u001b[0m\u001b[0;34m+\u001b[0m \u001b[0;34m\" modules, and a network mean degree of \"\u001b[0m \u001b[0;34m+\u001b[0m \u001b[0mstr\u001b[0m\u001b[0;34m(\u001b[0m\u001b[0md\u001b[0m\u001b[0;34m)\u001b[0m\u001b[0;34m)\u001b[0m\u001b[0;34m\u001b[0m\u001b[0;34m\u001b[0m\u001b[0m\n\u001b[1;32m     19\u001b[0m \u001b[0mprint\u001b[0m\u001b[0;34m(\u001b[0m\u001b[0;34m\"Generating graph.....\"\u001b[0m\u001b[0;34m)\u001b[0m\u001b[0;34m\u001b[0m\u001b[0;34m\u001b[0m\u001b[0m\n\u001b[0;32m---> 20\u001b[0;31m \u001b[0mG\u001b[0m \u001b[0;34m=\u001b[0m \u001b[0mrmg\u001b[0m\u001b[0;34m.\u001b[0m\u001b[0mgenerate_modular_networks\u001b[0m\u001b[0;34m(\u001b[0m\u001b[0mN\u001b[0m\u001b[0;34m,\u001b[0m \u001b[0msfunction\u001b[0m\u001b[0;34m,\u001b[0m \u001b[0mmodfunction\u001b[0m\u001b[0;34m,\u001b[0m \u001b[0mQ\u001b[0m\u001b[0;34m,\u001b[0m \u001b[0mm\u001b[0m\u001b[0;34m,\u001b[0m \u001b[0md\u001b[0m\u001b[0;34m,\u001b[0m \u001b[0mverbose\u001b[0m\u001b[0;34m=\u001b[0m\u001b[0;32mTrue\u001b[0m\u001b[0;34m)\u001b[0m\u001b[0;34m\u001b[0m\u001b[0;34m\u001b[0m\u001b[0m\n\u001b[0m\u001b[1;32m     21\u001b[0m \u001b[0;31m#nx.write_graphml(G, \"random_modular_graph_Q\"+str(Q)+\"_N\"+str(N)+\"_d\"+str(d)+\"_m\"+str(m)+\".graphml\")\u001b[0m\u001b[0;34m\u001b[0m\u001b[0;34m\u001b[0m\u001b[0;34m\u001b[0m\u001b[0m\n\u001b[1;32m     22\u001b[0m \u001b[0mnx\u001b[0m\u001b[0;34m.\u001b[0m\u001b[0mwrite_graphml\u001b[0m\u001b[0;34m(\u001b[0m\u001b[0mG\u001b[0m\u001b[0;34m,\u001b[0m \u001b[0;34m\"random_graph_poisson_N\"\u001b[0m\u001b[0;34m+\u001b[0m\u001b[0mstr\u001b[0m\u001b[0;34m(\u001b[0m\u001b[0mN\u001b[0m\u001b[0;34m)\u001b[0m\u001b[0;34m+\u001b[0m\u001b[0;34m\"_d\"\u001b[0m\u001b[0;34m+\u001b[0m\u001b[0mstr\u001b[0m\u001b[0;34m(\u001b[0m\u001b[0md\u001b[0m\u001b[0;34m)\u001b[0m\u001b[0;34m+\u001b[0m\u001b[0;34m\".graphml\"\u001b[0m\u001b[0;34m)\u001b[0m\u001b[0;34m\u001b[0m\u001b[0;34m\u001b[0m\u001b[0m\n",
      "\u001b[0;32m~/grad/quarantine20/random_modular_generator_variable_modules.py\u001b[0m in \u001b[0;36mgenerate_modular_networks\u001b[0;34m(N, sfunction, modfunction, Q, m, avg_degree, verbose, **kwds)\u001b[0m\n\u001b[1;32m     82\u001b[0m             \u001b[0mprint\u001b[0m \u001b[0;34m(\u001b[0m\u001b[0;34m\"generating degree lists......\"\u001b[0m\u001b[0;34m)\u001b[0m\u001b[0;34m\u001b[0m\u001b[0;34m\u001b[0m\u001b[0m\n\u001b[1;32m     83\u001b[0m             \u001b[0;31m#assigns total-degree to each node\u001b[0m\u001b[0;34m\u001b[0m\u001b[0;34m\u001b[0m\u001b[0;34m\u001b[0m\u001b[0m\n\u001b[0;32m---> 84\u001b[0;31m             \u001b[0mdegree_list\u001b[0m \u001b[0;34m=\u001b[0m \u001b[0mcreate_total_degree_sequence\u001b[0m \u001b[0;34m(\u001b[0m\u001b[0mN\u001b[0m\u001b[0;34m,\u001b[0m \u001b[0msfunction\u001b[0m\u001b[0;34m,\u001b[0m \u001b[0mavg_degree\u001b[0m\u001b[0;34m,\u001b[0m \u001b[0mmod_nodes\u001b[0m\u001b[0;34m,\u001b[0m \u001b[0;36m0.01\u001b[0m\u001b[0;34m*\u001b[0m\u001b[0mtol\u001b[0m\u001b[0;34m,\u001b[0m \u001b[0mmax_tries\u001b[0m\u001b[0;34m=\u001b[0m\u001b[0;36m1000\u001b[0m\u001b[0;34m,\u001b[0m \u001b[0;34m**\u001b[0m\u001b[0mkwds\u001b[0m\u001b[0;34m)\u001b[0m\u001b[0;34m\u001b[0m\u001b[0;34m\u001b[0m\u001b[0m\n\u001b[0m\u001b[1;32m     85\u001b[0m \u001b[0;34m\u001b[0m\u001b[0m\n\u001b[1;32m     86\u001b[0m \u001b[0;34m\u001b[0m\u001b[0m\n",
      "\u001b[0;32m~/grad/quarantine20/random_modular_generator_variable_modules.py\u001b[0m in \u001b[0;36mcreate_total_degree_sequence\u001b[0;34m(n, sfunction, avg_degree, mod_nodes, tolerance, max_tries, **kwds)\u001b[0m\n\u001b[1;32m    183\u001b[0m             \u001b[0;32mif\u001b[0m \u001b[0;34m(\u001b[0m\u001b[0mtries\u001b[0m \u001b[0;34m>\u001b[0m \u001b[0mmax_tries\u001b[0m\u001b[0;34m)\u001b[0m\u001b[0;34m:\u001b[0m\u001b[0;34m\u001b[0m\u001b[0;34m\u001b[0m\u001b[0m\n\u001b[1;32m    184\u001b[0m                 raise nx.NetworkXError(\n\u001b[0;32m--> 185\u001b[0;31m                  \"Exceeded max (%d) attempts at a valid sequence.\"%max_tries)\n\u001b[0m\u001b[1;32m    186\u001b[0m \u001b[0;34m\u001b[0m\u001b[0m\n\u001b[1;32m    187\u001b[0m         \u001b[0mseqlist\u001b[0m\u001b[0;34m.\u001b[0m\u001b[0mappend\u001b[0m\u001b[0;34m(\u001b[0m\u001b[0mseq\u001b[0m\u001b[0;34m)\u001b[0m\u001b[0;34m\u001b[0m\u001b[0;34m\u001b[0m\u001b[0m\n",
      "\u001b[0;31mNetworkXError\u001b[0m: Exceeded max (1000) attempts at a valid sequence."
     ]
    }
   ],
   "source": [
    "# Enter the network size(N), average network degree (d), total modules in the network (m), and modularity (Q)\n",
    "N= 1000\n",
    "d= 10\n",
    "m= 10\n",
    "Q= 0.85\n",
    "\n",
    "# specify the degree distribution of the graph. In it's current format the code can generate\n",
    "# four well known degree distribution found in biological networks - scalefree, geometric, poisson and regular distribution\n",
    "sfunction = sg.scalefree_sequence\n",
    "\n",
    "# specify the distribution of module size. The distribution can be scalefree, geometric, poisson and regular distribution (or any aribtrary sequence)\n",
    "#in it's simplest form speicify module size tp be regular which implies that all modules are of equal size\n",
    "modfunction = sg.regular_sequence\n",
    "\n",
    "# generate the graph! \n",
    "\n",
    "print(\"Generating a simple poisson random modular graph with modularity(Q)= \" + str(Q))\n",
    "print(\"Graph has \" + str(N) + \" nodes, \" +str(m)+ \" modules, and a network mean degree of \" + str(d))\n",
    "print(\"Generating graph.....\")\n",
    "G = rmg.generate_modular_networks(N, sfunction, modfunction, Q, m, d, verbose=True)\n",
    "#nx.write_graphml(G, \"random_modular_graph_Q\"+str(Q)+\"_N\"+str(N)+\"_d\"+str(d)+\"_m\"+str(m)+\".graphml\")\n",
    "nx.write_graphml(G, \"random_graph_poisson_N\"+str(N)+\"_d\"+str(d)+\".graphml\")\n"
   ]
  },
  {
   "cell_type": "code",
   "execution_count": null,
   "metadata": {},
   "outputs": [],
   "source": [
    "G = rmg.generate_modular_networks(N, degfunction, modfunction, modularity, m, d)"
   ]
  },
  {
   "cell_type": "code",
   "execution_count": null,
   "metadata": {},
   "outputs": [],
   "source": [
    "tmax = float('inf')\n",
    "iterations = 5  #run 5 simulations\n",
    "tau = 0.15        #transmission rate\n",
    "gamma = 1.0    #recovery rate\n",
    "rho = 0.005     #random fraction initially infected"
   ]
  },
  {
   "cell_type": "code",
   "execution_count": null,
   "metadata": {},
   "outputs": [],
   "source": [
    "rho * N"
   ]
  },
  {
   "cell_type": "code",
   "execution_count": null,
   "metadata": {},
   "outputs": [],
   "source": [
    "Q.plot_vanilla_run(G, tau, gamma, rho=rho, tmax=tmax, num_iter=10)"
   ]
  },
  {
   "cell_type": "code",
   "execution_count": null,
   "metadata": {},
   "outputs": [],
   "source": []
  },
  {
   "cell_type": "code",
   "execution_count": null,
   "metadata": {},
   "outputs": [],
   "source": []
  }
 ],
 "metadata": {
  "kernelspec": {
   "display_name": "Python 3",
   "language": "python",
   "name": "python3"
  },
  "language_info": {
   "codemirror_mode": {
    "name": "ipython",
    "version": 3
   },
   "file_extension": ".py",
   "mimetype": "text/x-python",
   "name": "python",
   "nbconvert_exporter": "python",
   "pygments_lexer": "ipython3",
   "version": "3.6.9"
  }
 },
 "nbformat": 4,
 "nbformat_minor": 4
}
