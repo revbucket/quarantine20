{
 "cells": [
  {
   "cell_type": "code",
   "execution_count": 17,
   "metadata": {},
   "outputs": [],
   "source": [
    "import torch \n",
    "import torch.nn as nn\n",
    "import matplotlib.pyplot as plt "
   ]
  },
  {
   "cell_type": "code",
   "execution_count": 24,
   "metadata": {},
   "outputs": [
    {
     "data": {
      "text/plain": [
       "(array([  1.,   0.,   0.,   2.,   4.,   3.,   9.,  26.,  29.,  28.,  60.,\n",
       "         71.,  92.,  96., 109., 120., 100.,  75.,  62.,  48.,  23.,  29.,\n",
       "         10.,   2.,   1.]),\n",
       " array([0.4768627 , 0.48379245, 0.49072218, 0.49765193, 0.5045817 ,\n",
       "        0.51151145, 0.51844114, 0.5253709 , 0.53230065, 0.5392304 ,\n",
       "        0.54616016, 0.5530899 , 0.5600196 , 0.56694937, 0.5738791 ,\n",
       "        0.5808089 , 0.58773863, 0.5946683 , 0.6015981 , 0.60852784,\n",
       "        0.6154576 , 0.62238735, 0.6293171 , 0.6362468 , 0.64317656,\n",
       "        0.6501063 ], dtype=float32),\n",
       " <a list of 25 Patch objects>)"
      ]
     },
     "execution_count": 24,
     "metadata": {},
     "output_type": "execute_result"
    },
    {
     "data": {
      "image/png": "[encoded data removed]",
      "text/plain": [
       "<Figure size 432x288 with 1 Axes>"
      ]
     },
     "metadata": {
      "needs_background": "light"
     },
     "output_type": "display_data"
    }
   ],
   "source": [
    "# Avg norm here: \n",
    "lin1 = nn.Linear(100, 1000).weight\n",
    "plt.hist(torch.norm(lin1, dim=1).detach().numpy(), bins=25)"
   ]
  },
  {
   "cell_type": "code",
   "execution_count": 26,
   "metadata": {},
   "outputs": [
    {
     "data": {
      "text/plain": [
       "(array([  1.,   0.,   0.,   3.,   1.,   4.,   9.,  13.,  23.,  31.,  55.,\n",
       "         65.,  83., 109., 114., 127.,  98.,  81.,  64.,  43.,  31.,  16.,\n",
       "         12.,  13.,   4.]),\n",
       " array([0.541834  , 0.54422903, 0.5466241 , 0.54901916, 0.5514142 ,\n",
       "        0.5538093 , 0.5562043 , 0.5585994 , 0.56099445, 0.5633895 ,\n",
       "        0.5657846 , 0.5681796 , 0.57057464, 0.57296973, 0.57536477,\n",
       "        0.5777598 , 0.5801549 , 0.5825499 , 0.58494496, 0.58734006,\n",
       "        0.5897351 , 0.5921302 , 0.5945252 , 0.59692025, 0.59931535,\n",
       "        0.6017104 ], dtype=float32),\n",
       " <a list of 25 Patch objects>)"
      ]
     },
     "execution_count": 26,
     "metadata": {},
     "output_type": "execute_result"
    },
    {
     "data": {
      "image/png": "[encoded data removed]",
      "text/plain": [
       "<Figure size 432x288 with 1 Axes>"
      ]
     },
     "metadata": {
      "needs_background": "light"
     },
     "output_type": "display_data"
    }
   ],
   "source": [
    "# Avg norm here: \n",
    "lin2 = nn.Linear(1000, 1000).weight\n",
    "plt.hist(torch.norm(lin2, dim=1).detach().numpy(), bins=25)"
   ]
  },
  {
   "cell_type": "code",
   "execution_count": 29,
   "metadata": {},
   "outputs": [
    {
     "data": {
      "text/plain": [
       "tensor(18.2603, grad_fn=<NormBackward0>)"
      ]
     },
     "execution_count": 29,
     "metadata": {},
     "output_type": "execute_result"
    }
   ],
   "source": [
    "torch.norm(lin2)"
   ]
  },
  {
   "cell_type": "code",
   "execution_count": null,
   "metadata": {},
   "outputs": [],
   "source": []
  }
 ],
 "metadata": {
  "kernelspec": {
   "display_name": "py3",
   "language": "python",
   "name": "py3"
  },
  "language_info": {
   "codemirror_mode": {
    "name": "ipython",
    "version": 3
   },
   "file_extension": ".py",
   "mimetype": "text/x-python",
   "name": "python",
   "nbconvert_exporter": "python",
   "pygments_lexer": "ipython3",
   "version": "3.6.9"
  }
 },
 "nbformat": 4,
 "nbformat_minor": 4
}
