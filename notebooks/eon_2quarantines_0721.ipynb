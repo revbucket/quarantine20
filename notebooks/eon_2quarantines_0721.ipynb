{
 "cells": [
  {
   "cell_type": "code",
   "execution_count": 61,
   "metadata": {},
   "outputs": [],
   "source": [
    "# IMPORT BLOCK\n",
    "import networkx as nx \n",
    "import matplotlib.pyplot as plt \n",
    "import numpy as np\n",
    "import EoN\n",
    "import time\n",
    "import seaborn as sns"
   ]
  },
  {
   "cell_type": "code",
   "execution_count": 2,
   "metadata": {},
   "outputs": [],
   "source": [
    "# GENERIC CODE BLOCK (WILL APPEAR IN ALL NOTEBOOKS)\n",
    "def run_until_time(G, xmission, recovery, rho, tmax, copy_graph=True):\n",
    "    \"\"\" Runs a basic SIR (cont time) model on graph G \n",
    "        with fixed transmission/recovery_rate.\n",
    "    ARGS:\n",
    "        G: Networkx graph object\n",
    "        xmission: float - transmission rate \n",
    "        recovery: float - recovery rate \n",
    "        rho:  float - fraction of nodes which are randomly \n",
    "                initially infected \n",
    "        tmax : float - time we run until \n",
    "    RETURNS:\n",
    "        G': networx graph with all IR nodes/edges removed \n",
    "        summary: Infection_Summary object which summarizes the run \n",
    "                 *** ATTACHES THE .tmax attribute to this object ***\n",
    "    \"\"\"\n",
    "    summary = EoN.fast_SIR(G, xmission, recovery, rho=rho, tmax=tmax, return_full_data=True)\n",
    "    setattr(summary, 'tmax', tmax)\n",
    "    # Now collect only the infected/recovered nodes \n",
    "    status_dict = _split_summary(summary)\n",
    "    if copy_graph: \n",
    "        G = G.copy()\n",
    "    if tmax > 0.0:\n",
    "        G.remove_nodes_from(status_dict.get('I', []))\n",
    "        G.remove_nodes_from(status_dict.get('R', []))\n",
    "    \n",
    "    return G, summary\n",
    "\n",
    "\n",
    "def _split_summary(summary_obj):\n",
    "    sort_dict = {} \n",
    "    for k, v in summary_obj.get_statuses(time=summary_obj.tmax).items():\n",
    "        sort_dict[v] = sort_dict.get(v, [])\n",
    "        sort_dict[v].append(k)\n",
    "    return sort_dict \n",
    "\n",
    "\n",
    "def _cat_summaries(summary_list):\n",
    "    # Returns, T, S, I, R of multiple runs stacked against each other \n",
    "    if not isinstance(summary_list, list):\n",
    "        summary_list = [summary_list]\n",
    "    t_lists, s_lists, i_lists, r_lists = [], [], [], [] \n",
    "    running_t = 0\n",
    "    running_r = 0\n",
    "    for summary in summary_list:\n",
    "        # Save in-run data\n",
    "        t_lists.append(running_t + summary.t())\n",
    "        s_lists.append(summary.S())\n",
    "        i_lists.append(summary.I())\n",
    "        r_lists.append(running_r + summary.R())\n",
    "        \n",
    "        # add end-time-arrays \n",
    "        t_lists.append(np.array([summary.tmax + running_t]))\n",
    "        s_lists.append(np.array([summary.S()[-1]]))\n",
    "        i_lists.append(np.array([summary.I()[-1]]))\n",
    "        r_lists.append(np.array([summary.R()[-1] + running_r]))\n",
    "        \n",
    "        # update running_r, running_t \n",
    "        running_t += summary.tmax\n",
    "        running_r += summary.I()[-1] + summary.R()[-1]\n",
    "        \n",
    "    # And concatenate everything in the end \n",
    "    final_t = np.concatenate(t_lists)\n",
    "    final_s = np.concatenate(s_lists)\n",
    "    final_i = np.concatenate(i_lists)\n",
    "    final_r = np.concatenate(r_lists)\n",
    "    \n",
    "    return final_t, final_s, final_i, final_r\n",
    "        \n",
    "        \n",
    "def plot_sir_counts(summary_list, plot_series=None, ax=None):\n",
    "    if ax is None:\n",
    "        fig, ax = plt.subplots(figsize=(8,8))\n",
    "    t, s, i, r = _cat_summaries(summary_list)\n",
    "    plot_series = plot_series or ['S', 'I', 'R']\n",
    "    plot_reader = {'S': (s, 'susceptible'),\n",
    "                   'I': (i, 'infected'), \n",
    "                   'R': (r, 'recovered')}\n",
    "    for series in plot_series:\n",
    "        data, label = plot_reader[series]\n",
    "        ax.plot(t, data, label=label)\n",
    "    ax.legend()\n",
    "        \n",
    "\n",
    "def quarantine_cycle(G, tau, gamma, rho, quarantine_times, total_time):\n",
    "    # quarantine_times is the total times for when quarantines occur \n",
    "    # return is the same as the return of _cat_summaries\n",
    "    if isinstance(quarantine_times, (int, float)):\n",
    "        quarantine_times = [quarantine_times]\n",
    "    run_times = [quarantine_times[0]] \n",
    "    intervals = quarantine_times + [total_time]\n",
    "    for i in range(len(intervals) - 1):\n",
    "        run_times.append(intervals[i+1] - intervals[i])\n",
    "    print('running qs on series', run_times)\n",
    "    summary_outs = []\n",
    "    G = G.copy() \n",
    "    for run in run_times:\n",
    "        G, summary = run_until_time(G, tau, gamma, rho=rho, tmax=run)\n",
    "        summary_outs.append(summary)\n",
    "    return _cat_summaries(summary_outs)\n",
    "    \n",
    "def selector(els, idxs):\n",
    "    for idx in idxs:\n",
    "        yield els[idx]\n",
    "        \n",
    "def tuple_filter(tup_iter, idx):\n",
    "    return [tup[idx] for tup in tup_iter]\n",
    "\n",
    "        \n",
    "def c(i):\n",
    "    return 'bgrcmyk'[i]\n",
    "\n",
    "\n",
    "# THINGS TO PLOT \n",
    "# X-axis: timestep quarantine was performed at \n",
    "# Y-axis1: maximum number of infected at any one time \n",
    "# Y-axis2: number of recovered at t=infinity (so number of people who got it )\n",
    "\n",
    "def get_max_I(catsum):\n",
    "    return max(catsum[2])\n",
    "\n",
    "def get_final_R(catsum):\n",
    "    return catsum[3][-1]\n",
    "\n",
    "def plot_single_qs(qrange, G, tau, gamma, rho, maxt):\n",
    "    # qrange is a list of \n",
    "    #step 1, run each simulation:\n",
    "    sum_ranges = [] \n",
    "    for qseries in qrange:\n",
    "        print(\"Running sim on series:\", qseries)\n",
    "        sum_ranges.append(quarantine_cycle(G, tau, gamma, rho, qseries, maxt))\n",
    "        \n",
    "    \n",
    "    #step2, triples we care about (quarantine_time, maxI, finalR)\n",
    "    triples = [(qrange[i], get_max_I(_), get_final_R(_)) for i,_ in enumerate(sum_ranges)]\n",
    "    \n",
    "    # step 3, plot both series\n",
    "    plt.plot(tuple_filter(triples, 0), tuple_filter(triples, 1), c='b', alpha=0.5, label='maxI')\n",
    "    plt.plot(tuple_filter(triples, 0), tuple_filter(triples, 2), c='r', alpha=0.5, label='finalR')\n",
    "    \n",
    "    return sum_ranges\n",
    "\n",
    "def max_idx(els):\n",
    "    return max(((i, e) for i,e in enumerate(els)), key=lambda p: p[1])[0]\n",
    "\n",
    "def avg(els):\n",
    "    return sum(els) / len(els)\n",
    "\n",
    "def get_peak_i(G, tau, gamma, rho, tmax, num_iter=5):\n",
    "    max_i, max_i_time = [], []\n",
    "    for i in range(num_iter):\n",
    "        t, S, I, R = EoN.fast_SIR(G, tau, gamma, rho=rho, tmax=tmax)\n",
    "        max_i_idx = max_idx(I)\n",
    "        max_i.append(I[max_i_idx])\n",
    "        max_i_time.append(t[max_i_idx])\n",
    "    return avg(max_i), avg(max_i_time)\n",
    "        \n",
    "    "
   ]
  },
  {
   "cell_type": "code",
   "execution_count": 3,
   "metadata": {},
   "outputs": [],
   "source": [
    "# CUSTOM CODE BLOCK (WILL APPEAR ONLY IN THIS NOTEBOOK)\n",
    "SERIES_IDX = {'S': 1, 'I': 2, 'R': 3}\n",
    "def plot_vanilla_run(G, tau, gamma, rho, tmax, series='IR'):\n",
    "    axlist = []\n",
    "    for serie in series: \n",
    "        fig, ax = plt.subplots(figsize=(8,8))\n",
    "\n",
    "        select = lambda tup: tup[SERIES_IDX[serie]]\n",
    "        for i in range(5):\n",
    "            runtup = EoN.fast_SIR(G, tau, gamma, rho=rho, tmax=tmax)\n",
    "            ax.plot(runtup[0], select(runtup), c='k', alpha=0.3)\n",
    "        axlist.append(ax)\n",
    "    if len(axlist) > 1:\n",
    "        return axlist\n",
    "    return axlist[0]\n",
    "\n",
    "def data_getter(G, tau, gamma, rho, tmax, qtimes):\n",
    "    # For every quarantine-schedule in qtimes: \n",
    "    return [quarantine_cycle(G, tau, gamma, rho, _, tmax) for _ in qtimes]\n",
    "\n",
    "    \n",
    "    \n",
    "def plot_maxI_finalR(data, qtimes):\n",
    "    fig, ax = plt.subplots(figsize=(8,8))\n",
    "    triples = [(qtime, get_max_I(data[i]), get_final_R(data[i])) for i, qtime in enumerate(qtimes)]\n",
    "    ax.plot(tuple_filter(triples, 0), tuple_filter(triples, 1), c='b', alpha=0.5, label='maxI')\n",
    "    ax.plot(tuple_filter(triples, 0), tuple_filter(triples, 2), c='r', alpha=0.5, label='finalR')\n",
    "    ax.set_xlabel(\"Quaratine Time\")\n",
    "    ax.set_ylabel(\"# Individuals\")\n",
    "    ax.legend()\n",
    "    ax.plot()\n",
    "    return ax \n",
    "    \n",
    "def plot_SIR_runs(data, qtimes, idx_selectors, series='I'):\n",
    "    fig, ax = plt.subplots(figsize=(12,12))\n",
    "    qtimes = list(selector(qtimes, idx_selectors))\n",
    "    runs = list(selector(data, idx_selectors))\n",
    "    pairs = [(run[0], run[SERIES_IDX[series]]) for run in runs]\n",
    "    for i, (qtime, pair) in enumerate(zip(qtimes, pairs)):\n",
    "        ax.plot(pair[0], pair[1], c=c(i), alpha=0.5, label=\"Q@ time: %s\" % qtime)\n",
    "    ax.legend()\n",
    "    return ax\n",
    "\n",
    "\n",
    "def compare_to_vanilla(vanilla_run, comp_run, series='I'):\n",
    "    fig, ax = plt.subplots(figsize=(12, 12))\n",
    "    idx = SERIES_IDX[series]\n",
    "    ax.plot(vanilla_run[0], vanilla_run[idx], c='k', alpha=0.5, label='vanilla')\n",
    "    ax.plot(comp_run[0], comp_run[idx], c='b', alpha=0.5, label='comparison')\n",
    "    ax.legend()\n",
    "    return ax"
   ]
  },
  {
   "cell_type": "code",
   "execution_count": 14,
   "metadata": {},
   "outputs": [],
   "source": [
    "N = 10 ** 4\n",
    "G = nx.barabasi_albert_graph(N, 8)\n",
    "\n",
    "tmax = 20 \n",
    "iterations = 5  #run 5 simulations\n",
    "tau = 0.15        #transmission rate\n",
    "gamma = 1.0    #recovery rate\n",
    "rho = 0.005      #random fraction initially infected\n"
   ]
  },
  {
   "cell_type": "code",
   "execution_count": 44,
   "metadata": {},
   "outputs": [
    {
     "name": "stdout",
     "output_type": "stream",
     "text": [
      "running qs on series [0, 0, 20]\n",
      "running qs on series [0, 0, 20]\n",
      "running qs on series [0, 0, 20]\n",
      "running qs on series [0, 1, 19]\n",
      "running qs on series [0, 1, 19]\n",
      "running qs on series [0, 1, 19]\n",
      "running qs on series [0, 2, 18]\n",
      "running qs on series [0, 2, 18]\n",
      "running qs on series [0, 2, 18]\n",
      "running qs on series [0, 3, 17]\n",
      "running qs on series [0, 3, 17]\n",
      "running qs on series [0, 3, 17]\n",
      "running qs on series [0, 4, 16]\n",
      "running qs on series [0, 4, 16]\n",
      "running qs on series [0, 4, 16]\n",
      "running qs on series [1, 0, 19]\n",
      "running qs on series [1, 0, 19]\n",
      "running qs on series [1, 0, 19]\n",
      "running qs on series [1, 1, 18]\n",
      "running qs on series [1, 1, 18]\n",
      "running qs on series [1, 1, 18]\n",
      "running qs on series [1, 2, 17]\n",
      "running qs on series [1, 2, 17]\n",
      "running qs on series [1, 2, 17]\n",
      "running qs on series [1, 3, 16]\n",
      "running qs on series [1, 3, 16]\n",
      "running qs on series [1, 3, 16]\n",
      "running qs on series [1, 4, 15]\n",
      "running qs on series [1, 4, 15]\n",
      "running qs on series [1, 4, 15]\n",
      "running qs on series [2, 0, 18]\n",
      "running qs on series [2, 0, 18]\n",
      "running qs on series [2, 0, 18]\n",
      "running qs on series [2, 1, 17]\n",
      "running qs on series [2, 1, 17]\n",
      "running qs on series [2, 1, 17]\n",
      "running qs on series [2, 2, 16]\n",
      "running qs on series [2, 2, 16]\n",
      "running qs on series [2, 2, 16]\n",
      "running qs on series [2, 3, 15]\n",
      "running qs on series [2, 3, 15]\n",
      "running qs on series [2, 3, 15]\n",
      "running qs on series [2, 4, 14]\n",
      "running qs on series [2, 4, 14]\n",
      "running qs on series [2, 4, 14]\n",
      "running qs on series [3, 0, 17]\n",
      "running qs on series [3, 0, 17]\n",
      "running qs on series [3, 0, 17]\n",
      "running qs on series [3, 1, 16]\n",
      "running qs on series [3, 1, 16]\n",
      "running qs on series [3, 1, 16]\n",
      "running qs on series [3, 2, 15]\n",
      "running qs on series [3, 2, 15]\n",
      "running qs on series [3, 2, 15]\n",
      "running qs on series [3, 3, 14]\n",
      "running qs on series [3, 3, 14]\n",
      "running qs on series [3, 3, 14]\n",
      "running qs on series [3, 4, 13]\n",
      "running qs on series [3, 4, 13]\n",
      "running qs on series [3, 4, 13]\n",
      "running qs on series [4, 0, 16]\n",
      "running qs on series [4, 0, 16]\n",
      "running qs on series [4, 0, 16]\n",
      "running qs on series [4, 1, 15]\n",
      "running qs on series [4, 1, 15]\n",
      "running qs on series [4, 1, 15]\n",
      "running qs on series [4, 2, 14]\n",
      "running qs on series [4, 2, 14]\n",
      "running qs on series [4, 2, 14]\n",
      "running qs on series [4, 3, 13]\n",
      "running qs on series [4, 3, 13]\n",
      "running qs on series [4, 3, 13]\n",
      "running qs on series [4, 4, 12]\n",
      "running qs on series [4, 4, 12]\n",
      "running qs on series [4, 4, 12]\n"
     ]
    }
   ],
   "source": [
    "# HEATMAPS DONE RIGHT:\n",
    "# Step 1: Define quarantine grid and run multiple runs (don't need to return full data...)\n",
    "def get_quarantine_grid_data(G, tau, gamma, rho, tmax, first_qrange, second_qrange, num_iter=3):\n",
    "    \"\"\" G,tau,gamm, rho,tmax are all standard parameters \n",
    "        first_qrange is a list of times for the first quarantine \n",
    "        second_qrange is a list of times for the second quarantine (e.g., 1 here means do \n",
    "        second quarantine 1 time unit after first quarantine)\n",
    "    Runs quarantine for cartesian product between the two qranges \n",
    "    OUTPUT DATA STRUCTURE IS A DICT WITH KEYS BEING TUPLES\n",
    "    \"\"\"\n",
    "    qpairs = [[q0, q1] for q0 in first_qrange for q1 in second_qrange]\n",
    "    output_data = {}\n",
    "    for q0, q1 in qpairs:\n",
    "        pair_runs = [] # (t, S, I, R) tuples in this list\n",
    "        for i in range(num_iter):\n",
    "            pair_runs.append(quarantine_cycle(G, tau, gamma, rho, [q0, q0 + q1], tmax))\n",
    "        output_data[(q0, q1)] = pair_runs\n",
    "    return output_data\n",
    "                             \n",
    "sample_grid = get_quarantine_grid_data(G, tau, gamma, rho, tmax, list(range(5)), list(range(5)))"
   ]
  },
  {
   "cell_type": "code",
   "execution_count": 73,
   "metadata": {},
   "outputs": [],
   "source": [
    "def process_into_grid(data_dict, func=None):\n",
    "    if func is None:\n",
    "        func = lambda x: x \n",
    "    \n",
    "    # First make a grid from the data:\n",
    "    keys = sorted(data_dict.keys())\n",
    "    # make rows:(based on first element of key)\n",
    "    grid = []\n",
    "    prev_key = keys[0][0]\n",
    "    current_row = []\n",
    "    grid_check = []\n",
    "    current_row_grid_check = []\n",
    "    for k in keys:\n",
    "        if k[0] != prev_key:\n",
    "            grid.append(current_row)\n",
    "            current_row = [] \n",
    "            prev_key = k[0]\n",
    "            grid_check.append(current_row_grid_check)\n",
    "            current_row_grid_check = []\n",
    "        current_row.append(func(data_dict[k]))\n",
    "        current_row_grid_check.append(k)\n",
    "    grid.append(current_row)\n",
    "    grid_check.append(current_row_grid_check)\n",
    "    return grid, grid_check\n",
    "        \n",
    "\n",
    "def avg_max_I(sum_list):\n",
    "    return sum(get_max_I(_) for _ in sum_list) / float(len(sum_list))\n",
    "\n",
    "def avg_final_R(sum_list):\n",
    "    return sum(get_final_R(_) for _ in sum_list) /float(len(sum_list))\n",
    "\n",
    "\n",
    "def heatmapify(grid, grid_idxs, title=None):\n",
    "    \"\"\" Builds a heatmap and formats it (except for the title) \"\"\"\n",
    "    fig, ax = plt.subplots(figsize=(10, 10))\n",
    "    sns.heatmap(grid, ax=ax)\n",
    "    yticks = [_[0][0] for _ in grid_idxs]\n",
    "    xticks = [_[1] for _ in grid_idxs[0]]\n",
    "    ax.set_ylabel(\"Time of first quarantine\")\n",
    "    ax.set_xlabel(\"Time of second quarantine (after first)\")\n",
    "    ax.set_yticklabels(yticks)\n",
    "    ax.set_xticklabels(xticks)\n",
    "    if title is not None:\n",
    "        ax.set_title(title)\n",
    "    \n",
    "    \n",
    "    return ax"
   ]
  },
  {
   "cell_type": "code",
   "execution_count": 75,
   "metadata": {},
   "outputs": [
    {
     "data": {
      "text/plain": [
       "<matplotlib.axes._subplots.AxesSubplot at 0x7f107dd915c0>"
      ]
     },
     "execution_count": 75,
     "metadata": {},
     "output_type": "execute_result"
    },
    {
     "data": {
      "image/png": "[encoded data removed]",
      "text/plain": [
       "<Figure size 720x720 with 2 Axes>"
      ]
     },
     "metadata": {
      "needs_background": "light"
     },
     "output_type": "display_data"
    }
   ],
   "source": [
    "heatmapify(*process_into_grid(sample_grid, avg_final_R), 'Max # Infected')"
   ]
  },
  {
   "cell_type": "code",
   "execution_count": 64,
   "metadata": {},
   "outputs": [
    {
     "data": {
      "text/plain": [
       "[0, 1, 2, 3, 4]"
      ]
     },
     "execution_count": 64,
     "metadata": {},
     "output_type": "execute_result"
    }
   ],
   "source": [
    "[_[0][0] for _ in grid_idxs]"
   ]
  },
  {
   "cell_type": "code",
   "execution_count": 19,
   "metadata": {},
   "outputs": [
    {
     "name": "stdout",
     "output_type": "stream",
     "text": [
      "0.40711188316345215\n",
      "0.20771026611328125\n"
     ]
    }
   ],
   "source": [
    "start = time.time()\n",
    "EoN.fast_SIR(G, tau, gamma, rho=rho, tmax=tmax, return_full_data=True)\n",
    "print(time.time() - start)\n",
    "\n",
    "start = time.time()\n",
    "EoN.fast_SIR(G, tau, gamma, rho=rho, tmax=tmax, return_full_data=False)\n",
    "print(time.time() - start)"
   ]
  },
  {
   "cell_type": "code",
   "execution_count": 11,
   "metadata": {},
   "outputs": [
    {
     "name": "stdout",
     "output_type": "stream",
     "text": [
      "3.5398945808410645\n"
     ]
    }
   ],
   "source": []
  },
  {
   "cell_type": "code",
   "execution_count": 6,
   "metadata": {},
   "outputs": [
    {
     "data": {
      "text/plain": [
       "[<matplotlib.axes._subplots.AxesSubplot at 0x7f10816b0f60>,\n",
       " <matplotlib.axes._subplots.AxesSubplot at 0x7f10816208d0>]"
      ]
     },
     "execution_count": 6,
     "metadata": {},
     "output_type": "execute_result"
    },
    {
     "data": {
      "image/png": "[encoded data removed]",
      "text/plain": [
       "<Figure size 576x576 with 1 Axes>"
      ]
     },
     "metadata": {
      "needs_background": "light"
     },
     "output_type": "display_data"
    },
    {
     "data": {
      "image/png": "[encoded data removed]",
      "text/plain": [
       "<Figure size 576x576 with 1 Axes>"
      ]
     },
     "metadata": {
      "needs_background": "light"
     },
     "output_type": "display_data"
    }
   ],
   "source": [
    "plot_vanilla_run(G, tau, gamma, rho, tmax)"
   ]
  },
  {
   "cell_type": "code",
   "execution_count": null,
   "metadata": {},
   "outputs": [],
   "source": [
    "# EXPERIMENT 1: Infection spreads more slowly after first quarantine:\n",
    "# Show that time to peak increases after first quarantine\n",
    "def time_to_second_peak(G, tau, gamma, rho, tmax, qtime):\n",
    "    g1, summ1 = run_until_time(G, tau, gamma, rho=rho, tmax=qtime)\n",
    "    g2, summ2 = run_until_time(g1, tau, gamma, rho=rho, tmax=tmax-qtime)\n",
    "    return summ2.t()[max_idx(summ2.I())]\n",
    "\n",
    "def avg_by_tt2p(G, tau, gamma, rho, tmax, qtime, num_iter=5):\n",
    "    times = [time_to_second_peak(G, tau, gamma, rho, tmax, qtime) for _ in range(num_iter)]\n",
    "    zero_less_times = [_ for _ in times if _ > 0]\n",
    "    if len(zero_less_times) == 0:\n",
    "        return 0.0 \n",
    "    else:\n",
    "        return sum(zero_less_times) / len(zero_less_times)\n",
    "    \n",
    "\n",
    "qtimes = [_ / 10.0 for _ in range(25)]\n",
    "second_peaks = [(qtime, avg_by_tt2p(G, tau, gamma, rho, 20, qtime)) for qtime in qtimes]"
   ]
  },
  {
   "cell_type": "code",
   "execution_count": null,
   "metadata": {},
   "outputs": [],
   "source": [
    "plt.plot([_[0] for _ in second_peaks], [_[1] for _ in second_peaks])"
   ]
  },
  {
   "cell_type": "code",
   "execution_count": null,
   "metadata": {},
   "outputs": [],
   "source": [
    "qpairs"
   ]
  },
  {
   "cell_type": "code",
   "execution_count": null,
   "metadata": {},
   "outputs": [],
   "source": [
    "# EXPERIMENT 2: Max I/Final R by first_qtime, second_qtime-first_qtime: \n",
    "qpairs = [[i / 4.0, i / 4.0 + j / 4.0] for i in range(10) for j in range(10)]\n",
    "grid_run =data_getter(G, tau, gamma, rho, 20, qpairs)\n",
    "\n"
   ]
  },
  {
   "cell_type": "code",
   "execution_count": null,
   "metadata": {},
   "outputs": [],
   "source": [
    "# Stack into a 2d array:\n",
    "empty_grid = [[None for _ in range(10)] for _ in range(10)]\n",
    "for i, el in enumerate(grid_run):\n",
    "    empty_grid[i % 10][i // 10] = el\n",
    "max_i_grid = [[get_max_I(el) for el in row] for row in empty_grid]\n",
    "last_r_grid = [[get_final_R(el) for el in row] for row in empty_grid]"
   ]
  },
  {
   "cell_type": "code",
   "execution_count": null,
   "metadata": {},
   "outputs": [],
   "source": []
  },
  {
   "cell_type": "code",
   "execution_count": null,
   "metadata": {},
   "outputs": [],
   "source": [
    "import seaborn as sns\n",
    "ax = sns.heatmap(np.array(max_i_grid))\n",
    "ax.set_yticklabels([_ / 4.0 for _ in range(10)])\n",
    "ax.set_xticklabels([_ / 4.0 for _ in range(10)])\n",
    "ax.set_title(\"Max # Infected\")\n",
    "ax.set_ylabel(\"Time of first quarantine\")\n",
    "ax.set_xlabel(\"Time after first quarantine before second quarantine\")"
   ]
  },
  {
   "cell_type": "code",
   "execution_count": null,
   "metadata": {},
   "outputs": [],
   "source": [
    "min_val = float('inf')\n",
    "min_idx = None\n",
    "for i, row in enumerate(last_r_grid):\n",
    "    for j, el in enumerate(row):\n",
    "        if el < min_val:\n",
    "            min_val = el \n",
    "            min_idx = (i,j)\n",
    "print(min_val, min_idx)\n",
    "last_r_grid[7][9]"
   ]
  },
  {
   "cell_type": "code",
   "execution_count": null,
   "metadata": {},
   "outputs": [],
   "source": [
    "qpairs[7 * 10 + 1]"
   ]
  },
  {
   "cell_type": "code",
   "execution_count": null,
   "metadata": {},
   "outputs": [],
   "source": [
    "last_r_grid[]"
   ]
  },
  {
   "cell_type": "code",
   "execution_count": null,
   "metadata": {},
   "outputs": [],
   "source": [
    "last_r_grid[0][0]"
   ]
  },
  {
   "cell_type": "code",
   "execution_count": null,
   "metadata": {},
   "outputs": [],
   "source": [
    "fig, ax = plt.subplots(figsize=(10,10))\n",
    "ax = sns.heatmap(np.array(last_r_grid), ax=ax)\n",
    "ax.set_yticklabels([_ / 4.0 for _ in range(10)])\n",
    "ax.set_xticklabels([_ / 4.0 for _ in range(10)])\n",
    "ax.set_title(\"Final # Recovered\")\n",
    "ax.set_ylabel(\"Time of first quarantine\")\n",
    "ax.set_xlabel(\"Time after first quarantine before second quarantine\")"
   ]
  },
  {
   "cell_type": "code",
   "execution_count": null,
   "metadata": {},
   "outputs": [],
   "source": [
    "fig, ax = plt.subplots(figsize=(10, 10))\n"
   ]
  },
  {
   "cell_type": "code",
   "execution_count": null,
   "metadata": {},
   "outputs": [],
   "source": [
    "# EXPERIMENT 3: Power of the second quarantine: \n",
    "# Hypothesis: can use 2 quarantines to drop peak #I by a factor of 4:\n",
    "\n",
    "def double_peak_cut(G, tau, gamma, rho, tmax):\n",
    "    # First do a basic run to figure out max peak and the time to apply first quarantine \n",
    "    t_, S_, I_, R_ = EoN.fast_SIR(G, tau, gamma, rho=rho, tmax=tmax)\n",
    "    peak_I = max(I_)\n",
    "    peak_I_time = t_[max_idx(I_)]\n",
    "    \n",
    "    peak_I_quarter = peak_I / 4.0 \n",
    "    quarter_I_time = 0.0\n",
    "    for idx, el in enumerate(I_):\n",
    "        if el > peak_I_quarter:\n",
    "            quarter_I_time = t_[idx]\n",
    "            break\n",
    "    # Now do a run until quarter_time: \n",
    "    G1, summ1 = run_until_time(G, tau, gamma, rho, quarter_I_time, copy_graph=True)\n",
    "    \n",
    "    # And do another run until peak hits quarter peak:\n",
    "    t_, S_, I_, R_ = EoN.fast_SIR(G1, tau, gamma, rho=rho, tmax=tmax)\n",
    "    for idx, el in enumerate(I_):\n",
    "        if el > peak_I_quarter:\n",
    "            quarter_I_time = t_[idx]\n",
    "            break\n",
    "    G2, summ2 = run_until_time(G1, tau, gamma, rho, quarter_I_time, copy_graph=True)\n",
    "    G3, summ3 = run_until_time(G2, tau, gamma, rho, tmax, copy_graph=True)\n",
    "    return summ1, summ2, summ3\n",
    "\n",
    "summs = list(double_peak_cut(G, tau, gamma, rho, tmax))"
   ]
  },
  {
   "cell_type": "code",
   "execution_count": null,
   "metadata": {},
   "outputs": [],
   "source": [
    "plot_sir_counts(summs, 'I')"
   ]
  },
  {
   "cell_type": "code",
   "execution_count": null,
   "metadata": {},
   "outputs": [],
   "source": []
  }
 ],
 "metadata": {
  "kernelspec": {
   "display_name": "Python 3",
   "language": "python",
   "name": "python3"
  },
  "language_info": {
   "codemirror_mode": {
    "name": "ipython",
    "version": 3
   },
   "file_extension": ".py",
   "mimetype": "text/x-python",
   "name": "python",
   "nbconvert_exporter": "python",
   "pygments_lexer": "ipython3",
   "version": "3.6.9"
  }
 },
 "nbformat": 4,
 "nbformat_minor": 4
}
