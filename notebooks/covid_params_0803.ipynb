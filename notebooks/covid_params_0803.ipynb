{
 "cells": [
  {
   "cell_type": "code",
   "execution_count": 78,
   "metadata": {},
   "outputs": [],
   "source": [
    "import sys \n",
    "sys.path.append('..')\n",
    "import networkx as nx \n",
    "import numpy as np \n",
    "import matplotlib.pyplot as plt \n",
    "import quarantines as Q \n",
    "import quarantines_mongo as qm \n",
    "import EoNlocal as EoN \n",
    "import covid_params as CP"
   ]
  },
  {
   "cell_type": "code",
   "execution_count": 2,
   "metadata": {},
   "outputs": [],
   "source": [
    "N = 10 ** 4 \n",
    "m = 5\n",
    "G = nx.barabasi_albert_graph(N, m)"
   ]
  },
  {
   "cell_type": "code",
   "execution_count": 3,
   "metadata": {},
   "outputs": [],
   "source": [
    "beta_ = 0.1656\n",
    "gamma_ = 0.0253\n",
    "\n"
   ]
  },
  {
   "cell_type": "code",
   "execution_count": 4,
   "metadata": {},
   "outputs": [
    {
     "data": {
      "text/plain": [
       "10000"
      ]
     },
     "execution_count": 4,
     "metadata": {},
     "output_type": "execute_result"
    }
   ],
   "source": [
    "Q.run_until_time(G, beta_, gamma_, 0.005, float('inf'))[-1].get_final_R()"
   ]
  },
  {
   "cell_type": "code",
   "execution_count": 6,
   "metadata": {},
   "outputs": [
    {
     "name": "stdout",
     "output_type": "stream",
     "text": [
      "cooper china [10000, 10000, 10000, 10000, 10000]\n",
      "cooper sk [10000, 10000, 10000, 10000, 10000]\n",
      "cooper india [10000, 9998, 9999, 10000, 10000]\n",
      "cooper aus [9998, 9999, 9998, 10000, 10000]\n",
      "cooper usa [10000, 10000, 10000, 10000, 10000]\n",
      "cooper texas [9996, 9997, 9996, 9997, 9999]\n",
      "cooper italy [9999, 10000, 10000, 10000, 10000]\n",
      "jo sk [10000, 10000, 10000, 10000, 10000]\n",
      "jo seoul [10000, 10000, 9998, 9999, 9999]\n",
      "jo busan [8768, 8695, 8740, 8686, 8619]\n",
      "jo daegu [9201, 9184, 9203, 9261, 9149]\n"
     ]
    }
   ],
   "source": [
    "for f, name, kwargs in [(CP.cooper_params, 'cooper', CP.COOPER_KWARGS), (CP.jo_params, 'jo', CP.JO_KWARGS)]:\n",
    "    for kwarg in kwargs:\n",
    "        tau, gamma = f(kwarg)\n",
    "        runs = [Q.run_until_time(G, tau, gamma, 0.0005, float('inf'))[-1].get_final_R() for _ in range(5)]\n",
    "        print(name, kwarg, runs)\n",
    "    "
   ]
  },
  {
   "cell_type": "code",
   "execution_count": 8,
   "metadata": {},
   "outputs": [
    {
     "data": {
      "text/plain": [
       "(0.14, 0.0387)"
      ]
     },
     "execution_count": 8,
     "metadata": {},
     "output_type": "execute_result"
    }
   ],
   "source": [
    "tau, gammma = CP.cooper_params('texas')\n"
   ]
  },
  {
   "cell_type": "code",
   "execution_count": 74,
   "metadata": {},
   "outputs": [],
   "source": [
    "tup = Q.quarantine_by_prop(G, tau, gamma, 0.0005, [_ / 3.7 for _ in range(100)], float('inf'))"
   ]
  },
  {
   "cell_type": "code",
   "execution_count": 75,
   "metadata": {},
   "outputs": [
    {
     "data": {
      "text/plain": [
       "8536.0"
      ]
     },
     "execution_count": 75,
     "metadata": {},
     "output_type": "execute_result"
    }
   ],
   "source": [
    "tup.get_final_R()"
   ]
  },
  {
   "cell_type": "code",
   "execution_count": 86,
   "metadata": {},
   "outputs": [
    {
     "name": "stdout",
     "output_type": "stream",
     "text": [
      "0.2\n",
      "0.21000000000000002\n",
      "0.22\n",
      "0.23\n",
      "0.24000000000000002\n",
      "0.25\n",
      "0.26\n",
      "0.27\n",
      "0.28\n",
      "0.29000000000000004\n",
      "0.30000000000000004\n",
      "0.31\n",
      "0.32\n",
      "0.33\n",
      "0.34\n",
      "0.35\n",
      "0.36\n",
      "0.37\n",
      "0.38\n",
      "0.39\n",
      "0.4\n",
      "0.41000000000000003\n",
      "0.42000000000000004\n",
      "0.43000000000000005\n",
      "0.44\n",
      "0.45\n",
      "0.46\n",
      "0.47000000000000003\n",
      "0.48000000000000004\n",
      "0.49\n",
      "0.5\n"
     ]
    }
   ],
   "source": [
    "outputs = [] \n",
    "for _ in [0.2 + _ / 100 for _ in range(31)]:\n",
    "    print(_)\n",
    "    outputs.append(Q.quarantine_by_prop(G, tau, gamma, 0.0005, [_,_ / 2, _ * _ ], float('inf'), num_iter=5))\n"
   ]
  },
  {
   "cell_type": "code",
   "execution_count": 87,
   "metadata": {},
   "outputs": [
    {
     "data": {
      "text/plain": [
       "[<matplotlib.lines.Line2D at 0x7fcb99679ac8>]"
      ]
     },
     "execution_count": 87,
     "metadata": {},
     "output_type": "execute_result"
    },
    {
     "data": {
      "image/png": "[encoded data removed]",
      "text/plain": [
       "<Figure size 432x288 with 1 Axes>"
      ]
     },
     "metadata": {
      "needs_background": "light"
     },
     "output_type": "display_data"
    }
   ],
   "source": [
    "plt.plot([0.2 + _ / 100 for _ in range(31)], [_.get_final_R() for _ in outputs])"
   ]
  },
  {
   "cell_type": "code",
   "execution_count": null,
   "metadata": {},
   "outputs": [],
   "source": []
  },
  {
   "cell_type": "code",
   "execution_count": null,
   "metadata": {},
   "outputs": [],
   "source": []
  }
 ],
 "metadata": {
  "kernelspec": {
   "display_name": "py3",
   "language": "python",
   "name": "py3"
  },
  "language_info": {
   "codemirror_mode": {
    "name": "ipython",
    "version": 3
   },
   "file_extension": ".py",
   "mimetype": "text/x-python",
   "name": "python",
   "nbconvert_exporter": "python",
   "pygments_lexer": "ipython3",
   "version": "3.6.9"
  }
 },
 "nbformat": 4,
 "nbformat_minor": 4
}
