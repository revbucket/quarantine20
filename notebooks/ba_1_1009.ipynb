{
 "cells": [
  {
   "cell_type": "code",
   "execution_count": 1,
   "metadata": {},
   "outputs": [],
   "source": [
    "import sys \n",
    "sys.path.append('..')\n",
    "import networkx as nx \n",
    "import quarantines as Q \n",
    "import EoNlocal as EoN \n",
    "import numpy as np\n",
    "import matplotlib.pyplot as plt\n",
    "import seaborn as  sns\n",
    "import utils\n",
    "sns.set()"
   ]
  },
  {
   "cell_type": "code",
   "execution_count": 4,
   "metadata": {},
   "outputs": [],
   "source": [
    "def get_propseries(G, tau, gamma, init_num, qrange, num_iter=3):\n",
    "    N = len(G)\n",
    "    output_trips = [] \n",
    "    for qprop in qrange:\n",
    "        print(qprop)\n",
    "        tups = Q.quarantine_by_prop(G, tau, gamma, init_num / N, [qprop], float('inf'), num_iter, return_summary=False)\n",
    "        output_trips.append((qprop, tups.get_max_I() / N, tups.get_final_R() / N))\n",
    "    return output_trips\n",
    "\n",
    "def plot_tripseries(tripseries):\n",
    "    fig, ax = plt.subplots(figsize=(8,8))\n",
    "    i_series = [list(utils.selector(_, [0,1])) for _ in tripseries]\n",
    "    r_series = [list(utils.selector(_, [0,2])) for _ in tripseries]\n",
    "    \n",
    "    ax.plot(*zip(*i_series), c='r', label='Max #Infected')\n",
    "    ax.plot(*zip(*r_series), c='b', label='Final #Recovered')\n",
    "    ax.legend()"
   ]
  },
  {
   "cell_type": "code",
   "execution_count": 11,
   "metadata": {},
   "outputs": [
    {
     "name": "stdout",
     "output_type": "stream",
     "text": [
      "0.02\n",
      "0.04\n",
      "0.06\n",
      "0.08\n",
      "0.1\n",
      "0.12\n",
      "0.14\n",
      "0.16\n",
      "0.18\n",
      "0.2\n",
      "0.22\n",
      "0.24\n",
      "0.26\n",
      "0.28\n",
      "0.3\n",
      "0.32\n",
      "0.34\n",
      "0.36\n",
      "0.38\n",
      "0.4\n",
      "0.42\n",
      "0.44\n",
      "0.46\n",
      "0.48\n",
      "0.5\n",
      "0.52\n",
      "0.54\n",
      "0.56\n",
      "0.58\n",
      "0.6\n",
      "0.62\n",
      "0.64\n",
      "0.66\n",
      "0.68\n",
      "0.7000000000000001\n",
      "0.72\n",
      "0.74\n",
      "0.76\n",
      "0.78\n"
     ]
    }
   ],
   "source": [
    "N = 5 * 10 ** 3\n",
    "G = nx.barabasi_albert_graph(N, 5)\n",
    "trips = get_propseries(G, 0.1, 0.1, 10 / N, [0.02 * _ for _ in range(1, 40)], 5)"
   ]
  },
  {
   "cell_type": "code",
   "execution_count": 21,
   "metadata": {
    "collapsed": true
   },
   "outputs": [
    {
     "name": "stdout",
     "output_type": "stream",
     "text": [
      "1 40\n",
      "2 40\n",
      "3 40\n",
      "4 40\n",
      "5 40\n",
      "6 40\n",
      "7 40\n",
      "8 40\n",
      "9 40\n",
      "10 40\n",
      "11 40\n",
      "12 40\n",
      "13 40\n",
      "14 40\n",
      "15 40\n",
      "16 40\n",
      "17 40\n",
      "18 40\n",
      "19 40\n",
      "20 40\n",
      "21 40\n",
      "22 40\n",
      "23 40\n",
      "24 40\n",
      "25 40\n",
      "26 40\n",
      "27 40\n",
      "28 40\n",
      "29 40\n",
      "30 40\n",
      "31 40\n",
      "32 40\n",
      "33 40\n",
      "34 40\n",
      "35 40\n",
      "36 40\n",
      "37 40\n",
      "38 40\n",
      "39 40\n"
     ]
    }
   ],
   "source": [
    "output_pairs = [] \n",
    "for q in range(1, 40):\n",
    "    qprop = q / 50\n",
    "    print(q, 40)\n",
    "    output_pairs.append((qprop, Q.quarantine_by_prop(G, 0.1, 0.1, 10 / N, [qprop],float('inf'), num_iter=3).get_final_R()))\n"
   ]
  },
  {
   "cell_type": "code",
   "execution_count": 22,
   "metadata": {},
   "outputs": [
    {
     "data": {
      "text/plain": [
       "[<matplotlib.lines.Line2D at 0x7fe75ce28240>]"
      ]
     },
     "execution_count": 22,
     "metadata": {},
     "output_type": "execute_result"
    },
    {
     "data": {
      "image/png": "[encoded data removed]",
      "text/plain": [
       "<Figure size 432x288 with 1 Axes>"
      ]
     },
     "metadata": {},
     "output_type": "display_data"
    }
   ],
   "source": [
    "plt.plot(*zip(*output_pairs))"
   ]
  },
  {
   "cell_type": "code",
   "execution_count": null,
   "metadata": {},
   "outputs": [],
   "source": []
  }
 ],
 "metadata": {
  "kernelspec": {
   "display_name": "py3",
   "language": "python",
   "name": "py3"
  },
  "language_info": {
   "codemirror_mode": {
    "name": "ipython",
    "version": 3
   },
   "file_extension": ".py",
   "mimetype": "text/x-python",
   "name": "python",
   "nbconvert_exporter": "python",
   "pygments_lexer": "ipython3",
   "version": "3.6.9"
  }
 },
 "nbformat": 4,
 "nbformat_minor": 4
}
