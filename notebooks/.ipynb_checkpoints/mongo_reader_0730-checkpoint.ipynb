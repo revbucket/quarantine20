{
 "cells": [
  {
   "cell_type": "code",
   "execution_count": 27,
   "metadata": {},
   "outputs": [],
   "source": [
    "import sys \n",
    "sys.path.append('..')\n",
    "\n",
    "import pymongo\n",
    "from bson.objectid import ObjectId\n",
    "\n"
   ]
  },
  {
   "cell_type": "code",
   "execution_count": 6,
   "metadata": {},
   "outputs": [
    {
     "name": "stderr",
     "output_type": "stream",
     "text": [
      "/home/matt/config/py3/lib/python3.6/site-packages/ipykernel_launcher.py:3: DeprecationWarning: collection_names is deprecated. Use list_collection_names instead.\n",
      "  This is separate from the ipykernel package so we can avoid doing imports until\n"
     ]
    },
    {
     "data": {
      "text/plain": [
       "['percent_survived', 'quarantine_by_props', 'epidemics', 'graphs']"
      ]
     },
     "execution_count": 6,
     "metadata": {},
     "output_type": "execute_result"
    }
   ],
   "source": [
    "client = pymongo.MongoClient('10.157.90.169', 27017)\n",
    "db = client['quarantine20']\n",
    "db.collection_names()"
   ]
  },
  {
   "cell_type": "code",
   "execution_count": 25,
   "metadata": {},
   "outputs": [
    {
     "data": {
      "text/plain": [
       "70"
      ]
     },
     "execution_count": 25,
     "metadata": {},
     "output_type": "execute_result"
    }
   ],
   "source": [
    "len(list(db.percent_survived.aggregate([{'$group': {'_id': {'graph':'$graph_id', 'run':'$run_id', 'stop_prop': '$stop_prop'},'count': {'$sum': 1}}}])))"
   ]
  },
  {
   "cell_type": "code",
   "execution_count": 30,
   "metadata": {},
   "outputs": [],
   "source": [
    "run_id = db['percent_survived'].find_one()['run_id']"
   ]
  },
  {
   "cell_type": "code",
   "execution_count": 26,
   "metadata": {},
   "outputs": [],
   "source": [
    "def collect_perc_survived(db, run_id, stop_prop):\n",
    "    # Collects and aggregates the data from groups\n",
    "    docs = list(db['percent_survived'].find({'run_id': ObjectId(run_id), 'stop_prop': stop_prop}))\n",
    "    return docs"
   ]
  },
  {
   "cell_type": "code",
   "execution_count": 32,
   "metadata": {
    "scrolled": false
   },
   "outputs": [],
   "source": [
    "outdict = collect_perc_survived(db, run_id, 0.0)"
   ]
  },
  {
   "cell_type": "code",
   "execution_count": 34,
   "metadata": {},
   "outputs": [
    {
     "data": {
      "text/plain": [
       "{'240': {'original': 1, 'final': 1},\n",
       " '287': {'original': 1, 'final': 1},\n",
       " '63': {'original': 5, 'final': 5},\n",
       " '246': {'original': 1, 'final': 1},\n",
       " '250': {'original': 1, 'final': 1},\n",
       " '266': {'original': 1, 'final': 1},\n",
       " '204': {'original': 1, 'final': 1},\n",
       " '166': {'original': 1, 'final': 1},\n",
       " '396': {'original': 1, 'final': 1},\n",
       " '253': {'original': 1, 'final': 1},\n",
       " '343': {'original': 1, 'final': 1},\n",
       " '366': {'original': 1, 'final': 1},\n",
       " '335': {'original': 1, 'final': 1},\n",
       " '263': {'original': 1, 'final': 1},\n",
       " '222': {'original': 1, 'final': 1},\n",
       " '228': {'original': 1, 'final': 1},\n",
       " '211': {'original': 1, 'final': 1},\n",
       " '357': {'original': 1, 'final': 1},\n",
       " '239': {'original': 1, 'final': 1},\n",
       " '224': {'original': 2, 'final': 2},\n",
       " '200': {'original': 3, 'final': 3},\n",
       " '161': {'original': 2, 'final': 2},\n",
       " '218': {'original': 1, 'final': 1},\n",
       " '147': {'original': 1, 'final': 1},\n",
       " '187': {'original': 1, 'final': 1},\n",
       " '216': {'original': 1, 'final': 1},\n",
       " '93': {'original': 2, 'final': 2},\n",
       " '280': {'original': 1, 'final': 1},\n",
       " '156': {'original': 1, 'final': 1},\n",
       " '99': {'original': 1, 'final': 1},\n",
       " '143': {'original': 2, 'final': 2},\n",
       " '134': {'original': 1, 'final': 1},\n",
       " '87': {'original': 2, 'final': 2},\n",
       " '107': {'original': 2, 'final': 2},\n",
       " '140': {'original': 1, 'final': 1},\n",
       " '102': {'original': 4, 'final': 4},\n",
       " '190': {'original': 1, 'final': 1},\n",
       " '168': {'original': 1, 'final': 1},\n",
       " '193': {'original': 1, 'final': 1},\n",
       " '191': {'original': 1, 'final': 1},\n",
       " '119': {'original': 2, 'final': 2},\n",
       " '123': {'original': 2, 'final': 2},\n",
       " '139': {'original': 1, 'final': 1},\n",
       " '126': {'original': 3, 'final': 3},\n",
       " '138': {'original': 1, 'final': 1},\n",
       " '83': {'original': 2, 'final': 2},\n",
       " '150': {'original': 1, 'final': 1},\n",
       " '92': {'original': 2, 'final': 2},\n",
       " '128': {'original': 2, 'final': 2},\n",
       " '152': {'original': 1, 'final': 1},\n",
       " '50': {'original': 15, 'final': 15},\n",
       " '114': {'original': 2, 'final': 2},\n",
       " '78': {'original': 6, 'final': 6},\n",
       " '66': {'original': 8, 'final': 8},\n",
       " '58': {'original': 4, 'final': 4},\n",
       " '122': {'original': 1, 'final': 1},\n",
       " '198': {'original': 1, 'final': 1},\n",
       " '234': {'original': 1, 'final': 1},\n",
       " '98': {'original': 5, 'final': 5},\n",
       " '84': {'original': 7, 'final': 7},\n",
       " '70': {'original': 7, 'final': 7},\n",
       " '165': {'original': 1, 'final': 1},\n",
       " '142': {'original': 1, 'final': 1},\n",
       " '91': {'original': 2, 'final': 2},\n",
       " '146': {'original': 1, 'final': 1},\n",
       " '74': {'original': 4, 'final': 4},\n",
       " '75': {'original': 4, 'final': 4},\n",
       " '69': {'original': 5, 'final': 5},\n",
       " '101': {'original': 2, 'final': 2},\n",
       " '65': {'original': 2, 'final': 2},\n",
       " '89': {'original': 3, 'final': 3},\n",
       " '136': {'original': 1, 'final': 1},\n",
       " '110': {'original': 1, 'final': 1},\n",
       " '127': {'original': 1, 'final': 1},\n",
       " '100': {'original': 2, 'final': 2},\n",
       " '135': {'original': 1, 'final': 1},\n",
       " '62': {'original': 6, 'final': 6},\n",
       " '64': {'original': 8, 'final': 8},\n",
       " '97': {'original': 2, 'final': 2},\n",
       " '76': {'original': 2, 'final': 2},\n",
       " '81': {'original': 4, 'final': 4},\n",
       " '61': {'original': 3, 'final': 3},\n",
       " '115': {'original': 1, 'final': 1},\n",
       " '46': {'original': 16, 'final': 16},\n",
       " '79': {'original': 3, 'final': 3},\n",
       " '39': {'original': 27, 'final': 27},\n",
       " '72': {'original': 6, 'final': 6},\n",
       " '32': {'original': 43, 'final': 43},\n",
       " '80': {'original': 2, 'final': 2},\n",
       " '94': {'original': 1, 'final': 1},\n",
       " '77': {'original': 2, 'final': 2},\n",
       " '67': {'original': 11, 'final': 11},\n",
       " '86': {'original': 6, 'final': 6},\n",
       " '113': {'original': 1, 'final': 1},\n",
       " '40': {'original': 21, 'final': 21},\n",
       " '36': {'original': 37, 'final': 37},\n",
       " '29': {'original': 52, 'final': 52},\n",
       " '59': {'original': 6, 'final': 6},\n",
       " '104': {'original': 1, 'final': 1},\n",
       " '73': {'original': 5, 'final': 5},\n",
       " '60': {'original': 5, 'final': 5},\n",
       " '38': {'original': 26, 'final': 26},\n",
       " '42': {'original': 20, 'final': 20},\n",
       " '57': {'original': 10, 'final': 10},\n",
       " '71': {'original': 4, 'final': 4},\n",
       " '68': {'original': 2, 'final': 2},\n",
       " '56': {'original': 5, 'final': 5},\n",
       " '49': {'original': 9, 'final': 9},\n",
       " '53': {'original': 8, 'final': 8},\n",
       " '44': {'original': 14, 'final': 14},\n",
       " '55': {'original': 6, 'final': 6},\n",
       " '47': {'original': 10, 'final': 10},\n",
       " '48': {'original': 11, 'final': 11},\n",
       " '90': {'original': 1, 'final': 1},\n",
       " '85': {'original': 2, 'final': 2},\n",
       " '30': {'original': 46, 'final': 46},\n",
       " '45': {'original': 17, 'final': 17},\n",
       " '129': {'original': 1, 'final': 1},\n",
       " '52': {'original': 4, 'final': 4},\n",
       " '31': {'original': 38, 'final': 38},\n",
       " '43': {'original': 17, 'final': 17},\n",
       " '54': {'original': 6, 'final': 6},\n",
       " '108': {'original': 1, 'final': 1},\n",
       " '37': {'original': 27, 'final': 27},\n",
       " '25': {'original': 81, 'final': 81},\n",
       " '105': {'original': 1, 'final': 1},\n",
       " '33': {'original': 38, 'final': 38},\n",
       " '27': {'original': 72, 'final': 72},\n",
       " '41': {'original': 10, 'final': 10},\n",
       " '23': {'original': 93, 'final': 93},\n",
       " '28': {'original': 67, 'final': 67},\n",
       " '34': {'original': 37, 'final': 37},\n",
       " '21': {'original': 119, 'final': 119},\n",
       " '51': {'original': 4, 'final': 4},\n",
       " '35': {'original': 34, 'final': 34},\n",
       " '82': {'original': 1, 'final': 1},\n",
       " '19': {'original': 185, 'final': 185},\n",
       " '24': {'original': 86, 'final': 86},\n",
       " '26': {'original': 79, 'final': 79},\n",
       " '15': {'original': 400, 'final': 400},\n",
       " '18': {'original': 184, 'final': 184},\n",
       " '22': {'original': 127, 'final': 127},\n",
       " '11': {'original': 854, 'final': 854},\n",
       " '20': {'original': 130, 'final': 130},\n",
       " '16': {'original': 280, 'final': 280},\n",
       " '17': {'original': 261, 'final': 261},\n",
       " '13': {'original': 518, 'final': 518},\n",
       " '10': {'original': 1110, 'final': 1110},\n",
       " '14': {'original': 460, 'final': 460},\n",
       " '12': {'original': 614, 'final': 614},\n",
       " '9': {'original': 1428, 'final': 1428},\n",
       " '8': {'original': 2011, 'final': 2011}}"
      ]
     },
     "execution_count": 34,
     "metadata": {},
     "output_type": "execute_result"
    }
   ],
   "source": [
    "outdict[0]['survived']"
   ]
  },
  {
   "cell_type": "code",
   "execution_count": null,
   "metadata": {},
   "outputs": [],
   "source": []
  }
 ],
 "metadata": {
  "kernelspec": {
   "display_name": "Python 3",
   "language": "python",
   "name": "python3"
  },
  "language_info": {
   "codemirror_mode": {
    "name": "ipython",
    "version": 3
   },
   "file_extension": ".py",
   "mimetype": "text/x-python",
   "name": "python",
   "nbconvert_exporter": "python",
   "pygments_lexer": "ipython3",
   "version": "3.6.9"
  }
 },
 "nbformat": 4,
 "nbformat_minor": 4
}
