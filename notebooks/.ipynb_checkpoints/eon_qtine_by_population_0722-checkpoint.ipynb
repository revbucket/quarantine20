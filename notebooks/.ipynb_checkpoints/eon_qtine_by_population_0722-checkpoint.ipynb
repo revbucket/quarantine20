{
 "cells": [
  {
   "cell_type": "code",
   "execution_count": 1,
   "metadata": {},
   "outputs": [],
   "source": [
    "# IMPORT BLOCK\n",
    "import networkx as nx \n",
    "import matplotlib.pyplot as plt \n",
    "import numpy as np\n",
    "import EoN\n",
    "import time\n",
    "import seaborn as sns"
   ]
  },
  {
   "cell_type": "code",
   "execution_count": 2,
   "metadata": {},
   "outputs": [],
   "source": [
    "# BASIC UTILITIES BLOCK \n",
    "def selector(els, idxs):\n",
    "    for idx in idxs:\n",
    "        yield els[idx]\n",
    "        \n",
    "def tuple_filter(tup_iter, idx):\n",
    "    return [tup[idx] for tup in tup_iter]\n",
    "\n",
    "        \n",
    "def c(i):\n",
    "    return 'bgrcmyk'[i]\n",
    "\n",
    "\n",
    "def invert_dict(d):\n",
    "    new_dict = {} \n",
    "    for k,v in d.items():\n",
    "        if v in new_dict:\n",
    "            new_dict[v].append(k)\n",
    "        else:\n",
    "            new_dict[v] = [k]\n",
    "    return new_dict\n",
    "        \n",
    "def argmax(iterable):\n",
    "    # Returns max_idx, max_value\n",
    "    max_val, max_idx = -float('inf'), None\n",
    "    for i, el in enumerate(iterable):\n",
    "        if el > max_val:\n",
    "            max_val = el \n",
    "            max_idx = i \n",
    "    return max_idx, max_val"
   ]
  },
  {
   "cell_type": "code",
   "execution_count": 9,
   "metadata": {},
   "outputs": [
    {
     "ename": "IndentationError",
     "evalue": "expected an indented block (<ipython-input-9-a8e1409b7129>, line 10)",
     "output_type": "error",
     "traceback": [
      "\u001b[0;36m  File \u001b[0;32m\"<ipython-input-9-a8e1409b7129>\"\u001b[0;36m, line \u001b[0;32m10\u001b[0m\n\u001b[0;31m    self.tmax = tmax or t[-1]\u001b[0m\n\u001b[0m       ^\u001b[0m\n\u001b[0;31mIndentationError\u001b[0m\u001b[0;31m:\u001b[0m expected an indented block\n"
     ]
    }
   ],
   "source": [
    "# GENERIC CODE BLOCK (WILL APPEAR IN ALL NOTEBOOKS)\n",
    "class TupleSIR:\n",
    "    \"\"\" Class to handle tuples \"\"\"\n",
    "    def __init__(self, t, S, I, R, tmax=None):\n",
    "        self.t = t \n",
    "        self.S = S \n",
    "        self.I = I \n",
    "        self.R = R \n",
    "        if tmax is not None:\n",
    "        self.tmax = tmax or t[-1]\n",
    "    \n",
    "    @classmethod\n",
    "    def from_summary(cls, summary, tmax=None):\n",
    "        return cls(summary.t(), summary.S(), summary.I(), summary.R(), tmax=tmax)\n",
    "\n",
    "    @classmethod\n",
    "    def empty(cls):\n",
    "        return cls(*[np.empty(0) for _ in range(4)], tmax=0.0)\n",
    "    \n",
    "    def get_by_str(self, s):\n",
    "        return getattr(self, s)\n",
    "    \n",
    "    def get_max_I(self):\n",
    "        return max(self.I)\n",
    "    \n",
    "    def get_final_R(self):\n",
    "        return self.R[-1]\n",
    "    \n",
    "    def get_peak_I_time(self):\n",
    "        # Returns (time_of_max_I, max_I)\n",
    "        return argmax(self.I)\n",
    "    \n",
    "        \n",
    "    \n",
    "\n",
    "def run_until_time(G, tau, gamma, rho, tmax):\n",
    "    \"\"\" Runs basic SIR until time T:\n",
    "    \n",
    "    RETURNS:\n",
    "        G', TupleSIR\n",
    "        G': new graph object with I,R nodes removed (unless tmax=0.0, then returns identical G)\n",
    "        TUpleSIR: TupleSIR object with run data\n",
    "    \"\"\"\n",
    "    # handle edge case where tmax == 0:\n",
    "    if tmax == 0:\n",
    "        return G, TupleSIR.empty() \n",
    "    summary = EoN.fast_SIR(G, tau, gamma, rho=rho, tmax=tmax, return_full_data=True)\n",
    "    \n",
    "    summary_dict = invert_dict(summary.get_statuses(time=tmax))\n",
    "    \n",
    "    I_nodes = summary_dict.get('I', [])\n",
    "    R_nodes = summary_dict.get('R', [])\n",
    "    \n",
    "    G = G.copy() \n",
    "    G.remove_nodes_from(I_nodes)\n",
    "    G.remove_nodes_from(R_nodes)\n",
    "    return G, TupleSIR.from_summary(summary)\n",
    "\n",
    "\n",
    "def run_until_prop_IR(G, tau, gamma, rho, tmax, prop, total_nodes=None):\n",
    "    \"\"\"\n",
    "    Runs SIR model until prop (in [0,1]) fraction of nodes are in I+R states \n",
    "    If total_nodes is not None, then the proportion is WRT total_nodes (and not len(G))\n",
    "    \n",
    "    RETURNS: G2, status_dict\n",
    "    G2 is a copy of the graph G with I,R nodes removed \n",
    "    status_dict is a dict with keys {t, S, I, R} pointing to the right times \n",
    "    \"\"\"\n",
    "    if min([tmax, prop]) == 0:\n",
    "        return G, TupleSIR.empty()\n",
    "\n",
    "    total_nodes = total_nodes or len(G)\n",
    "    threshold = total_nodes * prop\n",
    "    # This has to be slower because we need to run the infection \n",
    "    # and then figure out which time to cut things off (ex-post facto)\n",
    "    summary = EoN.fast_SIR(G, tau, gamma, rho=rho, tmax=tmax, return_full_data=True)\n",
    "\n",
    "    I, R = summary.I(), summary.R() \n",
    "    breakpoint = None\n",
    "    for i in range(len(I)):\n",
    "        if I[i] + R[i] >= threshold:\n",
    "            breakpoint = i \n",
    "            break\n",
    "            \n",
    "    if breakpoint is not None: # if achieved threshold, modify the graph\n",
    "        breaktime = summary.t()[breakpoint]\n",
    "    else:\n",
    "        breaktime = tmax \n",
    "    summary_dict = invert_dict(summary.get_statuses(time=breaktime))\n",
    "    #print(\"summary_dict\", [(k, len(v)) for k,v in summary_dict.items()])\n",
    "    I_nodes = summary_dict.get('I', [])\n",
    "    R_nodes = summary_dict.get('R', [])\n",
    "    G = G.copy() \n",
    "    G.remove_nodes_from(I_nodes)\n",
    "    G.remove_nodes_from(R_nodes)\n",
    "    return G, TupleSIR.from_summary(summary)\n",
    "    \n",
    "    \n",
    "def cat_tuples(tup_list):\n",
    "    # Given a list of TupleSIR objects, concatenate them into a single TupleSIR object \n",
    "    if not isinstance(tup_list, list):\n",
    "        return tup_list # should just be a single TupleSIR object \n",
    "    \n",
    "    t_lists, s_lists, i_lists, r_lists = [], [], [], [] \n",
    "    running_t = 0\n",
    "    running_r = 0\n",
    "    for tup in tup_list:\n",
    "        # Save in-run data \n",
    "        t_lists.append(running_t + tup.t)\n",
    "        s_lists.append(tup.S)\n",
    "        i_lists.append(tup.I)\n",
    "        r_lists.append(running_r + tup.R)\n",
    "        \n",
    "        # add end-time-arrays \n",
    "        t_lists.append(np.array([tup.tmax + running_t]))\n",
    "        s_lists.append(np.array([tup.S[-1]]))\n",
    "        i_lists.append(np.array([tup.I[-1]]))\n",
    "        r_lists.append(np.array([tup.R[-1] + running_r]))\n",
    "        \n",
    "        # update running_r,t\n",
    "        running_t += tup.tmax \n",
    "        running_r += tup.I[-1] + tup.R[-1]\n",
    "    \n",
    "\n",
    "    # And concatenate everything in the end \n",
    "    final_t = np.concatenate(t_lists)\n",
    "    final_s = np.concatenate(s_lists)\n",
    "    final_i = np.concatenate(i_lists)\n",
    "    final_r = np.concatenate(r_lists)\n",
    "    \n",
    "    return TupleSIR(final_t, final_s, final_i, final_r, tmax=running_t)\n",
    "\n",
    "def plot_sir_counts(tup_list, plot_series='IR', ax=None):\n",
    "    # Makes a plot for each of the plots in plot_series\n",
    "    str_dict = {'I': '# Infected', \n",
    "                  'R': '# Recovered'}\n",
    "    for serie in plot_series:\n",
    "        fig, ax = plt.subplots(figsize=(8,8))\n",
    "        for i, tup in enumerate(tup_list):\n",
    "            ax.plot(tup.t, tup.get_by_str(serie), c=c(i), alpha=0.5, label=getattr(tup, 'label', None))\n",
    "        ax.set_xlabel('Time')\n",
    "        ax.set_ylabel(str_dict[serie])\n",
    "        ax.set_title(str_dict[serie] + ' by time')\n",
    "        ax.legend() \n",
    "        \n",
    "        \n",
    "def quarantines_by_time(G, tau, gamma, rho, qtimes, tmax):\n",
    "    # Runs a model for time tmax, with quarantines specified by qtimes \n",
    "    # Qtimes is a list of cumulative quarantine times \n",
    "    if not isinstance(qtimes, list):\n",
    "        qtimes = [qtimes]\n",
    "    deltas = [qtimes[0]]\n",
    "    print(\"Deltas\", deltas)\n",
    "    for i in range(len(qtimes) - 1):\n",
    "        deltas.append(qtimes[i + 1] - qtimes[i])\n",
    "    deltas.append(tmax - qtimes[-1])\n",
    "    tups = []\n",
    "    for delta in deltas:\n",
    "        G, tup = run_until_time(G, tau, gamma, rho=rho, tmax=delta)\n",
    "        tups.append(tup)\n",
    "    return cat_tuples(tups)\n",
    "\n",
    "\n",
    "def quarantine_by_pop(G, tau, gamma, rho, prop, tmax):\n",
    "    # SINGLE QUARANTINE ONLY!!!\n",
    "    # Runs a single quarantine which is initialized when the proportion I,R gets to prop \n",
    "    # and then runs until tmax afterwards \n",
    "    \n",
    "    G1, tup1 = run_until_prop_IR(G, tau, gamma, rho, tmax, prop)\n",
    "    remaining_time = tmax - tup1.tmax \n",
    "    G2, tup2 = run_until_time(G, tau, gamma, rho, remaining_time)\n",
    "    \n",
    "    return cat_tuples([tup1, tup2])\n",
    "\n",
    "\n",
    "\n",
    "SERIES_IDX = {'S': 1, 'I': 2, 'R': 3}\n",
    "def plot_vanilla_run(G, tau, gamma, rho, tmax, series='IR'):\n",
    "    axlist = []\n",
    "    for serie in series: \n",
    "        fig, ax = plt.subplots(figsize=(8,8))\n",
    "\n",
    "        select = lambda tup: tup[SERIES_IDX[serie]]\n",
    "        for i in range(5):\n",
    "            runtup = EoN.fast_SIR(G, tau, gamma, rho=rho, tmax=tmax)\n",
    "            ax.plot(runtup[0], select(runtup), c='k', alpha=0.3)\n",
    "        axlist.append(ax)\n",
    "    if len(axlist) > 1:\n",
    "        return axlist\n",
    "    return axlist[0]\n",
    "\n",
    "\n",
    "# THINGS TO PLOT \n",
    "# X-axis: timestep quarantine was performed at \n",
    "# Y-axis1: maximum number of infected at any one time \n",
    "# Y-axis2: number of recovered at t=infinity (so number of people who got it )\n",
    "\n",
    "\n",
    "def plot_single_qs(qrange, G, tau, gamma, rho, maxt):\n",
    "    # qrange is a list of \n",
    "    #step 1, run each simulation:\n",
    "    sum_ranges = [] \n",
    "    for qseries in qrange:\n",
    "        print(\"Running sim on series:\", qseries)\n",
    "        sum_ranges.append(quarantine_cycle(G, tau, gamma, rho, qseries, maxt))\n",
    "        \n",
    "    \n",
    "    #step2, triples we care about (quarantine_time, maxI, finalR)\n",
    "    triples = [(qrange[i], get_max_I(_), get_final_R(_)) for i,_ in enumerate(sum_ranges)]\n",
    "    \n",
    "    # step 3, plot both series\n",
    "    plt.plot(tuple_filter(triples, 0), tuple_filter(triples, 1), c='b', alpha=0.5, label='maxI')\n",
    "    plt.plot(tuple_filter(triples, 0), tuple_filter(triples, 2), c='r', alpha=0.5, label='finalR')\n",
    "    \n",
    "    return sum_ranges\n",
    "\n",
    "    "
   ]
  },
  {
   "cell_type": "code",
   "execution_count": 4,
   "metadata": {},
   "outputs": [],
   "source": [
    "# CUSTOM CODE BLOCK (WILL APPEAR ONLY IN THIS NOTEBOOK)\n",
    "SERIES_IDX = {'S': 1, 'I': 2, 'R': 3}\n",
    "def plot_vanilla_run(G, tau, gamma, rho, tmax, series='IR'):\n",
    "    axlist = []\n",
    "    for serie in series: \n",
    "        fig, ax = plt.subplots(figsize=(8,8))\n",
    "\n",
    "        select = lambda tup: tup[SERIES_IDX[serie]]\n",
    "        for i in range(5):\n",
    "            runtup = EoN.fast_SIR(G, tau, gamma, rho=rho, tmax=tmax)\n",
    "            ax.plot(runtup[0], select(runtup), c='k', alpha=0.3)\n",
    "        axlist.append(ax)\n",
    "    if len(axlist) > 1:\n",
    "        return axlist\n",
    "    return axlist[0]\n",
    "\n",
    "def data_getter(G, tau, gamma, rho, tmax, qtimes):\n",
    "    # For every quarantine-schedule in qtimes: \n",
    "    return [quarantine_cycle(G, tau, gamma, rho, _, tmax) for _ in qtimes]\n",
    "\n",
    "    \n",
    "    \n",
    "def plot_maxI_finalR(data, qtimes):\n",
    "    fig, ax = plt.subplots(figsize=(8,8))\n",
    "    triples = [(qtime, get_max_I(data[i]), get_final_R(data[i])) for i, qtime in enumerate(qtimes)]\n",
    "    ax.plot(tuple_filter(triples, 0), tuple_filter(triples, 1), c='b', alpha=0.5, label='maxI')\n",
    "    ax.plot(tuple_filter(triples, 0), tuple_filter(triples, 2), c='r', alpha=0.5, label='finalR')\n",
    "    ax.set_xlabel(\"Quaratine Time\")\n",
    "    ax.set_ylabel(\"# Individuals\")\n",
    "    ax.legend()\n",
    "    ax.plot()\n",
    "    return ax \n",
    "    \n",
    "def plot_SIR_runs(data, qtimes, idx_selectors, series='I'):\n",
    "    fig, ax = plt.subplots(figsize=(12,12))\n",
    "    qtimes = list(selector(qtimes, idx_selectors))\n",
    "    runs = list(selector(data, idx_selectors))\n",
    "    pairs = [(run[0], run[SERIES_IDX[series]]) for run in runs]\n",
    "    for i, (qtime, pair) in enumerate(zip(qtimes, pairs)):\n",
    "        ax.plot(pair[0], pair[1], c=c(i), alpha=0.5, label=\"Q@ time: %s\" % qtime)\n",
    "    ax.legend()\n",
    "    return ax\n",
    "\n",
    "\n",
    "def compare_to_vanilla(vanilla_run, comp_run, series='I'):\n",
    "    fig, ax = plt.subplots(figsize=(12, 12))\n",
    "    idx = SERIES_IDX[series]\n",
    "    ax.plot(vanilla_run[0], vanilla_run[idx], c='k', alpha=0.5, label='vanilla')\n",
    "    ax.plot(comp_run[0], comp_run[idx], c='b', alpha=0.5, label='comparison')\n",
    "    ax.legend()\n",
    "    return ax"
   ]
  },
  {
   "cell_type": "code",
   "execution_count": 5,
   "metadata": {},
   "outputs": [],
   "source": [
    "def run_until_prop_IR(G, tau, gamma, rho, tmax, prop, total_nodes=None):\n",
    "    \"\"\"\n",
    "    Runs SIR model until prop (in [0,1]) fraction of nodes are in I+R states \n",
    "    If total_nodes is not None, then the proportion is WRT total_nodes (and not len(G))\n",
    "    \n",
    "    RETURNS: G2, status_dict\n",
    "    G2 is a copy of the graph G with I,R nodes removed \n",
    "    status_dict is a dict with keys {t, S, I, R} pointing to the right times \n",
    "    \"\"\"\n",
    "    if min([tmax, prop]) == 0:\n",
    "        return G, TupleSIR.empty()\n",
    "\n",
    "    total_nodes = total_nodes or len(G)\n",
    "    threshold = total_nodes * prop\n",
    "    # This has to be slower because we need to run the infection \n",
    "    # and then figure out which time to cut things off (ex-post facto)\n",
    "    summary = EoN.fast_SIR(G, tau, gamma, rho=rho, tmax=tmax, return_full_data=True)\n",
    "\n",
    "    I, R = summary.I(), summary.R() \n",
    "    breakpoint = None\n",
    "    for i in range(len(I)):\n",
    "        if I[i] + R[i] >= threshold:\n",
    "            breakpoint = i \n",
    "            break\n",
    "            \n",
    "    if breakpoint is not None: # if achieved threshold, modify the graph\n",
    "        breaktime = summary.t()[breakpoint]\n",
    "    else:\n",
    "        breaktime = tmax \n",
    "    print(\"BREAKTIME\", breaktime)\n",
    "    summary_dict = invert_dict(summary.get_statuses(time=breaktime))\n",
    "    #print(\"summary_dict\", [(k, len(v)) for k,v in summary_dict.items()])\n",
    "    I_nodes = summary_dict.get('I', [])\n",
    "    R_nodes = summary_dict.get('R', [])\n",
    "    print(\"LEN IR\", len(I_nodes), len(R_nodes))\n",
    "    G = G.copy() \n",
    "    G.remove_nodes_from(I_nodes)\n",
    "    G.remove_nodes_from(R_nodes)\n",
    "    return G, TupleSIR.from_summary(summary)\n",
    "    "
   ]
  },
  {
   "cell_type": "code",
   "execution_count": 6,
   "metadata": {},
   "outputs": [],
   "source": [
    "N = 10 ** 4\n",
    "G = nx.barabasi_albert_graph(N, 8)\n",
    "\n",
    "tmax = 20 \n",
    "iterations = 5  #run 5 simulations\n",
    "tau = 0.15        #transmission rate\n",
    "gamma = 1.0    #recovery rate\n",
    "rho = 0.005      #random fraction initially infected\n"
   ]
  },
  {
   "cell_type": "code",
   "execution_count": 7,
   "metadata": {},
   "outputs": [
    {
     "data": {
      "text/plain": [
       "[<matplotlib.axes._subplots.AxesSubplot at 0x7fb3f74d4668>,\n",
       " <matplotlib.axes._subplots.AxesSubplot at 0x7fb3f5d73f60>]"
      ]
     },
     "execution_count": 7,
     "metadata": {},
     "output_type": "execute_result"
    },
    {
     "data": {
      "image/png": "[encoded data removed]",
      "text/plain": [
       "<Figure size 576x576 with 1 Axes>"
      ]
     },
     "metadata": {
      "needs_background": "light"
     },
     "output_type": "display_data"
    },
    {
     "data": {
      "image/png": "[encoded data removed]",
      "text/plain": [
       "<Figure size 576x576 with 1 Axes>"
      ]
     },
     "metadata": {
      "needs_background": "light"
     },
     "output_type": "display_data"
    }
   ],
   "source": [
    "plot_vanilla_run(G, tau, gamma, rho, 20)"
   ]
  },
  {
   "cell_type": "code",
   "execution_count": null,
   "metadata": {},
   "outputs": [],
   "source": []
  },
  {
   "cell_type": "code",
   "execution_count": 8,
   "metadata": {},
   "outputs": [
    {
     "name": "stdout",
     "output_type": "stream",
     "text": [
      "Deltas [0.0]\n"
     ]
    },
    {
     "ename": "IndexError",
     "evalue": "index -1 is out of bounds for axis 0 with size 0",
     "output_type": "error",
     "traceback": [
      "\u001b[0;31m---------------------------------------------------------------------------\u001b[0m",
      "\u001b[0;31mIndexError\u001b[0m                                Traceback (most recent call last)",
      "\u001b[0;32m<ipython-input-8-2339bb8c0d98>\u001b[0m in \u001b[0;36m<module>\u001b[0;34m\u001b[0m\n\u001b[0;32m----> 1\u001b[0;31m \u001b[0mquarantines_by_time\u001b[0m\u001b[0;34m(\u001b[0m\u001b[0mG\u001b[0m\u001b[0;34m,\u001b[0m \u001b[0mtau\u001b[0m\u001b[0;34m,\u001b[0m \u001b[0mgamma\u001b[0m\u001b[0;34m,\u001b[0m \u001b[0mrho\u001b[0m\u001b[0;34m,\u001b[0m \u001b[0;34m[\u001b[0m\u001b[0;36m0.0\u001b[0m\u001b[0;34m]\u001b[0m\u001b[0;34m,\u001b[0m\u001b[0;36m20\u001b[0m\u001b[0;34m)\u001b[0m\u001b[0;34m\u001b[0m\u001b[0;34m\u001b[0m\u001b[0m\n\u001b[0m",
      "\u001b[0;32m<ipython-input-3-ffe29b00dd0d>\u001b[0m in \u001b[0;36mquarantines_by_time\u001b[0;34m(G, tau, gamma, rho, qtimes, tmax)\u001b[0m\n\u001b[1;32m    156\u001b[0m     \u001b[0mtups\u001b[0m \u001b[0;34m=\u001b[0m \u001b[0;34m[\u001b[0m\u001b[0;34m]\u001b[0m\u001b[0;34m\u001b[0m\u001b[0;34m\u001b[0m\u001b[0m\n\u001b[1;32m    157\u001b[0m     \u001b[0;32mfor\u001b[0m \u001b[0mdelta\u001b[0m \u001b[0;32min\u001b[0m \u001b[0mdeltas\u001b[0m\u001b[0;34m:\u001b[0m\u001b[0;34m\u001b[0m\u001b[0;34m\u001b[0m\u001b[0m\n\u001b[0;32m--> 158\u001b[0;31m         \u001b[0mG\u001b[0m\u001b[0;34m,\u001b[0m \u001b[0mtup\u001b[0m \u001b[0;34m=\u001b[0m \u001b[0mrun_until_time\u001b[0m\u001b[0;34m(\u001b[0m\u001b[0mG\u001b[0m\u001b[0;34m,\u001b[0m \u001b[0mtau\u001b[0m\u001b[0;34m,\u001b[0m \u001b[0mgamma\u001b[0m\u001b[0;34m,\u001b[0m \u001b[0mrho\u001b[0m\u001b[0;34m=\u001b[0m\u001b[0mrho\u001b[0m\u001b[0;34m,\u001b[0m \u001b[0mtmax\u001b[0m\u001b[0;34m=\u001b[0m\u001b[0mdelta\u001b[0m\u001b[0;34m)\u001b[0m\u001b[0;34m\u001b[0m\u001b[0;34m\u001b[0m\u001b[0m\n\u001b[0m\u001b[1;32m    159\u001b[0m         \u001b[0mtups\u001b[0m\u001b[0;34m.\u001b[0m\u001b[0mappend\u001b[0m\u001b[0;34m(\u001b[0m\u001b[0mtup\u001b[0m\u001b[0;34m)\u001b[0m\u001b[0;34m\u001b[0m\u001b[0;34m\u001b[0m\u001b[0m\n\u001b[1;32m    160\u001b[0m     \u001b[0;32mreturn\u001b[0m \u001b[0mcat_tuples\u001b[0m\u001b[0;34m(\u001b[0m\u001b[0mtups\u001b[0m\u001b[0;34m)\u001b[0m\u001b[0;34m\u001b[0m\u001b[0;34m\u001b[0m\u001b[0m\n",
      "\u001b[0;32m<ipython-input-3-ffe29b00dd0d>\u001b[0m in \u001b[0;36mrun_until_time\u001b[0;34m(G, tau, gamma, rho, tmax)\u001b[0m\n\u001b[1;32m     43\u001b[0m     \u001b[0;31m# handle edge case where tmax == 0:\u001b[0m\u001b[0;34m\u001b[0m\u001b[0;34m\u001b[0m\u001b[0;34m\u001b[0m\u001b[0m\n\u001b[1;32m     44\u001b[0m     \u001b[0;32mif\u001b[0m \u001b[0mtmax\u001b[0m \u001b[0;34m==\u001b[0m \u001b[0;36m0\u001b[0m\u001b[0;34m:\u001b[0m\u001b[0;34m\u001b[0m\u001b[0;34m\u001b[0m\u001b[0m\n\u001b[0;32m---> 45\u001b[0;31m         \u001b[0;32mreturn\u001b[0m \u001b[0mG\u001b[0m\u001b[0;34m,\u001b[0m \u001b[0mTupleSIR\u001b[0m\u001b[0;34m.\u001b[0m\u001b[0mempty\u001b[0m\u001b[0;34m(\u001b[0m\u001b[0;34m)\u001b[0m\u001b[0;34m\u001b[0m\u001b[0;34m\u001b[0m\u001b[0m\n\u001b[0m\u001b[1;32m     46\u001b[0m     \u001b[0msummary\u001b[0m \u001b[0;34m=\u001b[0m \u001b[0mEoN\u001b[0m\u001b[0;34m.\u001b[0m\u001b[0mfast_SIR\u001b[0m\u001b[0;34m(\u001b[0m\u001b[0mG\u001b[0m\u001b[0;34m,\u001b[0m \u001b[0mtau\u001b[0m\u001b[0;34m,\u001b[0m \u001b[0mgamma\u001b[0m\u001b[0;34m,\u001b[0m \u001b[0mrho\u001b[0m\u001b[0;34m=\u001b[0m\u001b[0mrho\u001b[0m\u001b[0;34m,\u001b[0m \u001b[0mtmax\u001b[0m\u001b[0;34m=\u001b[0m\u001b[0mtmax\u001b[0m\u001b[0;34m,\u001b[0m \u001b[0mreturn_full_data\u001b[0m\u001b[0;34m=\u001b[0m\u001b[0;32mTrue\u001b[0m\u001b[0;34m)\u001b[0m\u001b[0;34m\u001b[0m\u001b[0;34m\u001b[0m\u001b[0m\n\u001b[1;32m     47\u001b[0m \u001b[0;34m\u001b[0m\u001b[0m\n",
      "\u001b[0;32m<ipython-input-3-ffe29b00dd0d>\u001b[0m in \u001b[0;36mempty\u001b[0;34m(cls)\u001b[0m\n\u001b[1;32m     15\u001b[0m     \u001b[0;34m@\u001b[0m\u001b[0mclassmethod\u001b[0m\u001b[0;34m\u001b[0m\u001b[0;34m\u001b[0m\u001b[0m\n\u001b[1;32m     16\u001b[0m     \u001b[0;32mdef\u001b[0m \u001b[0mempty\u001b[0m\u001b[0;34m(\u001b[0m\u001b[0mcls\u001b[0m\u001b[0;34m)\u001b[0m\u001b[0;34m:\u001b[0m\u001b[0;34m\u001b[0m\u001b[0;34m\u001b[0m\u001b[0m\n\u001b[0;32m---> 17\u001b[0;31m         \u001b[0;32mreturn\u001b[0m \u001b[0mcls\u001b[0m\u001b[0;34m(\u001b[0m\u001b[0;34m*\u001b[0m\u001b[0;34m[\u001b[0m\u001b[0mnp\u001b[0m\u001b[0;34m.\u001b[0m\u001b[0mempty\u001b[0m\u001b[0;34m(\u001b[0m\u001b[0;36m0\u001b[0m\u001b[0;34m)\u001b[0m \u001b[0;32mfor\u001b[0m \u001b[0m_\u001b[0m \u001b[0;32min\u001b[0m \u001b[0mrange\u001b[0m\u001b[0;34m(\u001b[0m\u001b[0;36m4\u001b[0m\u001b[0;34m)\u001b[0m\u001b[0;34m]\u001b[0m\u001b[0;34m,\u001b[0m \u001b[0mtmax\u001b[0m\u001b[0;34m=\u001b[0m\u001b[0;36m0.0\u001b[0m\u001b[0;34m)\u001b[0m\u001b[0;34m\u001b[0m\u001b[0;34m\u001b[0m\u001b[0m\n\u001b[0m\u001b[1;32m     18\u001b[0m \u001b[0;34m\u001b[0m\u001b[0m\n\u001b[1;32m     19\u001b[0m     \u001b[0;32mdef\u001b[0m \u001b[0mget_by_str\u001b[0m\u001b[0;34m(\u001b[0m\u001b[0mself\u001b[0m\u001b[0;34m,\u001b[0m \u001b[0ms\u001b[0m\u001b[0;34m)\u001b[0m\u001b[0;34m:\u001b[0m\u001b[0;34m\u001b[0m\u001b[0;34m\u001b[0m\u001b[0m\n",
      "\u001b[0;32m<ipython-input-3-ffe29b00dd0d>\u001b[0m in \u001b[0;36m__init__\u001b[0;34m(self, t, S, I, R, tmax)\u001b[0m\n\u001b[1;32m      7\u001b[0m         \u001b[0mself\u001b[0m\u001b[0;34m.\u001b[0m\u001b[0mI\u001b[0m \u001b[0;34m=\u001b[0m \u001b[0mI\u001b[0m\u001b[0;34m\u001b[0m\u001b[0;34m\u001b[0m\u001b[0m\n\u001b[1;32m      8\u001b[0m         \u001b[0mself\u001b[0m\u001b[0;34m.\u001b[0m\u001b[0mR\u001b[0m \u001b[0;34m=\u001b[0m \u001b[0mR\u001b[0m\u001b[0;34m\u001b[0m\u001b[0;34m\u001b[0m\u001b[0m\n\u001b[0;32m----> 9\u001b[0;31m         \u001b[0mself\u001b[0m\u001b[0;34m.\u001b[0m\u001b[0mtmax\u001b[0m \u001b[0;34m=\u001b[0m \u001b[0mtmax\u001b[0m \u001b[0;32mor\u001b[0m \u001b[0mt\u001b[0m\u001b[0;34m[\u001b[0m\u001b[0;34m-\u001b[0m\u001b[0;36m1\u001b[0m\u001b[0;34m]\u001b[0m\u001b[0;34m\u001b[0m\u001b[0;34m\u001b[0m\u001b[0m\n\u001b[0m\u001b[1;32m     10\u001b[0m \u001b[0;34m\u001b[0m\u001b[0m\n\u001b[1;32m     11\u001b[0m     \u001b[0;34m@\u001b[0m\u001b[0mclassmethod\u001b[0m\u001b[0;34m\u001b[0m\u001b[0;34m\u001b[0m\u001b[0m\n",
      "\u001b[0;31mIndexError\u001b[0m: index -1 is out of bounds for axis 0 with size 0"
     ]
    }
   ],
   "source": [
    "quarantines_by_time(G, tau, gamma, rho, [0.0],20)"
   ]
  },
  {
   "cell_type": "code",
   "execution_count": null,
   "metadata": {},
   "outputs": [],
   "source": [
    "# HEATMAPS DONE RIGHT:\n",
    "# Step 1: Define quarantine grid and run multiple runs (don't need to return full data...)\n",
    "def get_quarantine_grid_data(G, tau, gamma, rho, tmax, first_qrange, second_qrange, num_iter=3):\n",
    "    \"\"\" G,tau,gamm, rho,tmax are all standard parameters \n",
    "        first_qrange is a list of times for the first quarantine \n",
    "        second_qrange is a list of times for the second quarantine (e.g., 1 here means do \n",
    "        second quarantine 1 time unit after first quarantine)\n",
    "    Runs quarantine for cartesian product between the two qranges \n",
    "    OUTPUT DATA STRUCTURE IS A DICT WITH KEYS BEING TUPLES\n",
    "    \"\"\"\n",
    "    qpairs = [[q0, q1] for q0 in first_qrange for q1 in second_qrange]\n",
    "    output_data = {}\n",
    "    for q0, q1 in qpairs:\n",
    "        pair_runs = [] # (t, S, I, R) tuples in this list\n",
    "        for i in range(num_iter):\n",
    "            pair_runs.append(quarantine_cycle(G, tau, gamma, rho, [q0, q0 + q1], tmax))\n",
    "        output_data[(q0, q1)] = pair_runs\n",
    "    return output_data\n",
    "                             \n",
    "sample_grid = get_quarantine_grid_data(G, tau, gamma, rho, tmax, list(range(5)), list(range(5)))"
   ]
  },
  {
   "cell_type": "code",
   "execution_count": null,
   "metadata": {},
   "outputs": [],
   "source": [
    "def process_into_grid(data_dict, func=None):\n",
    "    if func is None:\n",
    "        func = lambda x: x \n",
    "    \n",
    "    # First make a grid from the data:\n",
    "    keys = sorted(data_dict.keys())\n",
    "    # make rows:(based on first element of key)\n",
    "    grid = []\n",
    "    prev_key = keys[0][0]\n",
    "    current_row = []\n",
    "    grid_check = []\n",
    "    current_row_grid_check = []\n",
    "    for k in keys:\n",
    "        if k[0] != prev_key:\n",
    "            grid.append(current_row)\n",
    "            current_row = [] \n",
    "            prev_key = k[0]\n",
    "            grid_check.append(current_row_grid_check)\n",
    "            current_row_grid_check = []\n",
    "        current_row.append(func(data_dict[k]))\n",
    "        current_row_grid_check.append(k)\n",
    "    grid.append(current_row)\n",
    "    grid_check.append(current_row_grid_check)\n",
    "    return grid, grid_check\n",
    "        \n",
    "\n",
    "def avg_max_I(sum_list):\n",
    "    return sum(get_max_I(_) for _ in sum_list) / float(len(sum_list))\n",
    "\n",
    "def avg_final_R(sum_list):\n",
    "    return sum(get_final_R(_) for _ in sum_list) /float(len(sum_list))\n",
    "\n",
    "\n",
    "def heatmapify(grid, grid_idxs, title=None):\n",
    "    \"\"\" Builds a heatmap and formats it (except for the title) \"\"\"\n",
    "    fig, ax = plt.subplots(figsize=(10, 10))\n",
    "    sns.heatmap(grid, ax=ax)\n",
    "    yticks = [_[0][0] for _ in grid_idxs]\n",
    "    xticks = [_[1] for _ in grid_idxs[0]]\n",
    "    ax.set_ylabel(\"Time of first quarantine\")\n",
    "    ax.set_xlabel(\"Time of second quarantine (after first)\")\n",
    "    ax.set_yticklabels(yticks)\n",
    "    ax.set_xticklabels(xticks)\n",
    "    if title is not None:\n",
    "        ax.set_title(title)\n",
    "    \n",
    "    \n",
    "    return ax"
   ]
  },
  {
   "cell_type": "code",
   "execution_count": null,
   "metadata": {},
   "outputs": [],
   "source": [
    "heatmapify(*process_into_grid(sample_grid, avg_final_R), 'Max # Infected')"
   ]
  },
  {
   "cell_type": "code",
   "execution_count": null,
   "metadata": {},
   "outputs": [],
   "source": [
    "[_[0][0] for _ in grid_idxs]"
   ]
  },
  {
   "cell_type": "code",
   "execution_count": null,
   "metadata": {},
   "outputs": [],
   "source": [
    "start = time.time()\n",
    "EoN.fast_SIR(G, tau, gamma, rho=rho, tmax=tmax, return_full_data=True)\n",
    "print(time.time() - start)\n",
    "\n",
    "start = time.time()\n",
    "EoN.fast_SIR(G, tau, gamma, rho=rho, tmax=tmax, return_full_data=False)\n",
    "print(time.time() - start)"
   ]
  },
  {
   "cell_type": "code",
   "execution_count": null,
   "metadata": {},
   "outputs": [],
   "source": []
  },
  {
   "cell_type": "code",
   "execution_count": null,
   "metadata": {},
   "outputs": [],
   "source": [
    "plot_vanilla_run(G, tau, gamma, rho, tmax)"
   ]
  },
  {
   "cell_type": "code",
   "execution_count": null,
   "metadata": {},
   "outputs": [],
   "source": [
    "# EXPERIMENT 1: Infection spreads more slowly after first quarantine:\n",
    "# Show that time to peak increases after first quarantine\n",
    "def time_to_second_peak(G, tau, gamma, rho, tmax, qtime):\n",
    "    g1, summ1 = run_until_time(G, tau, gamma, rho=rho, tmax=qtime)\n",
    "    g2, summ2 = run_until_time(g1, tau, gamma, rho=rho, tmax=tmax-qtime)\n",
    "    return summ2.t()[max_idx(summ2.I())]\n",
    "\n",
    "def avg_by_tt2p(G, tau, gamma, rho, tmax, qtime, num_iter=5):\n",
    "    times = [time_to_second_peak(G, tau, gamma, rho, tmax, qtime) for _ in range(num_iter)]\n",
    "    zero_less_times = [_ for _ in times if _ > 0]\n",
    "    if len(zero_less_times) == 0:\n",
    "        return 0.0 \n",
    "    else:\n",
    "        return sum(zero_less_times) / len(zero_less_times)\n",
    "    \n",
    "\n",
    "qtimes = [_ / 10.0 for _ in range(25)]\n",
    "second_peaks = [(qtime, avg_by_tt2p(G, tau, gamma, rho, 20, qtime)) for qtime in qtimes]"
   ]
  },
  {
   "cell_type": "code",
   "execution_count": null,
   "metadata": {},
   "outputs": [],
   "source": [
    "plt.plot([_[0] for _ in second_peaks], [_[1] for _ in second_peaks])"
   ]
  },
  {
   "cell_type": "code",
   "execution_count": null,
   "metadata": {},
   "outputs": [],
   "source": [
    "qpairs"
   ]
  },
  {
   "cell_type": "code",
   "execution_count": null,
   "metadata": {},
   "outputs": [],
   "source": [
    "# EXPERIMENT 2: Max I/Final R by first_qtime, second_qtime-first_qtime: \n",
    "qpairs = [[i / 4.0, i / 4.0 + j / 4.0] for i in range(10) for j in range(10)]\n",
    "grid_run =data_getter(G, tau, gamma, rho, 20, qpairs)\n",
    "\n"
   ]
  },
  {
   "cell_type": "code",
   "execution_count": null,
   "metadata": {},
   "outputs": [],
   "source": [
    "# Stack into a 2d array:\n",
    "empty_grid = [[None for _ in range(10)] for _ in range(10)]\n",
    "for i, el in enumerate(grid_run):\n",
    "    empty_grid[i % 10][i // 10] = el\n",
    "max_i_grid = [[get_max_I(el) for el in row] for row in empty_grid]\n",
    "last_r_grid = [[get_final_R(el) for el in row] for row in empty_grid]"
   ]
  },
  {
   "cell_type": "code",
   "execution_count": null,
   "metadata": {},
   "outputs": [],
   "source": []
  },
  {
   "cell_type": "code",
   "execution_count": null,
   "metadata": {},
   "outputs": [],
   "source": [
    "import seaborn as sns\n",
    "ax = sns.heatmap(np.array(max_i_grid))\n",
    "ax.set_yticklabels([_ / 4.0 for _ in range(10)])\n",
    "ax.set_xticklabels([_ / 4.0 for _ in range(10)])\n",
    "ax.set_title(\"Max # Infected\")\n",
    "ax.set_ylabel(\"Time of first quarantine\")\n",
    "ax.set_xlabel(\"Time after first quarantine before second quarantine\")"
   ]
  },
  {
   "cell_type": "code",
   "execution_count": null,
   "metadata": {},
   "outputs": [],
   "source": [
    "min_val = float('inf')\n",
    "min_idx = None\n",
    "for i, row in enumerate(last_r_grid):\n",
    "    for j, el in enumerate(row):\n",
    "        if el < min_val:\n",
    "            min_val = el \n",
    "            min_idx = (i,j)\n",
    "print(min_val, min_idx)\n",
    "last_r_grid[7][9]"
   ]
  },
  {
   "cell_type": "code",
   "execution_count": null,
   "metadata": {},
   "outputs": [],
   "source": [
    "qpairs[7 * 10 + 1]"
   ]
  },
  {
   "cell_type": "code",
   "execution_count": null,
   "metadata": {},
   "outputs": [],
   "source": [
    "last_r_grid[]"
   ]
  },
  {
   "cell_type": "code",
   "execution_count": null,
   "metadata": {},
   "outputs": [],
   "source": [
    "last_r_grid[0][0]"
   ]
  },
  {
   "cell_type": "code",
   "execution_count": null,
   "metadata": {},
   "outputs": [],
   "source": [
    "fig, ax = plt.subplots(figsize=(10,10))\n",
    "ax = sns.heatmap(np.array(last_r_grid), ax=ax)\n",
    "ax.set_yticklabels([_ / 4.0 for _ in range(10)])\n",
    "ax.set_xticklabels([_ / 4.0 for _ in range(10)])\n",
    "ax.set_title(\"Final # Recovered\")\n",
    "ax.set_ylabel(\"Time of first quarantine\")\n",
    "ax.set_xlabel(\"Time after first quarantine before second quarantine\")"
   ]
  },
  {
   "cell_type": "code",
   "execution_count": null,
   "metadata": {},
   "outputs": [],
   "source": [
    "fig, ax = plt.subplots(figsize=(10, 10))\n"
   ]
  },
  {
   "cell_type": "code",
   "execution_count": null,
   "metadata": {},
   "outputs": [],
   "source": [
    "# EXPERIMENT 3: Power of the second quarantine: \n",
    "# Hypothesis: can use 2 quarantines to drop peak #I by a factor of 4:\n",
    "\n",
    "def double_peak_cut(G, tau, gamma, rho, tmax):\n",
    "    # First do a basic run to figure out max peak and the time to apply first quarantine \n",
    "    t_, S_, I_, R_ = EoN.fast_SIR(G, tau, gamma, rho=rho, tmax=tmax)\n",
    "    peak_I = max(I_)\n",
    "    peak_I_time = t_[max_idx(I_)]\n",
    "    \n",
    "    peak_I_quarter = peak_I / 4.0 \n",
    "    quarter_I_time = 0.0\n",
    "    for idx, el in enumerate(I_):\n",
    "        if el > peak_I_quarter:\n",
    "            quarter_I_time = t_[idx]\n",
    "            break\n",
    "    # Now do a run until quarter_time: \n",
    "    G1, summ1 = run_until_time(G, tau, gamma, rho, quarter_I_time, copy_graph=True)\n",
    "    \n",
    "    # And do another run until peak hits quarter peak:\n",
    "    t_, S_, I_, R_ = EoN.fast_SIR(G1, tau, gamma, rho=rho, tmax=tmax)\n",
    "    for idx, el in enumerate(I_):\n",
    "        if el > peak_I_quarter:\n",
    "            quarter_I_time = t_[idx]\n",
    "            break\n",
    "    G2, summ2 = run_until_time(G1, tau, gamma, rho, quarter_I_time, copy_graph=True)\n",
    "    G3, summ3 = run_until_time(G2, tau, gamma, rho, tmax, copy_graph=True)\n",
    "    return summ1, summ2, summ3\n",
    "\n",
    "summs = list(double_peak_cut(G, tau, gamma, rho, tmax))"
   ]
  },
  {
   "cell_type": "code",
   "execution_count": null,
   "metadata": {},
   "outputs": [],
   "source": [
    "plot_sir_counts(summs, 'I')"
   ]
  },
  {
   "cell_type": "code",
   "execution_count": null,
   "metadata": {},
   "outputs": [],
   "source": []
  }
 ],
 "metadata": {
  "kernelspec": {
   "display_name": "Python 3",
   "language": "python",
   "name": "python3"
  },
  "language_info": {
   "codemirror_mode": {
    "name": "ipython",
    "version": 3
   },
   "file_extension": ".py",
   "mimetype": "text/x-python",
   "name": "python",
   "nbconvert_exporter": "python",
   "pygments_lexer": "ipython3",
   "version": "3.6.9"
  }
 },
 "nbformat": 4,
 "nbformat_minor": 4
}
