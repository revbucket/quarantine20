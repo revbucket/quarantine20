{
 "cells": [
  {
   "cell_type": "code",
   "execution_count": 5,
   "metadata": {},
   "outputs": [],
   "source": [
    "import sys \n",
    "sys.path.append('..')\n",
    "\n",
    "import pymongo\n",
    "from bson.objectid import ObjectId\n",
    "\n",
    "import utils"
   ]
  },
  {
   "cell_type": "code",
   "execution_count": 6,
   "metadata": {},
   "outputs": [
    {
     "name": "stderr",
     "output_type": "stream",
     "text": [
      "/home/matt/config/py3/lib/python3.6/site-packages/ipykernel_launcher.py:3: DeprecationWarning: collection_names is deprecated. Use list_collection_names instead.\n",
      "  This is separate from the ipykernel package so we can avoid doing imports until\n"
     ]
    },
    {
     "data": {
      "text/plain": [
       "['ba_paper',\n",
       " 'percent_survived',\n",
       " 'quarantine_by_props',\n",
       " 'plc_qtines',\n",
       " 'epidemics',\n",
       " 'vanilla_runs',\n",
       " 'graphs']"
      ]
     },
     "execution_count": 6,
     "metadata": {},
     "output_type": "execute_result"
    }
   ],
   "source": [
    "client = pymongo.MongoClient('10.157.90.169', 27017)\n",
    "db = client['quarantine20']\n",
    "db.collection_names()"
   ]
  },
  {
   "cell_type": "code",
   "execution_count": null,
   "metadata": {},
   "outputs": [],
   "source": [
    "len(list(db.percent_survived.aggregate([{'$group': {'_id': {'graph':'$graph_id', 'run':'$run_id', 'stop_prop': '$stop_prop'},'count': {'$sum': 1}}}])))"
   ]
  },
  {
   "cell_type": "code",
   "execution_count": null,
   "metadata": {},
   "outputs": [],
   "source": [
    "run_id = db['percent_survived'].find_one()['run_id']"
   ]
  },
  {
   "cell_type": "code",
   "execution_count": null,
   "metadata": {},
   "outputs": [],
   "source": [
    "def collect_perc_survived_plot(db, run_id, stop_prop):\n",
    "    # Collects and aggregates data from the percent_survived plot \n",
    "    # output is a list of tuples [(start_degree, percent_survived), ...]\n",
    "    docs = list(db['percent_survived'].find({'run_id': ObjectId(run_id), 'stop_prop': stop_prop}))\n",
    "    survs = utils.mergesum([_['survived'] for _ in docs])\n",
    "    outlist = [] \n",
    "    for k, v in sorted(survs.items(), key=lambda p: int(p[0])):\n",
    "        outlist.append((int(k), v['final'] / v['original']))\n",
    "    return outlist"
   ]
  },
  {
   "cell_type": "code",
   "execution_count": null,
   "metadata": {},
   "outputs": [],
   "source": [
    "prop_list = [_ / 100 for _ in range(61)]"
   ]
  },
  {
   "cell_type": "code",
   "execution_count": null,
   "metadata": {},
   "outputs": [],
   "source": [
    "data = {prop: collect_perc_survived_plot(db, run_id, prop) for prop in prop_list}"
   ]
  },
  {
   "cell_type": "code",
   "execution_count": null,
   "metadata": {},
   "outputs": [],
   "source": []
  },
  {
   "cell_type": "code",
   "execution_count": null,
   "metadata": {
    "scrolled": true
   },
   "outputs": [],
   "source": [
    "%matplotlib notebook\n",
    "from ipywidgets import *\n",
    "import numpy as np\n",
    "import matplotlib.pyplot as plt\n",
    "fig, ax = plt.subplots()\n",
    "x = range(10)\n",
    "line, = ax.plot(x, np.sin(x))\n",
    "ax.plot(range(1000), [0] * 1000, linestyle='--')\n",
    "ax.set_xlim(0, 750)\n",
    "ax.set_ylim(-0.1, 1.0)\n",
    "ax.set_xlabel(\"Start Degree\")\n",
    "ax.set_ylabel(\"Percent surviving\")\n",
    "\n",
    "\n",
    "def update(w = 0.20):\n",
    "    ax.set_title(\"Running until %s of pop. IR\" % w)\n",
    "    spo = data[w]\n",
    "    line.set_xdata([_[0] for _ in spo])\n",
    "    line.set_ydata([_[1] for _ in spo])\n",
    "    fig.canvas.draw_idle()\n",
    "\n",
    "interact(update, w=FloatSlider(value=0.2, min=0.00, max=0.6, step=0.01))"
   ]
  },
  {
   "cell_type": "code",
   "execution_count": null,
   "metadata": {},
   "outputs": [],
   "source": [
    "#### SLIGHTLY LARGER HEATMAP \n",
    "list(db.quarantine_by_props.find(projection=['quarantine_props']))"
   ]
  },
  {
   "cell_type": "code",
   "execution_count": null,
   "metadata": {},
   "outputs": [],
   "source": [
    "qprop_doc = db.quarantine_by_props.find_one()\n",
    "graph_id = qprop_doc['graph_id']\n",
    "epidemic_id = qprop_doc['epidemic_id']\n",
    "\n",
    "def get_avg_IR(collection, graph_id, epidemic_id, filter_by='quarantine_props'):\n",
    "    output_dict = {}\n",
    "    for doc in collection.find({'graph_id': graph_id, 'epidemic_id': epidemic_id},\n",
    "                               projection=['final_R', 'max_I', 'quarantine_props']):\n",
    "        filter_key = doc[filter_by]\n",
    "        if filter_key not in output_dict:\n",
    "            output_dict[filter_key] = {'final_R': [], 'max_I': []}\n",
    "        output_dict[filter_key]['final_R'].append(doc['final_R'])\n",
    "        output_dict[filter_key]['max_I'].append(doc['max_I'])\n",
    "        \n",
    "    keydict = lambda d: {k: sum(v) / len(v) for k, v in d.items()}\n",
    "    \n",
    "    return {k: keydict(v) for k, v in output_dict.items()}\n",
    "        \n",
    "    \n"
   ]
  },
  {
   "cell_type": "code",
   "execution_count": null,
   "metadata": {},
   "outputs": [],
   "source": [
    "avg_IRs = get_avg_IR(db.quarantine_by_props, graph_id, epidemic_id)\n",
    "Xs, Is, Rs = [], [], [] \n",
    "for k in sorted(avg_IRs.keys()):\n",
    "    Xs.append(k)\n",
    "    Is.append(avg_IRs[k]['max_I'])\n",
    "    Rs.append(avg_IRs[k]['final_R'])\n",
    "    \n",
    "    "
   ]
  },
  {
   "cell_type": "code",
   "execution_count": null,
   "metadata": {},
   "outputs": [],
   "source": [
    "fig, ax = plt.subplots(figsize=(8,8))\n",
    "ax.plot(Xs, Is, c='b')\n",
    "ax.plot(Xs, Rs, c='g')"
   ]
  },
  {
   "cell_type": "code",
   "execution_count": null,
   "metadata": {},
   "outputs": [],
   "source": []
  }
 ],
 "metadata": {
  "kernelspec": {
   "display_name": "Python 3",
   "language": "python",
   "name": "python3"
  },
  "language_info": {
   "codemirror_mode": {
    "name": "ipython",
    "version": 3
   },
   "file_extension": ".py",
   "mimetype": "text/x-python",
   "name": "python",
   "nbconvert_exporter": "python",
   "pygments_lexer": "ipython3",
   "version": "3.6.9"
  }
 },
 "nbformat": 4,
 "nbformat_minor": 4
}
