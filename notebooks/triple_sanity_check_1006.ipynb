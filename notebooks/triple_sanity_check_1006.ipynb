{
 "cells": [
  {
   "cell_type": "code",
   "execution_count": 45,
   "metadata": {},
   "outputs": [],
   "source": [
    "import EoN\n",
    "import networkx as nx\n",
    "import random\n",
    "import numpy as np\n",
    "import matplotlib.pyplot as plt"
   ]
  },
  {
   "cell_type": "code",
   "execution_count": 3,
   "metadata": {},
   "outputs": [],
   "source": [
    "def ba_minus_k(N, m, k):\n",
    "    # Removes the top k% of nodes from a barabasi albert graph\n",
    "    G = nx.barabasi_albert_graph(N, m)\n",
    "    sorted_deg = sorted(dict(G.degree()).items(), key=lambda d: -d[1])\n",
    "    remove_nodes = [_[0] for _ in sorted_deg[: int(k * N)]]\n",
    "    return G, remove_nodes"
   ]
  },
  {
   "cell_type": "code",
   "execution_count": 39,
   "metadata": {},
   "outputs": [],
   "source": [
    "def random_final_r(N, m, k, init_infect_num, num_trials=10):\n",
    "    final_r = []\n",
    "    for i in range(num_trials):\n",
    "        G, remov = ba_minus_k(10 ** 4, 5, k)\n",
    "        init_infect = [_ for _ in random.sample(G.nodes(), 10) if _ not in remov]\n",
    "        result = EoN.fast_SIR(G, 0.1, 0.1, initial_infecteds=init_infect, initial_recovereds=remov)\n",
    "        final_r.append(result[-1][-1])\n",
    "    return final_r"
   ]
  },
  {
   "cell_type": "code",
   "execution_count": 40,
   "metadata": {},
   "outputs": [
    {
     "data": {
      "text/plain": [
       "5051.5"
      ]
     },
     "execution_count": 40,
     "metadata": {},
     "output_type": "execute_result"
    }
   ],
   "source": [
    "np.median(random_final_r(10 ** 4, 25, .2, 10))"
   ]
  },
  {
   "cell_type": "code",
   "execution_count": 48,
   "metadata": {},
   "outputs": [],
   "source": [
    "outputs = {}\n",
    "for i in range(40):\n",
    "    outputs[i] = random_final_r(10 ** 4, 5, i * 0.01, 10)"
   ]
  },
  {
   "cell_type": "code",
   "execution_count": 49,
   "metadata": {},
   "outputs": [
    {
     "data": {
      "text/plain": [
       "{0: [9845, 9889, 9865, 9854, 9877, 9842, 9845, 9862, 9883, 9866],\n",
       " 1: [9676, 9626, 9625, 9656, 9636, 9588, 9639, 9608, 9607, 9631],\n",
       " 2: [9457, 9474, 9433, 9384, 9429, 9459, 9481, 9433, 9496, 9465],\n",
       " 3: [9248, 9233, 9233, 9270, 9231, 9277, 9266, 9278, 9295, 9276],\n",
       " 4: [9107, 9062, 9048, 9110, 9086, 9090, 9017, 9077, 9067, 9048],\n",
       " 5: [8882, 8888, 8829, 8857, 8842, 8920, 8818, 8839, 8909, 8883],\n",
       " 6: [8700, 8669, 8632, 8750, 8654, 8680, 8746, 8734, 8696, 8753],\n",
       " 7: [8564, 8492, 8484, 8492, 8510, 8448, 8453, 8509, 8485, 8412],\n",
       " 8: [8294, 8317, 8295, 8361, 8217, 8323, 8196, 8264, 8248, 8365],\n",
       " 9: [8119, 8042, 7972, 8095, 7995, 8092, 8083, 8168, 8116, 7989],\n",
       " 10: [7803, 7832, 7866, 7828, 7744, 7831, 7851, 7799, 7720, 7825],\n",
       " 11: [7601, 7726, 7627, 7737, 7713, 7659, 7654, 7627, 7551, 7615],\n",
       " 12: [7334, 7485, 7204, 7468, 7363, 7405, 7335, 7326, 7373, 7323],\n",
       " 13: [7098, 7226, 7218, 7183, 7232, 7046, 7160, 7073, 7016, 7137],\n",
       " 14: [6895, 6904, 6915, 6709, 6803, 6888, 6873, 6933, 6768, 6848],\n",
       " 15: [6523, 6555, 6647, 6681, 6753, 6689, 6590, 6722, 6513, 6624],\n",
       " 16: [6243, 6316, 6410, 6371, 6262, 6179, 6261, 6340, 6211, 6340],\n",
       " 17: [5880, 5994, 6040, 6069, 6077, 6000, 5989, 6159, 6092, 6005],\n",
       " 18: [5547, 5770, 5803, 5916, 5853, 5828, 5957, 5587, 5703, 5742],\n",
       " 19: [5454, 5183, 5392, 5442, 5376, 5368, 5373, 5459, 5289, 5216],\n",
       " 20: [5260, 4930, 5080, 5278, 4900, 4938, 5032, 4966, 4837, 4904],\n",
       " 21: [4849, 4781, 5028, 4877, 4667, 4694, 4755, 4707, 4694, 4522],\n",
       " 22: [4169, 4445, 4088, 4472, 4432, 4436, 4450, 4182, 4538, 4102],\n",
       " 23: [3595, 3888, 3846, 3657, 3773, 4320, 4020, 3790, 3467, 3826],\n",
       " 24: [3479, 3356, 3415, 3385, 3381, 7, 3502, 3466, 3568, 2880],\n",
       " 25: [2538, 3223, 2669, 2829, 2953, 2791, 3138, 3103, 2630, 3012],\n",
       " 26: [2318, 2316, 2215, 2508, 2848, 2380, 2164, 1908, 2548, 32],\n",
       " 27: [1642, 102, 1872, 1752, 1555, 1282, 1672, 1207, 1004, 1464],\n",
       " 28: [1563, 1139, 795, 231, 79, 1169, 196, 157, 13, 1120],\n",
       " 29: [1022, 200, 24, 14, 31, 115, 1171, 738, 208, 57],\n",
       " 30: [503, 41, 29, 120, 565, 498, 280, 1307, 479, 433],\n",
       " 31: [43, 30, 94, 27, 34, 94, 120, 371, 43, 124],\n",
       " 32: [75, 47, 230, 105, 306, 9, 5, 19, 90, 29],\n",
       " 33: [62, 43, 28, 35, 207, 60, 17, 23, 19, 12],\n",
       " 34: [16, 27, 15, 25, 14, 39, 23, 146, 8, 11],\n",
       " 35: [21, 29, 29, 31, 30, 53, 19, 35, 38, 59],\n",
       " 36: [5, 40, 15, 31, 19, 127, 17, 15, 4, 4],\n",
       " 37: [32, 22, 26, 83, 26, 8, 15, 14, 24, 21],\n",
       " 38: [30, 32, 11, 21, 7, 10, 36, 9, 23, 8],\n",
       " 39: [2, 14, 13, 13, 9, 18, 14, 19, 4, 14]}"
      ]
     },
     "execution_count": 49,
     "metadata": {},
     "output_type": "execute_result"
    }
   ],
   "source": [
    "outputs"
   ]
  },
  {
   "cell_type": "code",
   "execution_count": 61,
   "metadata": {},
   "outputs": [
    {
     "data": {
      "text/plain": [
       "[(0, 0.98635),\n",
       " (1, 0.96285),\n",
       " (2, 0.9458),\n",
       " (3, 0.9268),\n",
       " (4, 0.9072),\n",
       " (5, 0.88695),\n",
       " (6, 0.8698),\n",
       " (7, 0.84885),\n",
       " (8, 0.82945),\n",
       " (9, 0.80875),\n",
       " (10, 0.78265),\n",
       " (11, 0.76405),\n",
       " (12, 0.7349),\n",
       " (13, 0.71485),\n",
       " (14, 0.68805),\n",
       " (15, 0.66355),\n",
       " (16, 0.6289),\n",
       " (17, 0.60225),\n",
       " (18, 0.57865),\n",
       " (19, 0.53745),\n",
       " (20, 0.4952),\n",
       " (21, 0.4731),\n",
       " (22, 0.4434),\n",
       " (23, 0.3808),\n",
       " (24, 0.34),\n",
       " (25, 0.2891),\n",
       " (26, 0.2317),\n",
       " (27, 0.15095),\n",
       " (28, 0.0513),\n",
       " (29, 0.01575),\n",
       " (30, 0.0456),\n",
       " (31, 0.00685),\n",
       " (32, 0.0061),\n",
       " (33, 0.00315),\n",
       " (34, 0.00195),\n",
       " (35, 0.00305),\n",
       " (36, 0.0016),\n",
       " (37, 0.0023),\n",
       " (38, 0.0016),\n",
       " (39, 0.00135)]"
      ]
     },
     "execution_count": 61,
     "metadata": {},
     "output_type": "execute_result"
    }
   ],
   "source": [
    "pairs = [(k, np.median(v) / 10000) for k,v in outputs.items()]\n",
    "pairs"
   ]
  },
  {
   "cell_type": "code",
   "execution_count": 51,
   "metadata": {},
   "outputs": [
    {
     "data": {
      "text/plain": [
       "<matplotlib.collections.PathCollection at 0x7fe7de6d8b70>"
      ]
     },
     "execution_count": 51,
     "metadata": {},
     "output_type": "execute_result"
    },
    {
     "data": {
      "image/png": "[encoded data removed]",
      "text/plain": [
       "<Figure size 432x288 with 1 Axes>"
      ]
     },
     "metadata": {
      "needs_background": "light"
     },
     "output_type": "display_data"
    }
   ],
   "source": [
    "plt.scatter(*zip(*pairs))\n",
    "import seaborn"
   ]
  },
  {
   "cell_type": "code",
   "execution_count": 63,
   "metadata": {},
   "outputs": [
    {
     "data": {
      "text/plain": [
       "Text(0, 0.5, 'Percent of final recovered')"
      ]
     },
     "execution_count": 63,
     "metadata": {},
     "output_type": "execute_result"
    },
    {
     "data": {
      "image/png": "[encoded data removed]",
      "text/plain": [
       "<Figure size 576x576 with 1 Axes>"
      ]
     },
     "metadata": {},
     "output_type": "display_data"
    }
   ],
   "source": [
    "import seaborn as sns \n",
    "sns.set() \n",
    "fig, ax = plt.subplots(figsize=(8,8))\n",
    "ax.scatter(*zip(*pairs))\n",
    "ax.set_xlabel('Percent of high degree nodes removed')\n",
    "ax.set_ylabel('Percent of final recovered')"
   ]
  },
  {
   "cell_type": "code",
   "execution_count": null,
   "metadata": {},
   "outputs": [],
   "source": []
  }
 ],
 "metadata": {
  "kernelspec": {
   "display_name": "py3",
   "language": "python",
   "name": "py3"
  },
  "language_info": {
   "codemirror_mode": {
    "name": "ipython",
    "version": 3
   },
   "file_extension": ".py",
   "mimetype": "text/x-python",
   "name": "python",
   "nbconvert_exporter": "python",
   "pygments_lexer": "ipython3",
   "version": "3.6.9"
  }
 },
 "nbformat": 4,
 "nbformat_minor": 4
}
