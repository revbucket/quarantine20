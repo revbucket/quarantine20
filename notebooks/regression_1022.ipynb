{
 "cells": [
  {
   "cell_type": "code",
   "execution_count": 1,
   "metadata": {},
   "outputs": [
    {
     "data": {
      "text/html": [
       "\n",
       "\t\t\t<script type=\"text/javascript\">\n",
       "\t\t\t<!--\n",
       "\t\t\t\t\n",
       "\t\t\t{\n",
       "\t\t\t\tvar element = document.getElementById('NetworKit_script');\n",
       "\t\t\t\tif (element) {\n",
       "\t\t\t\t\telement.parentNode.removeChild(element);\n",
       "\t\t\t\t}\n",
       "\t\t\t\telement = document.createElement('script');\n",
       "\t\t\t\telement.type = 'text/javascript';\n",
       "\t\t\t\telement.innerHTML = 'function NetworKit_pageEmbed(id) { var i, j; var elements; elements = document.getElementById(id).getElementsByClassName(\"Plot\"); for (i=0; i<elements.length; i++) { elements[i].id = id + \"_Plot_\" + i; var data = elements[i].getAttribute(\"data-image\").split(\"|\"); elements[i].removeAttribute(\"data-image\"); var content = \"<div class=\\\\\"Image\\\\\" id=\\\\\"\" + elements[i].id + \"_Image\\\\\" />\"; elements[i].innerHTML = content; elements[i].setAttribute(\"data-image-index\", 0); elements[i].setAttribute(\"data-image-length\", data.length); for (j=0; j<data.length; j++) { elements[i].setAttribute(\"data-image-\" + j, data[j]); } NetworKit_plotUpdate(elements[i]); elements[i].onclick = function (e) { NetworKit_overlayShow((e.target) ? e.target : e.srcElement); } } elements = document.getElementById(id).getElementsByClassName(\"HeatCell\"); for (i=0; i<elements.length; i++) { var data = parseFloat(elements[i].getAttribute(\"data-heat\")); var color = \"#00FF00\"; if (data <= 1 && data > 0) { color = \"hsla(0, 100%, 75%, \" + (data) + \")\"; } else if (data <= 0 && data >= -1) { color = \"hsla(240, 100%, 75%, \" + (-data) + \")\"; } elements[i].style.backgroundColor = color; } elements = document.getElementById(id).getElementsByClassName(\"Details\"); for (i=0; i<elements.length; i++) { elements[i].setAttribute(\"data-title\", \"-\"); NetworKit_toggleDetails(elements[i]); elements[i].onclick = function (e) { NetworKit_toggleDetails((e.target) ? e.target : e.srcElement); } } elements = document.getElementById(id).getElementsByClassName(\"MathValue\"); for (i=elements.length-1; i>=0; i--) { value = elements[i].innerHTML.trim(); if (value === \"nan\") { elements[i].parentNode.innerHTML = \"\" } } elements = document.getElementById(id).getElementsByClassName(\"SubCategory\"); for (i=elements.length-1; i>=0; i--) { value = elements[i].innerHTML.trim(); if (value === \"\") { elements[i].parentNode.removeChild(elements[i]) } } elements = document.getElementById(id).getElementsByClassName(\"Category\"); for (i=elements.length-1; i>=0; i--) { value = elements[i].innerHTML.trim(); if (value === \"\") { elements[i].parentNode.removeChild(elements[i]) } } var isFirefox = false; try { isFirefox = typeof InstallTrigger !== \"undefined\"; } catch (e) {} if (!isFirefox) { alert(\"Currently the function\\'s output is only fully supported by Firefox.\"); } } function NetworKit_plotUpdate(source) { var index = source.getAttribute(\"data-image-index\"); var data = source.getAttribute(\"data-image-\" + index); var image = document.getElementById(source.id + \"_Image\"); image.style.backgroundImage = \"url(\" + data + \")\"; } function NetworKit_showElement(id, show) { var element = document.getElementById(id); element.style.display = (show) ? \"block\" : \"none\"; } function NetworKit_overlayShow(source) { NetworKit_overlayUpdate(source); NetworKit_showElement(\"NetworKit_Overlay\", true); } function NetworKit_overlayUpdate(source) { document.getElementById(\"NetworKit_Overlay_Title\").innerHTML = source.title; var index = source.getAttribute(\"data-image-index\"); var data = source.getAttribute(\"data-image-\" + index); var image = document.getElementById(\"NetworKit_Overlay_Image\"); image.setAttribute(\"data-id\", source.id); image.style.backgroundImage = \"url(\" + data + \")\"; var link = document.getElementById(\"NetworKit_Overlay_Toolbar_Bottom_Save\"); link.href = data; link.download = source.title + \".svg\"; } function NetworKit_overlayImageShift(delta) { var image = document.getElementById(\"NetworKit_Overlay_Image\"); var source = document.getElementById(image.getAttribute(\"data-id\")); var index = parseInt(source.getAttribute(\"data-image-index\")); var length = parseInt(source.getAttribute(\"data-image-length\")); var index = (index+delta) % length; if (index < 0) { index = length + index; } source.setAttribute(\"data-image-index\", index); NetworKit_overlayUpdate(source); } function NetworKit_toggleDetails(source) { var childs = source.children; var show = false; if (source.getAttribute(\"data-title\") == \"-\") { source.setAttribute(\"data-title\", \"+\"); show = false; } else { source.setAttribute(\"data-title\", \"-\"); show = true; } for (i=0; i<childs.length; i++) { if (show) { childs[i].style.display = \"block\"; } else { childs[i].style.display = \"none\"; } } }';\n",
       "\t\t\t\telement.setAttribute('id', 'NetworKit_script');\n",
       "\t\t\t\tdocument.head.appendChild(element);\n",
       "\t\t\t}\n",
       "\t\t\n",
       "\t\t\t\t\n",
       "\t\t\t{\n",
       "\t\t\t\tvar element = document.getElementById('NetworKit_style');\n",
       "\t\t\t\tif (element) {\n",
       "\t\t\t\t\telement.parentNode.removeChild(element);\n",
       "\t\t\t\t}\n",
       "\t\t\t\telement = document.createElement('style');\n",
       "\t\t\t\telement.type = 'text/css';\n",
       "\t\t\t\telement.innerHTML = '.NetworKit_Page { font-family: Arial, Helvetica, sans-serif; font-size: 14px; } .NetworKit_Page .Value:before { font-family: Arial, Helvetica, sans-serif; font-size: 1.05em; content: attr(data-title) \":\"; margin-left: -2.5em; padding-right: 0.5em; } .NetworKit_Page .Details .Value:before { display: block; } .NetworKit_Page .Value { font-family: monospace; white-space: pre; padding-left: 2.5em; white-space: -moz-pre-wrap !important; white-space: -pre-wrap; white-space: -o-pre-wrap; white-space: pre-wrap; word-wrap: break-word; tab-size: 4; -moz-tab-size: 4; } .NetworKit_Page .Category { clear: both; padding-left: 1em; margin-bottom: 1.5em; } .NetworKit_Page .Category:before { content: attr(data-title); font-size: 1.75em; display: block; margin-left: -0.8em; margin-bottom: 0.5em; } .NetworKit_Page .SubCategory { margin-bottom: 1.5em; padding-left: 1em; } .NetworKit_Page .SubCategory:before { font-size: 1.6em; display: block; margin-left: -0.8em; margin-bottom: 0.5em; } .NetworKit_Page .SubCategory[data-title]:before { content: attr(data-title); } .NetworKit_Page .Block { display: block; } .NetworKit_Page .Block:after { content: \".\"; visibility: hidden; display: block; height: 0; clear: both; } .NetworKit_Page .Block .Thumbnail_Overview, .NetworKit_Page .Block .Thumbnail_ScatterPlot { width: 260px; float: left; } .NetworKit_Page .Block .Thumbnail_Overview img, .NetworKit_Page .Block .Thumbnail_ScatterPlot img { width: 260px; } .NetworKit_Page .Block .Thumbnail_Overview:before, .NetworKit_Page .Block .Thumbnail_ScatterPlot:before { display: block; text-align: center; font-weight: bold; } .NetworKit_Page .Block .Thumbnail_Overview:before { content: attr(data-title); } .NetworKit_Page .HeatCell { font-family: \"Courier New\", Courier, monospace; cursor: pointer; } .NetworKit_Page .HeatCell, .NetworKit_Page .HeatCellName { display: inline; padding: 0.1em; margin-right: 2px; background-color: #FFFFFF } .NetworKit_Page .HeatCellName { margin-left: 0.25em; } .NetworKit_Page .HeatCell:before { content: attr(data-heat); display: inline-block; color: #000000; width: 4em; text-align: center; } .NetworKit_Page .Measure { clear: both; } .NetworKit_Page .Measure .Details { cursor: pointer; } .NetworKit_Page .Measure .Details:before { content: \"[\" attr(data-title) \"]\"; display: block; } .NetworKit_Page .Measure .Details .Value { border-left: 1px dotted black; margin-left: 0.4em; padding-left: 3.5em; pointer-events: none; } .NetworKit_Page .Measure .Details .Spacer:before { content: \".\"; opacity: 0.0; pointer-events: none; } .NetworKit_Page .Measure .Plot { width: 440px; height: 440px; cursor: pointer; float: left; margin-left: -0.9em; margin-right: 20px; } .NetworKit_Page .Measure .Plot .Image { background-repeat: no-repeat; background-position: center center; background-size: contain; height: 100%; pointer-events: none; } .NetworKit_Page .Measure .Stat { width: 500px; float: left; } .NetworKit_Page .Measure .Stat .Group { padding-left: 1.25em; margin-bottom: 0.75em; } .NetworKit_Page .Measure .Stat .Group .Title { font-size: 1.1em; display: block; margin-bottom: 0.3em; margin-left: -0.75em; border-right-style: dotted; border-right-width: 1px; border-bottom-style: dotted; border-bottom-width: 1px; background-color: #D0D0D0; padding-left: 0.2em; } .NetworKit_Page .Measure .Stat .Group .List { -webkit-column-count: 3; -moz-column-count: 3; column-count: 3; } .NetworKit_Page .Measure .Stat .Group .List .Entry { position: relative; line-height: 1.75em; } .NetworKit_Page .Measure .Stat .Group .List .Entry[data-tooltip]:before { position: absolute; left: 0; top: -40px; background-color: #808080; color: #ffffff; height: 30px; line-height: 30px; border-radius: 5px; padding: 0 15px; content: attr(data-tooltip); white-space: nowrap; display: none; } .NetworKit_Page .Measure .Stat .Group .List .Entry[data-tooltip]:after { position: absolute; left: 15px; top: -10px; border-top: 7px solid #808080; border-left: 7px solid transparent; border-right: 7px solid transparent; content: \"\"; display: none; } .NetworKit_Page .Measure .Stat .Group .List .Entry[data-tooltip]:hover:after, .NetworKit_Page .Measure .Stat .Group .List .Entry[data-tooltip]:hover:before { display: block; } .NetworKit_Page .Measure .Stat .Group .List .Entry .MathValue { font-family: \"Courier New\", Courier, monospace; } .NetworKit_Page .Measure:after { content: \".\"; visibility: hidden; display: block; height: 0; clear: both; } .NetworKit_Page .PartitionPie { clear: both; } .NetworKit_Page .PartitionPie img { width: 600px; } #NetworKit_Overlay { left: 0px; top: 0px; display: none; position: absolute; width: 100%; height: 100%; background-color: rgba(0,0,0,0.6); z-index: 1000; } #NetworKit_Overlay_Title { position: absolute; color: white; transform: rotate(-90deg); width: 32em; height: 32em; padding-right: 0.5em; padding-top: 0.5em; text-align: right; font-size: 40px; } #NetworKit_Overlay .button { background: white; cursor: pointer; } #NetworKit_Overlay .button:before { size: 13px; display: inline-block; text-align: center; margin-top: 0.5em; margin-bottom: 0.5em; width: 1.5em; height: 1.5em; } #NetworKit_Overlay .icon-close:before { content: \"X\"; } #NetworKit_Overlay .icon-previous:before { content: \"P\"; } #NetworKit_Overlay .icon-next:before { content: \"N\"; } #NetworKit_Overlay .icon-save:before { content: \"S\"; } #NetworKit_Overlay_Toolbar_Top, #NetworKit_Overlay_Toolbar_Bottom { position: absolute; width: 40px; right: 13px; text-align: right; z-index: 1100; } #NetworKit_Overlay_Toolbar_Top { top: 0.5em; } #NetworKit_Overlay_Toolbar_Bottom { Bottom: 0.5em; } #NetworKit_Overlay_ImageContainer { position: absolute; top: 5%; left: 5%; height: 90%; width: 90%; background-repeat: no-repeat; background-position: center center; background-size: contain; } #NetworKit_Overlay_Image { height: 100%; width: 100%; background-repeat: no-repeat; background-position: center center; background-size: contain; }';\n",
       "\t\t\t\telement.setAttribute('id', 'NetworKit_style');\n",
       "\t\t\t\tdocument.head.appendChild(element);\n",
       "\t\t\t}\n",
       "\t\t\n",
       "\t\t\t\t\n",
       "\t\t\t{\n",
       "\t\t\t\tvar element = document.getElementById('NetworKit_Overlay');\n",
       "\t\t\t\tif (element) {\n",
       "\t\t\t\t\telement.parentNode.removeChild(element);\n",
       "\t\t\t\t}\n",
       "\t\t\t\telement = document.createElement('div');\n",
       "\t\t\t\telement.innerHTML = '<div id=\"NetworKit_Overlay_Toolbar_Top\"><div class=\"button icon-close\" id=\"NetworKit_Overlay_Close\" /></div><div id=\"NetworKit_Overlay_Title\" /> <div id=\"NetworKit_Overlay_ImageContainer\"> <div id=\"NetworKit_Overlay_Image\" /> </div> <div id=\"NetworKit_Overlay_Toolbar_Bottom\"> <div class=\"button icon-previous\" onclick=\"NetworKit_overlayImageShift(-1)\" /> <div class=\"button icon-next\" onclick=\"NetworKit_overlayImageShift(1)\" /> <a id=\"NetworKit_Overlay_Toolbar_Bottom_Save\"><div class=\"button icon-save\" /></a> </div>';\n",
       "\t\t\t\telement.setAttribute('id', 'NetworKit_Overlay');\n",
       "\t\t\t\tdocument.body.appendChild(element);\n",
       "\t\t\t\tdocument.getElementById('NetworKit_Overlay_Close').onclick = function (e) {\n",
       "\t\t\t\t\tdocument.getElementById('NetworKit_Overlay').style.display = 'none';\n",
       "\t\t\t\t}\n",
       "\t\t\t}\n",
       "\t\t\n",
       "\t\t\t-->\n",
       "\t\t\t</script>\n",
       "\t\t"
      ]
     },
     "metadata": {},
     "output_type": "display_data"
    }
   ],
   "source": [
    "import sys\n",
    "sys.path.append('..')\n",
    "import quarantines as Q\n",
    "import quarantines_mongo as qm\n",
    "import graph_generators as gg \n",
    "import networkx as nx \n",
    "import networkit as nk\n",
    "import pymongo\n",
    "import pickle\n",
    "import numpy as np\n",
    "import matplotlib.pyplot as plt\n",
    "import seaborn as sns\n",
    "from prettytable import PrettyTable\n",
    "from tabulate import tabulate\n",
    "from scipy import stats\n",
    "from pprint import pprint\n",
    "import random\n",
    "sns.set()"
   ]
  },
  {
   "cell_type": "code",
   "execution_count": 16,
   "metadata": {},
   "outputs": [
    {
     "data": {
      "text/plain": [
       "' Tricky experiments: \\n- Gather all data from _data_ \\n- Format data to be like (avg_degree, clustering, shortest path, powerlaw exp, r) -> (percent reduction in R)\\n- Use logistic regression to figure out best solution\\n'"
      ]
     },
     "execution_count": 16,
     "metadata": {},
     "output_type": "execute_result"
    }
   ],
   "source": [
    "\"\"\" Tricky experiments: \n",
    "- Gather all data from _data_ \n",
    "- Format data to be like (avg_degree, clustering, shortest path, powerlaw exp, r) -> (percent reduction in R)\n",
    "- Use logistic regression to figure out best solution\n",
    "\"\"\""
   ]
  },
  {
   "cell_type": "code",
   "execution_count": 7,
   "metadata": {},
   "outputs": [],
   "source": [
    "def gather_data():\n",
    "    data_file = open('../quarantine_by_props_1016A.pkl', 'rb')\n",
    "    data = pickle.load(data_file)\n",
    "    data_by_name = {}\n",
    "    for datum in data:\n",
    "        name = datum.get('name')\n",
    "        if name not in data_by_name:\n",
    "            data_by_name[name] = [] \n",
    "        data_by_name[name].append(datum)\n",
    "    return data_by_name\n",
    "data = gather_data()"
   ]
  },
  {
   "cell_type": "code",
   "execution_count": 8,
   "metadata": {},
   "outputs": [],
   "source": [
    "# Part 0: Collect data by name and print all names...\n",
    "\n",
    "def group_by_qprop(series):\n",
    "    gather = {} \n",
    "    for datum in series:\n",
    "        qprop = datum['quarantine_props']\n",
    "        if qprop not in gather:\n",
    "            gather[qprop] = [] \n",
    "        gather[qprop].append(datum)\n",
    "        \n",
    "    # and now modify to only collect final_R, max_I\n",
    "    output = {}\n",
    "    for qprop, datalist in gather.items():\n",
    "        final_rs = [_['final_R'] for _ in datalist]\n",
    "        max_is = [_['max_I'] for _ in datalist]\n",
    "        output[qprop] = {'final_R': final_rs, \n",
    "                         'max_I': max_is}\n",
    "    return output\n",
    "\n",
    "def gather_by_name(data, name, i_or_r):\n",
    "    # Gather triples of [(qprop, mean, std), ...]\n",
    "    assert i_or_r in ['I', 'R']\n",
    "    series = group_by_qprop(data[name])\n",
    "    output = []\n",
    "    def getter(doc):\n",
    "        if i_or_r == 'I':\n",
    "            return doc['max_I']\n",
    "        else:\n",
    "            return doc['final_R']\n",
    "        \n",
    "        \n",
    "    for k, v in series.items():\n",
    "        mean = np.mean(getter(v))\n",
    "        std = np.std(getter(v))\n",
    "        output.append((k, mean, std))\n",
    "        \n",
    "    return sorted(output, key=lambda trip: trip[0])\n",
    "    \n",
    "\n",
    "def size_lookup_by_name(name):\n",
    "    if name in SYNTHETICS:\n",
    "        return 10 ** 4 \n",
    "    elif name.startswith('fb.'):\n",
    "        return len(gg.load_gemsec_fb(name.split('.')[1]))\n",
    "    elif name.startswith('deezer.'):\n",
    "        return len(gg.load_gemsec_deezer(name.split('.')[1]))\n",
    "    elif name.startswith('arxiv.'):\n",
    "        return len(gg.load_arxiv_collab(name.split('.')[1]))\n",
    "    elif name.startswith('hiv') or name.startswith('hs'):\n",
    "        G = recreate_by_name(name)\n",
    "        return len(G)\n",
    "    \n",
    "    \n",
    "def recreate_by_name(name):\n",
    "    # Don't worry too much about actual random seed, just gather parameters\n",
    "    if name.startswith('ba'):\n",
    "        return gg.ba_graph(10 ** 4, int(name[2:]))\n",
    "    elif name.startswith('plc'):\n",
    "        m, p = name[3:].split('.')\n",
    "        return gg.plc_graph(10 **4, int(m), float(p) / 100)\n",
    "    elif name.startswith('rw'):\n",
    "        assert name == 'rw.91.94'\n",
    "        return gg.random_walk_graph(10 ** 4, 0.91, 0.94)\n",
    "    elif name.startswith('nn'):\n",
    "        assert name == 'nn.886'\n",
    "        return gg.nearestNeighbor_mod(10 **4, 0.88,6)\n",
    "    elif name.startswith('ws'):\n",
    "        assert name == 'ws10.05'\n",
    "        return gg.watts_strogatz_graph(10 ** 4, 10, 0.05)\n",
    "    elif name.startswith('fb.'):\n",
    "        return gg.load_gemsec_fb(name.split('.')[1])\n",
    "    elif name.startswith('deezer.'):\n",
    "        return gg.load_gemsec_deezer(name.split('.')[1])\n",
    "    elif name.startswith('arxiv.'):\n",
    "        return gg.load_arxiv_collab(name.split('.')[1])\n",
    "    elif name.startswith('hs'):\n",
    "        params = name[2:].split('_')\n",
    "        return gg.load_highschool(float(params[0]), int(params[1]))\n",
    "    elif name.startswith('hiv'):\n",
    "        param = int(name[3:].split('R')[0])\n",
    "        return gg.load_hiv(param)\n",
    "    else:\n",
    "        raise Exception(\"wut\")\n",
    "    return\n",
    "    \n",
    "    \n",
    "def parse_data_name(name):\n",
    "    prefixes = ['ba', 'plc', 'nn', 'rw', 'ws' ]\n",
    "    match = None\n",
    "    for prefix in prefixes:\n",
    "        if name.startswith(prefix):\n",
    "            match = prefix \n",
    "    if match is None or len(name.split('_')) == 1:\n",
    "        return recreate_by_name(name)\n",
    "    params = name.split('_')\n",
    "    R = params[-1]\n",
    "    if name.startswith('ba'):\n",
    "        return gg.ba_graph(10 ** 4, int(params[1]))\n",
    "    elif name.startswith('plc'):\n",
    "        return gg.plc_graph(10 **4, int(params[1]), float(params[2]))\n",
    "    elif name.startswith('rw'):\n",
    "        return gg.random_walk_graph(10 ** 4, float(params[1]), float(params[2]))\n",
    "    elif name.startswith('nn'):\n",
    "        return gg.nearestNeighbor_mod(10 **4, float(params[1]),int(params[2]))\n",
    "    elif name.startswith('ws'):\n",
    "        return gg.watts_strogatz_graph(10 ** 4, int(params[1]), float(params[2]))\n",
    "\n",
    "    \n",
    "def get_r_by_name(name):\n",
    "    prefixes = ['ba', 'plc', 'nn', 'rw', 'ws' ]\n",
    "    match = None\n",
    "    for prefix in prefixes:\n",
    "        if name.startswith(prefix):\n",
    "            match = prefix \n",
    "    if match is None or len(name.split('_')) == 1:\n",
    "        return 1\n",
    "    params = name.split('_')\n",
    "    return float(params[-1])\n",
    "\n",
    "\n",
    "\n",
    "def get_minR_graph(data, name):\n",
    "    # Gathers the graph (after minR optimal quarantine) \n",
    "    # 1) Get minR prop:\n",
    "    minprop = min(gather_by_name(data, name, 'R'), key=lambda trip: trip[1])[0]\n",
    "    \n",
    "    \n",
    "    # 2) Recreate graph and rerun \n",
    "    R = get_r_by_name(name)\n",
    "    G = parse_data_name(name)\n",
    "    outG = Q.run_until_prop_IR(G, R, 1, 10 / len(G), float('inf'), minprop)[0]\n",
    "    return outG\n",
    "\n",
    "\n",
    "#fig, ax = plt.subplots(figsize=(10,10)) #<---- general axis maker\n",
    "def plot_vs(data, names, irs, ax=None):\n",
    "    if ax is None:\n",
    "        fig, ax = plt.subplots(figsize=(10,10))\n",
    "    if not isinstance(names, list):\n",
    "        names = [names]\n",
    "    def plot_single_v(name, ir, ax=ax):\n",
    "        try: \n",
    "            size = size_lookup[name]\n",
    "        except:   \n",
    "            size = 10 ** 4 # size_lookup[name]\n",
    "        i_trips = gather_by_name(data, name, 'I')\n",
    "        r_trips = gather_by_name(data, name, 'R')\n",
    "        qprops = [_[0] for _ in i_trips]\n",
    "        Is = [_[1] / size for _ in i_trips]\n",
    "        qprops_r = [_[0] for _ in r_trips]\n",
    "        Rs = [_[1] / size for _ in r_trips]\n",
    "        if 'I' in ir:\n",
    "            ax.plot(qprops, Is, label=name)\n",
    "        if 'R' in ir:\n",
    "            ax.plot(qprops, Rs, label=name)\n",
    "    \n",
    "    \n",
    "    for name in names:\n",
    "        plot_single_v(name, irs, ax=ax)\n",
    "    ax.legend()\n",
    "    \n",
    "\n",
    "def degree_hist(G):\n",
    "    pairs = {}\n",
    "    for _, d in G.degree():\n",
    "        pairs[d] = pairs.get(d, 0) + 1\n",
    "    return pairs\n",
    "\n",
    "def return_cbin(G):\n",
    "    # Returns best-fit powerlaw exponent by using cumulative binning \n",
    "    items = sorted(degree_hist(G).items(), key=lambda p:-p[0])\n",
    "    cdf = []\n",
    "    runsum = 0\n",
    "    for deg, num in items:\n",
    "        runsum += num \n",
    "        cdf.append((deg, runsum))\n",
    "    xform = [(np.log(_[0]), np.log(_[1] / len(G))) for _ in cdf]\n",
    "    return xform \n",
    "\n",
    "\n",
    "\n",
    "def degree_hist(G):\n",
    "    pairs = {}\n",
    "    for _, d in G.degree():\n",
    "        pairs[d] = pairs.get(d, 0) + 1\n",
    "    return pairs\n",
    "\n",
    "\n",
    "def get_powerlaw_exponent_cbin(G):\n",
    "    # Returns best-fit powerlaw exponent by using cumulative binning \n",
    "    items = sorted(degree_hist(G).items(), key=lambda p:-p[0])\n",
    "    cdf = []\n",
    "    runsum = 0\n",
    "    for deg, num in items:\n",
    "        runsum += num \n",
    "        cdf.append((deg, runsum))\n",
    "    xform = [(np.log(_[0]), np.log(_[1] / len(G))) for _ in cdf]\n",
    "    #plt.scatter(*zip(*xform))\n",
    "    slope, intercept, r_value, p_value, std_err = stats.linregress(*zip(*xform))\n",
    "    return 1 -slope, r_value\n",
    "\n",
    "        \n",
    "def collect_graph_data_by_name(name, data=data):\n",
    "    # Returns graph [name, nodes, average degree, cluster coefficient, powerlaw exponent, best_iTup, bestrTup] \n",
    "    G = recreate_by_name(name)\n",
    "    nodes = len(G)\n",
    "    avg_deg = sum(dict(G.degree()).values()) / len(G)\n",
    "    cc = nx.average_clustering(G)\n",
    "    powerlaw = get_powerlaw_exponent_cbin(G)\n",
    "    no_q = gather_by_name(data, name, 'R')[0][1] /len(G)\n",
    "    best_i = min(gather_by_name(data, name, 'I'), key=lambda tri: tri[1])\n",
    "    best_i_prop = best_i[0]\n",
    "    best_i_val = best_i[1] / nodes\n",
    "    best_r = min(gather_by_name(data, name, 'R'), key=lambda tri: tri[1])\n",
    "    best_r_prop = best_r[0]\n",
    "    best_r_val = best_r[1] / nodes\n",
    "    return [name, nodes, avg_deg, cc, powerlaw, no_q, best_r_prop, best_r_val]\n",
    "\n",
    "\n",
    "def tabulate_by_name(names):\n",
    "    headers=['name', 'nodes', 'avg_deg', 'cc', 'powerlaw', 'no_Q', 'best_r_prop', 'best_r_val']\n",
    "    graph_data = [collect_graph_data_by_name(_) for _ in names]\n",
    "    print(tabulate(graph_data, headers=headers, floatfmt='.2f'))\n",
    "    return graph_data"
   ]
  },
  {
   "cell_type": "code",
   "execution_count": 19,
   "metadata": {},
   "outputs": [],
   "source": [
    "# Want to do scatter plot over 'shortest path length' and 'reduction in quarantine' \n",
    "def avg_deg(G):\n",
    "    return 2 * G.number_of_edges() / len(G)\n",
    "\n",
    "def get_largest_cc(G):\n",
    "    ccs = nx.connected_components(G)\n",
    "    maxlen = 0\n",
    "    max_ccset = None \n",
    "    for conn in ccs:\n",
    "        if len(conn) > maxlen:\n",
    "            maxlen = len(conn)\n",
    "            max_ccset = conn\n",
    "    return max_ccset\n",
    "\n",
    "\n",
    "def avg_shortest_path(G, samples=10 * 1000):\n",
    "    # Takes weighted average of connected component shortest paths? \n",
    "    # Randomly samples pairs of nodes in the largest connected component and computes average path length \n",
    "    ccset = get_largest_cc(G)\n",
    "    sampleset = random.choices(list(ccset), k=samples * 2)\n",
    "    len_sum = 0 \n",
    "    count = 0\n",
    "    for i in range(0, len(sampleset), 2):\n",
    "        len_sum += nx.shortest_path_length(G, source=sampleset[i], target=sampleset[i+1])\n",
    "        count += 1\n",
    "    return len_sum / count\n",
    "        \n",
    "    \n",
    "def get_change_summary(data, name):\n",
    "    # Gets change of {cc, avg_deg, shortest path, powerlaw exponent}\n",
    "    og_graph = parse_data_name(name)\n",
    "    min_r_graph = get_minR_graph(data, name)\n",
    "    \n",
    "    og_cc = cluster(og_graph)\n",
    "    og_avg = avg_deg(og_graph)\n",
    "    og_sp = avg_shortest_path(og_graph)\n",
    "    og_powerlaw = get_powerlaw_exponent_cbin(og_graph)\n",
    "    \n",
    "        \n",
    "    cc = cluster(min_r_graph)\n",
    "    avg = avg_deg(min_r_graph)\n",
    "    sp = avg_shortest_path(min_r_graph)\n",
    "    powerlaw = get_powerlaw_exponent_cbin(min_r_graph)\n",
    "    \n",
    "    return [name, og_cc, cc, og_avg, avg, og_sp, sp, og_powerlaw, powerlaw]"
   ]
  },
  {
   "cell_type": "code",
   "execution_count": 10,
   "metadata": {},
   "outputs": [
    {
     "name": "stdout",
     "output_type": "stream",
     "text": [
      "\n"
     ]
    }
   ],
   "source": [
    "\n",
    "# Part 0: Collect data by name and print all names...\n",
    "\n",
    "def gather_data():\n",
    "    data_file = open('../quarantine_by_props_1016A.pkl', 'rb')\n",
    "    data = pickle.load(data_file)\n",
    "    data_by_name = {}\n",
    "    for datum in data:\n",
    "        name = datum.get('name')\n",
    "        if name not in data_by_name:\n",
    "            data_by_name[name] = [] \n",
    "        data_by_name[name].append(datum)\n",
    "    return data_by_name\n",
    "\n",
    "def group_by_qprop(series):\n",
    "    gather = {} \n",
    "    for datum in series:\n",
    "        qprop = datum['quarantine_props']\n",
    "        if qprop not in gather:\n",
    "            gather[qprop] = [] \n",
    "        gather[qprop].append(datum)\n",
    "        \n",
    "    # and now modify to only collect final_R, max_I\n",
    "    output = {}\n",
    "    for qprop, datalist in gather.items():\n",
    "        final_rs = [_['final_R'] for _ in datalist]\n",
    "        max_is = [_['max_I'] for _ in datalist]\n",
    "        output[qprop] = {'final_R': final_rs, \n",
    "                         'max_I': max_is}\n",
    "    return output\n",
    "\n",
    "def gather_by_name(data, name, i_or_r):\n",
    "    # Gather triples of [(qprop, mean, std), ...]\n",
    "    assert i_or_r in ['I', 'R']\n",
    "    series = group_by_qprop(data[name])\n",
    "    output = []\n",
    "    def getter(doc):\n",
    "        if i_or_r == 'I':\n",
    "            return doc['max_I']\n",
    "        else:\n",
    "            return doc['final_R']\n",
    "        \n",
    "        \n",
    "    for k, v in series.items():\n",
    "        mean = np.mean(getter(v))\n",
    "        std = np.std(getter(v))\n",
    "        output.append((k, mean, std))\n",
    "        \n",
    "    return sorted(output, key=lambda trip: trip[0])\n",
    "    \n",
    "\n",
    "def size_lookup_by_name(name):\n",
    "    if name in SYNTHETICS:\n",
    "        return 10 ** 4 \n",
    "    elif name.startswith('fb.'):\n",
    "        return len(gg.load_gemsec_fb(name.split('.')[1]))\n",
    "    elif name.startswith('deezer.'):\n",
    "        return len(gg.load_gemsec_deezer(name.split('.')[1]))\n",
    "    elif name.startswith('arxiv.'):\n",
    "        return len(gg.load_arxiv_collab(name.split('.')[1]))\n",
    "    elif name.startswith('hiv') or name.startswith('hs'):\n",
    "        G = recreate_by_name(name)\n",
    "        return len(G)\n",
    "    \n",
    "    \n",
    "def recreate_by_name(name):\n",
    "    # Don't worry too much about actual random seed, just gather parameters\n",
    "    if name.startswith('ba'):\n",
    "        return gg.ba_graph(10 ** 4, int(name[2:]))\n",
    "    elif name.startswith('plc'):\n",
    "        m, p = name[3:].split('.')\n",
    "        return gg.plc_graph(10 **4, int(m), float(p) / 100)\n",
    "    elif name.startswith('rw'):\n",
    "        assert name == 'rw.91.94'\n",
    "        return gg.random_walk_graph(10 ** 4, 0.91, 0.94)\n",
    "    elif name.startswith('nn'):\n",
    "        assert name == 'nn.886'\n",
    "        return gg.nearestNeighbor_mod(10 **4, 0.88,6)\n",
    "    elif name.startswith('ws'):\n",
    "        assert name == 'ws10.05'\n",
    "        return gg.watts_strogatz_graph(10 ** 4, 10, 0.05)\n",
    "    elif name.startswith('fb.'):\n",
    "        return gg.load_gemsec_fb(name.split('.')[1])\n",
    "    elif name.startswith('deezer.'):\n",
    "        return gg.load_gemsec_deezer(name.split('.')[1])\n",
    "    elif name.startswith('arxiv.'):\n",
    "        return gg.load_arxiv_collab(name.split('.')[1])\n",
    "    elif name.startswith('hs'):\n",
    "        params = name[2:].split('_')\n",
    "        return gg.load_highschool(float(params[0]), int(params[1]))\n",
    "    elif name.startswith('hiv'):\n",
    "        param = int(name[3:].split('R')[0])\n",
    "        return gg.load_hiv(param)\n",
    "    else:\n",
    "        raise Exception(\"wut\")\n",
    "    return\n",
    "    \n",
    "    \n",
    "def parse_data_name(name):\n",
    "    prefixes = ['ba', 'plc', 'nn', 'rw', 'ws' ]\n",
    "    match = None\n",
    "    for prefix in prefixes:\n",
    "        if name.startswith(prefix):\n",
    "            match = prefix \n",
    "    if match is None or len(name.split('_')) == 1:\n",
    "        return recreate_by_name(name)\n",
    "    params = name.split('_')\n",
    "    R = params[-1]\n",
    "    if name.startswith('ba'):\n",
    "        return gg.ba_graph(10 ** 4, int(params[1]))\n",
    "    elif name.startswith('plc'):\n",
    "        return gg.plc_graph(10 **4, int(params[1]), float(params[2]))\n",
    "    elif name.startswith('rw'):\n",
    "        return gg.random_walk_graph(10 ** 4, float(params[1]), float(params[2]))\n",
    "    elif name.startswith('nn'):\n",
    "        return gg.nearestNeighbor_mod(10 **4, float(params[1]),int(params[2]))\n",
    "    elif name.startswith('ws'):\n",
    "        return gg.watts_strogatz_graph(10 ** 4, int(params[1]), float(params[2]))\n",
    "\n",
    "    \n",
    "def get_r_by_name(name):\n",
    "    prefixes = ['ba', 'plc', 'nn', 'rw', 'ws' ]\n",
    "    match = None\n",
    "    for prefix in prefixes:\n",
    "        if name.startswith(prefix):\n",
    "            match = prefix \n",
    "    if match is None or len(name.split('_')) == 1:\n",
    "        return 1\n",
    "    params = name.split('_')\n",
    "    return float(params[-1])\n",
    "\n",
    "\n",
    "\n",
    "def get_minR_graph(data, name):\n",
    "    # Gathers the graph (after minR optimal quarantine) \n",
    "    # 1) Get minR prop:\n",
    "    minprop = min(gather_by_name(data, name, 'R'), key=lambda trip: trip[1])[0]\n",
    "    \n",
    "    \n",
    "    # 2) Recreate graph and rerun \n",
    "    R = get_r_by_name(name)\n",
    "    G = parse_data_name(name)\n",
    "    outG = Q.run_until_prop_IR(G, R, 1, 10 / len(G), float('inf'), minprop)[0]\n",
    "    return outG\n",
    "\n",
    "\n",
    "#fig, ax = plt.subplots(figsize=(10,10)) #<---- general axis maker\n",
    "def plot_vs(data, names, irs, ax=None):\n",
    "    if ax is None:\n",
    "        fig, ax = plt.subplots(figsize=(10,10))\n",
    "    if not isinstance(names, list):\n",
    "        names = [names]\n",
    "    def plot_single_v(name, ir, ax=ax):\n",
    "        try: \n",
    "            size = size_lookup[name]\n",
    "        except:   \n",
    "            size = 10 ** 4 # size_lookup[name]\n",
    "        i_trips = gather_by_name(data, name, 'I')\n",
    "        r_trips = gather_by_name(data, name, 'R')\n",
    "        qprops = [_[0] for _ in i_trips]\n",
    "        Is = [_[1] / size for _ in i_trips]\n",
    "        qprops_r = [_[0] for _ in r_trips]\n",
    "        Rs = [_[1] / size for _ in r_trips]\n",
    "        if 'I' in ir:\n",
    "            ax.plot(qprops, Is, label=name)\n",
    "        if 'R' in ir:\n",
    "            ax.plot(qprops, Rs, label=name)\n",
    "    \n",
    "    \n",
    "    for name in names:\n",
    "        plot_single_v(name, irs, ax=ax)\n",
    "    ax.legend()\n",
    "    \n",
    "\n",
    "def degree_hist(G):\n",
    "    pairs = {}\n",
    "    for _, d in G.degree():\n",
    "        pairs[d] = pairs.get(d, 0) + 1\n",
    "    return pairs\n",
    "\n",
    "def return_cbin(G):\n",
    "    # Returns best-fit powerlaw exponent by using cumulative binning \n",
    "    items = sorted(degree_hist(G).items(), key=lambda p:-p[0])\n",
    "    cdf = []\n",
    "    runsum = 0\n",
    "    for deg, num in items:\n",
    "        runsum += num \n",
    "        cdf.append((deg, runsum))\n",
    "    xform = [(np.log(_[0]), np.log(_[1] / len(G))) for _ in cdf]\n",
    "    return xform \n",
    "\n",
    "\n",
    "\n",
    "def degree_hist(G):\n",
    "    pairs = {}\n",
    "    for _, d in G.degree():\n",
    "        pairs[d] = pairs.get(d, 0) + 1\n",
    "    return pairs\n",
    "\n",
    "\n",
    "def get_powerlaw_exponent_cbin(G):\n",
    "    # Returns best-fit powerlaw exponent by using cumulative binning \n",
    "    items = sorted(degree_hist(G).items(), key=lambda p:-p[0])\n",
    "    cdf = []\n",
    "    runsum = 0\n",
    "    for deg, num in items:\n",
    "        runsum += num \n",
    "        cdf.append((deg, runsum))\n",
    "    xform = [(np.log(_[0]), np.log(_[1] / len(G))) for _ in cdf]\n",
    "    #plt.scatter(*zip(*xform))\n",
    "    slope, intercept, r_value, p_value, std_err = stats.linregress(*zip(*xform))\n",
    "    return 1 -slope, r_value\n",
    "\n",
    "        \n",
    "def collect_graph_data_by_name(name, data=data):\n",
    "    # Returns graph [name, nodes, average degree, cluster coefficient, powerlaw exponent, best_iTup, bestrTup] \n",
    "    G = recreate_by_name(name)\n",
    "    nodes = len(G)\n",
    "    avg_deg = sum(dict(G.degree()).values()) / len(G)\n",
    "    cc = nx.average_clustering(G)\n",
    "    powerlaw = get_powerlaw_exponent_cbin(G)\n",
    "    no_q = gather_by_name(data, name, 'R')[0][1] /len(G)\n",
    "    best_i = min(gather_by_name(data, name, 'I'), key=lambda tri: tri[1])\n",
    "    best_i_prop = best_i[0]\n",
    "    best_i_val = best_i[1] / nodes\n",
    "    best_r = min(gather_by_name(data, name, 'R'), key=lambda tri: tri[1])\n",
    "    best_r_prop = best_r[0]\n",
    "    best_r_val = best_r[1] / nodes\n",
    "    return [name, nodes, avg_deg, cc, powerlaw, no_q, best_r_prop, best_r_val]\n",
    "\n",
    "\n",
    "def tabulate_by_name(names):\n",
    "    headers=['name', 'nodes', 'avg_deg', 'cc', 'powerlaw', 'no_Q', 'best_r_prop', 'best_r_val']\n",
    "    graph_data = [collect_graph_data_by_name(_) for _ in names]\n",
    "    print(tabulate(graph_data, headers=headers, floatfmt='.2f'))\n",
    "    return graph_data\n",
    "\n",
    "print()"
   ]
  },
  {
   "cell_type": "code",
   "execution_count": 12,
   "metadata": {},
   "outputs": [
    {
     "name": "stdout",
     "output_type": "stream",
     "text": [
      "ba10\n",
      "ba5\n",
      "plc10.25\n",
      "plc5.5\n",
      "rw.91.94\n",
      "nn.886\n",
      "ws10.05\n",
      "fb.artist\n",
      "fb.athletes\n",
      "fb.company\n",
      "fb.new_sites\n",
      "fb.government\n",
      "deezer.RO\n",
      "deezer.HR\n",
      "deezer.HU\n",
      "arxiv.AstroPh\n",
      "arxiv.CondMat\n",
      "arxiv.HepPh\n",
      "arxiv.GrQc\n",
      "arxiv.HepTh\n",
      "hiv50R1\n",
      "hiv50R3\n",
      "hiv50R5\n",
      "hs5_10\n",
      "hs15_10\n",
      "hs30_10\n",
      "hs60_10\n",
      "plc_5_0.5_0.03125\n",
      "ba_5_0.25\n",
      "ws_10_0.05_0.125\n",
      "plc_5_0.5_0.25\n",
      "ws_10_0.05_0.03125\n",
      "plc_5_0.5_0.0625\n",
      "ba_5_0.0625\n",
      "ba_10_0.03125\n",
      "ws_10_0.05_0.25\n",
      "ba_5_0.03125\n",
      "ws_10_0.05_2\n",
      "rw_0.91_0.94_0.03125\n",
      "ws_10_0.05_0.0625\n",
      "rw_0.91_0.94_0.125\n",
      "ba_5_0.125\n",
      "ws_10_0.05_1\n",
      "ws_10_0.05_0.5\n",
      "plc_10_0.25_0.03125\n",
      "ba_5_1\n",
      "plc_5_0.5_0.125\n",
      "rw_0.91_0.94_0.0625\n",
      "ba_5_0.5\n",
      "ws_10_0.05_4\n",
      "ba_10_0.0625\n",
      "plc_10_0.25_0.125\n",
      "ws_10_0.05_8\n",
      "ba_5_2\n",
      "nn_0.88_6_0.03125\n",
      "rw_0.91_0.94_0.25\n",
      "ba_5_8\n",
      "plc_5_0.5_2\n",
      "ba_10_0.25\n",
      "plc_5_0.5_0.5\n",
      "ba_10_2\n",
      "ba_5_4\n",
      "plc_5_0.5_8\n",
      "plc_5_0.5_1\n",
      "ba_10_0.125\n",
      "plc_10_0.25_0.0625\n",
      "ba_10_4\n",
      "plc_5_0.5_4\n",
      "ba_10_0.5\n",
      "ba_10_1\n",
      "rw_0.91_0.94_8\n",
      "rw_0.91_0.94_0.5\n",
      "plc_10_0.25_4\n",
      "plc_10_0.25_0.25\n",
      "plc_10_0.25_0.5\n",
      "rw_0.91_0.94_1\n",
      "ba_10_8\n",
      "rw_0.91_0.94_2\n",
      "rw_0.91_0.94_4\n",
      "plc_10_0.25_1\n",
      "nn_0.88_6_0.0625\n",
      "plc_10_0.25_2\n",
      "nn_0.88_6_0.125\n",
      "nn_0.88_6_0.25\n",
      "plc_10_0.25_8\n",
      "nn_0.88_6_1\n",
      "nn_0.88_6_0.5\n",
      "nn_0.88_6_2\n",
      "nn_0.88_6_4\n",
      "nn_0.88_6_8\n"
     ]
    }
   ],
   "source": [
    "graphs = {}\n",
    "for k in data.keys():\n",
    "    print(k)\n",
    "    graphs[k] = parse_data_name(k)"
   ]
  },
  {
   "cell_type": "code",
   "execution_count": 15,
   "metadata": {},
   "outputs": [],
   "source": [
    "rs = {k: get_r_by_name(k) for k in data}"
   ]
  },
  {
   "cell_type": "code",
   "execution_count": null,
   "metadata": {},
   "outputs": [],
   "source": []
  },
  {
   "cell_type": "code",
   "execution_count": 189,
   "metadata": {},
   "outputs": [],
   "source": [
    "def get_struct_quad(G):\n",
    "    # Gets the quadruple of (avg degree, shortest path, powerlaw_exp, cluster_coeff)\n",
    "    ad = avg_deg(G)\n",
    "    sp = avg_shortest_path(G) / len(G)\n",
    "    powerlaw = get_powerlaw_exponent_cbin(G)[0]\n",
    "    cc = nx.average_clustering(G)\n",
    "    return (ad, sp, powerlaw, cc)\n",
    "\n",
    "def get_quint_by_name(name):\n",
    "    quad = get_struct_quad(graphs[name])\n",
    "    rval = (rs[name],)\n",
    "    return list(quad +rval)\n",
    "\n",
    "\n",
    "def get_quarantine_percent(name, data=data):\n",
    "    # Try percent change first\n",
    "    nodes = len(graphs[name])\n",
    "    no_q_r = gather_by_name(data, name,'R')[0][1]\n",
    "    best_r = min(gather_by_name(data, name, 'R'), key=lambda tri: tri[1])[1]\n",
    "    return (no_q_r - best_r) / nodes\n",
    "    "
   ]
  },
  {
   "cell_type": "code",
   "execution_count": 41,
   "metadata": {},
   "outputs": [
    {
     "data": {
      "text/plain": [
       "{'ba10': <networkx.classes.graph.Graph at 0x7f5e90b138d0>,\n",
       " 'ba5': <networkx.classes.graph.Graph at 0x7f5e852907f0>,\n",
       " 'plc10.25': <networkx.classes.graph.Graph at 0x7f5e852909b0>,\n",
       " 'plc5.5': <networkx.classes.graph.Graph at 0x7f5e852909e8>,\n",
       " 'rw.91.94': <networkx.classes.graph.Graph at 0x7f5eba8ddb70>,\n",
       " 'nn.886': <networkx.classes.graph.Graph at 0x7f5e85290978>,\n",
       " 'ws10.05': <networkx.classes.graph.Graph at 0x7f5edfb73438>,\n",
       " 'fb.artist': <networkx.classes.graph.Graph at 0x7f5ea2fdb2b0>,\n",
       " 'fb.athletes': <networkx.classes.graph.Graph at 0x7f5edfd12898>,\n",
       " 'fb.company': <networkx.classes.graph.Graph at 0x7f5e6047f2b0>,\n",
       " 'fb.new_sites': <networkx.classes.graph.Graph at 0x7f5e5ec587f0>,\n",
       " 'fb.government': <networkx.classes.graph.Graph at 0x7f5e599a3be0>,\n",
       " 'deezer.RO': <networkx.classes.graph.Graph at 0x7f5e57876a90>,\n",
       " 'deezer.HR': <networkx.classes.graph.Graph at 0x7f5e53965278>,\n",
       " 'deezer.HU': <networkx.classes.graph.Graph at 0x7f5e474c02b0>,\n",
       " 'arxiv.AstroPh': <networkx.classes.graph.Graph at 0x7f5e40e6f978>,\n",
       " 'arxiv.CondMat': <networkx.classes.graph.Graph at 0x7f5e3c330400>,\n",
       " 'arxiv.HepPh': <networkx.classes.graph.Graph at 0x7f5e398c04a8>,\n",
       " 'arxiv.GrQc': <networkx.classes.graph.Graph at 0x7f5e36ae9240>,\n",
       " 'arxiv.HepTh': <networkx.classes.graph.Graph at 0x7f5e363c5a58>,\n",
       " 'hiv50R1': <networkx.classes.graph.Graph at 0x7f5e355f3be0>,\n",
       " 'hiv50R3': <networkx.classes.graph.Graph at 0x7f5e3564fc88>,\n",
       " 'hiv50R5': <networkx.classes.graph.Graph at 0x7f5e355e2e10>,\n",
       " 'hs5_10': <networkx.classes.graph.Graph at 0x7f5e355df9e8>,\n",
       " 'hs15_10': <networkx.classes.graph.Graph at 0x7f5e355df898>,\n",
       " 'hs30_10': <networkx.classes.graph.Graph at 0x7f5e3564fe80>,\n",
       " 'hs60_10': <networkx.classes.graph.Graph at 0x7f5e3564f4e0>,\n",
       " 'plc_5_0.5_0.03125': <networkx.classes.graph.Graph at 0x7f5e3564f5c0>,\n",
       " 'ba_5_0.25': <networkx.classes.graph.Graph at 0x7f5e3564ffd0>,\n",
       " 'ws_10_0.05_0.125': <networkx.classes.graph.Graph at 0x7f5e3564f048>,\n",
       " 'plc_5_0.5_0.25': <networkx.classes.graph.Graph at 0x7f5e3564f198>,\n",
       " 'ws_10_0.05_0.03125': <networkx.classes.graph.Graph at 0x7f5e3564f9b0>,\n",
       " 'plc_5_0.5_0.0625': <networkx.classes.graph.Graph at 0x7f5e3564fb00>,\n",
       " 'ba_5_0.0625': <networkx.classes.graph.Graph at 0x7f5e3564f2b0>,\n",
       " 'ba_10_0.03125': <networkx.classes.graph.Graph at 0x7f5e3564f358>,\n",
       " 'ws_10_0.05_0.25': <networkx.classes.graph.Graph at 0x7f5e3564f3c8>,\n",
       " 'ba_5_0.03125': <networkx.classes.graph.Graph at 0x7f5e3564f0f0>,\n",
       " 'ws_10_0.05_2': <networkx.classes.graph.Graph at 0x7f5e3564f748>,\n",
       " 'rw_0.91_0.94_0.03125': <networkx.classes.graph.Graph at 0x7f5e3564f128>,\n",
       " 'ws_10_0.05_0.0625': <networkx.classes.graph.Graph at 0x7f5e3564f978>,\n",
       " 'rw_0.91_0.94_0.125': <networkx.classes.graph.Graph at 0x7f5e3564f898>,\n",
       " 'ba_5_0.125': <networkx.classes.graph.Graph at 0x7f5e3564fd30>,\n",
       " 'ws_10_0.05_1': <networkx.classes.graph.Graph at 0x7f5e3564fdd8>,\n",
       " 'ws_10_0.05_0.5': <networkx.classes.graph.Graph at 0x7f5e3564fba8>,\n",
       " 'plc_10_0.25_0.03125': <networkx.classes.graph.Graph at 0x7f5e3564f160>,\n",
       " 'ba_5_1': <networkx.classes.graph.Graph at 0x7f5e3564ff28>,\n",
       " 'plc_5_0.5_0.125': <networkx.classes.graph.Graph at 0x7f5e3564f7b8>,\n",
       " 'rw_0.91_0.94_0.0625': <networkx.classes.graph.Graph at 0x7f5e3564f080>,\n",
       " 'ba_5_0.5': <networkx.classes.graph.Graph at 0x7f5e3564fef0>,\n",
       " 'ws_10_0.05_4': <networkx.classes.graph.Graph at 0x7f5e3564f5f8>,\n",
       " 'ba_10_0.0625': <networkx.classes.graph.Graph at 0x7f5e3564f320>,\n",
       " 'plc_10_0.25_0.125': <networkx.classes.graph.Graph at 0x7f5e3564f6a0>,\n",
       " 'ws_10_0.05_8': <networkx.classes.graph.Graph at 0x7f5e3564f390>,\n",
       " 'ba_5_2': <networkx.classes.graph.Graph at 0x7f5e3564f278>,\n",
       " 'nn_0.88_6_0.03125': <networkx.classes.graph.Graph at 0x7f5e3564f550>,\n",
       " 'rw_0.91_0.94_0.25': <networkx.classes.graph.Graph at 0x7f5e3564fb70>,\n",
       " 'ba_5_8': <networkx.classes.graph.Graph at 0x7f5e3564f518>,\n",
       " 'plc_5_0.5_2': <networkx.classes.graph.Graph at 0x7f5e3564f470>,\n",
       " 'ba_10_0.25': <networkx.classes.graph.Graph at 0x7f5e3564fa20>,\n",
       " 'plc_5_0.5_0.5': <networkx.classes.graph.Graph at 0x7f5e3564f588>,\n",
       " 'ba_10_2': <networkx.classes.graph.Graph at 0x7f5e3564f1d0>,\n",
       " 'ba_5_4': <networkx.classes.graph.Graph at 0x7f5e3564f668>,\n",
       " 'plc_5_0.5_8': <networkx.classes.graph.Graph at 0x7f5e3564f4a8>,\n",
       " 'plc_5_0.5_1': <networkx.classes.graph.Graph at 0x7f5e3564f438>,\n",
       " 'ba_10_0.125': <networkx.classes.graph.Graph at 0x7f5e3564f0b8>,\n",
       " 'plc_10_0.25_0.0625': <networkx.classes.graph.Graph at 0x7f5e3564f6d8>,\n",
       " 'ba_10_4': <networkx.classes.graph.Graph at 0x7f5e3564f240>,\n",
       " 'plc_5_0.5_4': <networkx.classes.graph.Graph at 0x7f5e3564f9e8>,\n",
       " 'ba_10_0.5': <networkx.classes.graph.Graph at 0x7f5e3564f828>,\n",
       " 'ba_10_1': <networkx.classes.graph.Graph at 0x7f5e3564f2e8>,\n",
       " 'rw_0.91_0.94_8': <networkx.classes.graph.Graph at 0x7f5e3564f940>,\n",
       " 'rw_0.91_0.94_0.5': <networkx.classes.graph.Graph at 0x7f5e3564fc18>,\n",
       " 'plc_10_0.25_4': <networkx.classes.graph.Graph at 0x7f5e3564fac8>,\n",
       " 'plc_10_0.25_0.25': <networkx.classes.graph.Graph at 0x7f5e3564f710>,\n",
       " 'plc_10_0.25_0.5': <networkx.classes.graph.Graph at 0x7f5e3564fa58>,\n",
       " 'rw_0.91_0.94_1': <networkx.classes.graph.Graph at 0x7f5e3564fb38>,\n",
       " 'ba_10_8': <networkx.classes.graph.Graph at 0x7f5e3564fe48>,\n",
       " 'rw_0.91_0.94_2': <networkx.classes.graph.Graph at 0x7f5e3564fa90>,\n",
       " 'rw_0.91_0.94_4': <networkx.classes.graph.Graph at 0x7f5e3564ff98>,\n",
       " 'plc_10_0.25_1': <networkx.classes.graph.Graph at 0x7f5e3564f8d0>,\n",
       " 'nn_0.88_6_0.0625': <networkx.classes.graph.Graph at 0x7f5e3564f7f0>,\n",
       " 'plc_10_0.25_2': <networkx.classes.graph.Graph at 0x7f5e35651be0>,\n",
       " 'nn_0.88_6_0.125': <networkx.classes.graph.Graph at 0x7f5e3564fbe0>,\n",
       " 'nn_0.88_6_0.25': <networkx.classes.graph.Graph at 0x7f5edfb73470>,\n",
       " 'plc_10_0.25_8': <networkx.classes.graph.Graph at 0x7f5e35651f60>,\n",
       " 'nn_0.88_6_1': <networkx.classes.graph.Graph at 0x7f5e3564f908>,\n",
       " 'nn_0.88_6_0.5': <networkx.classes.graph.Graph at 0x7f5e35651d30>,\n",
       " 'nn_0.88_6_2': <networkx.classes.graph.Graph at 0x7f5e35651ef0>,\n",
       " 'nn_0.88_6_4': <networkx.classes.graph.Graph at 0x7f5e35651e80>,\n",
       " 'nn_0.88_6_8': <networkx.classes.graph.Graph at 0x7f5e35651e10>}"
      ]
     },
     "execution_count": 41,
     "metadata": {},
     "output_type": "execute_result"
    }
   ],
   "source": [
    "graphs"
   ]
  },
  {
   "cell_type": "code",
   "execution_count": 53,
   "metadata": {},
   "outputs": [
    {
     "name": "stdout",
     "output_type": "stream",
     "text": [
      "arxiv.AstroPh\n",
      "arxiv.CondMat\n",
      "arxiv.GrQc\n",
      "arxiv.HepPh\n",
      "arxiv.HepTh\n",
      "ba10\n",
      "ba5\n",
      "ba_10_0.03125\n",
      "ba_10_0.0625\n",
      "ba_10_0.125\n",
      "ba_10_0.25\n",
      "ba_10_0.5\n",
      "ba_10_1\n",
      "ba_10_2\n",
      "ba_10_4\n",
      "ba_10_8\n",
      "ba_5_0.03125\n",
      "ba_5_0.0625\n",
      "ba_5_0.125\n",
      "ba_5_0.25\n",
      "ba_5_0.5\n",
      "ba_5_1\n",
      "ba_5_2\n",
      "ba_5_4\n",
      "ba_5_8\n",
      "deezer.HR\n",
      "deezer.HU\n",
      "deezer.RO\n",
      "fb.artist\n",
      "fb.athletes\n",
      "fb.company\n",
      "fb.government\n",
      "fb.new_sites\n",
      "hiv50R1\n",
      "hiv50R3\n",
      "hiv50R5\n",
      "hs15_10\n",
      "hs30_10\n",
      "hs5_10\n",
      "hs60_10\n",
      "nn.886\n",
      "nn_0.88_6_0.03125\n",
      "nn_0.88_6_0.0625\n",
      "nn_0.88_6_0.125\n",
      "nn_0.88_6_0.25\n",
      "nn_0.88_6_0.5\n",
      "nn_0.88_6_1\n",
      "nn_0.88_6_2\n",
      "nn_0.88_6_4\n",
      "nn_0.88_6_8\n",
      "plc10.25\n",
      "plc5.5\n",
      "plc_10_0.25_0.03125\n",
      "plc_10_0.25_0.0625\n",
      "plc_10_0.25_0.125\n",
      "plc_10_0.25_0.25\n",
      "plc_10_0.25_0.5\n",
      "plc_10_0.25_1\n",
      "plc_10_0.25_2\n",
      "plc_10_0.25_4\n",
      "plc_10_0.25_8\n",
      "plc_5_0.5_0.03125\n",
      "plc_5_0.5_0.0625\n",
      "plc_5_0.5_0.125\n",
      "plc_5_0.5_0.25\n",
      "plc_5_0.5_0.5\n",
      "plc_5_0.5_1\n",
      "plc_5_0.5_2\n",
      "plc_5_0.5_4\n",
      "plc_5_0.5_8\n",
      "rw.91.94\n",
      "rw_0.91_0.94_0.03125\n",
      "rw_0.91_0.94_0.0625\n",
      "rw_0.91_0.94_0.125\n",
      "rw_0.91_0.94_0.25\n",
      "rw_0.91_0.94_0.5\n",
      "rw_0.91_0.94_1\n",
      "rw_0.91_0.94_2\n",
      "rw_0.91_0.94_4\n",
      "rw_0.91_0.94_8\n",
      "ws10.05\n",
      "ws_10_0.05_0.03125\n",
      "ws_10_0.05_0.0625\n",
      "ws_10_0.05_0.125\n",
      "ws_10_0.05_0.25\n",
      "ws_10_0.05_0.5\n",
      "ws_10_0.05_1\n",
      "ws_10_0.05_2\n",
      "ws_10_0.05_4\n",
      "ws_10_0.05_8\n"
     ]
    }
   ],
   "source": [
    "from sklearn import datasets, linear_model\n",
    "from sklearn.metrics import mean_squared_error, r2_score\n",
    "sorted_keys = sorted(data.keys())\n",
    "X = []\n",
    "for k in sorted_keys:\n",
    "    print(k)\n",
    "    X.append(get_quint_by_name(k))"
   ]
  },
  {
   "cell_type": "code",
   "execution_count": 54,
   "metadata": {},
   "outputs": [],
   "source": [
    "Y = [get_quarantine_percent(k) for k in sorted_keys]"
   ]
  },
  {
   "cell_type": "code",
   "execution_count": 56,
   "metadata": {},
   "outputs": [
    {
     "data": {
      "text/plain": [
       "LinearRegression()"
      ]
     },
     "execution_count": 56,
     "metadata": {},
     "output_type": "execute_result"
    }
   ],
   "source": [
    "reg = linear_model.LinearRegression()\n",
    "reg.fit(X, Y)"
   ]
  },
  {
   "cell_type": "code",
   "execution_count": 77,
   "metadata": {},
   "outputs": [],
   "source": [
    "def plot_by_feature(idx, x,y):\n",
    "    plt.scatter([_[idx] for _ in x], y)"
   ]
  },
  {
   "cell_type": "code",
   "execution_count": 74,
   "metadata": {},
   "outputs": [],
   "source": [
    "sort_by_r = {}\n",
    "for i in range(len(X)):\n",
    "    r = X[i][-1]\n",
    "    if r not in sort_by_r:\n",
    "        sort_by_r[r] = [[],[]] \n",
    "    sort_by_r[r][0].append(X[i])\n",
    "    sort_by_r[r][1].append(Y[i])\n",
    "    "
   ]
  },
  {
   "cell_type": "code",
   "execution_count": 81,
   "metadata": {},
   "outputs": [
    {
     "data": {
      "image/png": "[encoded data removed]",
      "text/plain": [
       "<Figure size 432x288 with 1 Axes>"
      ]
     },
     "metadata": {},
     "output_type": "display_data"
    }
   ],
   "source": [
    "plot_by_feature(2, *sort_by_r[0.5])"
   ]
  },
  {
   "cell_type": "code",
   "execution_count": 94,
   "metadata": {},
   "outputs": [
    {
     "data": {
      "image/png": "[encoded data removed]",
      "text/plain": [
       "<Figure size 432x288 with 1 Axes>"
      ]
     },
     "metadata": {},
     "output_type": "display_data"
    }
   ],
   "source": [
    "plot_by_feature(3, sort_by_r[0.5][0][:-1], sort_by_r[0.5][1][:-1])"
   ]
  },
  {
   "cell_type": "code",
   "execution_count": 101,
   "metadata": {},
   "outputs": [
    {
     "data": {
      "text/plain": [
       "0.9997422618690156"
      ]
     },
     "execution_count": 101,
     "metadata": {},
     "output_type": "execute_result"
    }
   ],
   "source": [
    "x5, y5 = sort_by_r[0.5][0][:-1], sort_by_r[0.5][1][:-1]\n",
    "testreg = linear_model.LinearRegression()\n",
    "testreg.fit(x5, y5)\n",
    "r2_score(testreg.predict(x5), y5)"
   ]
  },
  {
   "cell_type": "code",
   "execution_count": 108,
   "metadata": {},
   "outputs": [],
   "source": [
    "def get_r2_by_r(r):\n",
    "    xx, yy = sort_by_r[r][0][:-1], sort_by_r[r][1][:-1]\n",
    "    testreg = linear_model.LinearRegression()\n",
    "    testreg.fit(xx, yy)\n",
    "    return testreg.coef_, r2_score(testreg.predict(xx), yy)"
   ]
  },
  {
   "cell_type": "code",
   "execution_count": 109,
   "metadata": {},
   "outputs": [
    {
     "name": "stdout",
     "output_type": "stream",
     "text": [
      "R 0.125 (array([-0.00930344,  0.05294839, -0.16855291, -0.10855449,  0.        ]), 0.9977165129963492)\n",
      "R 0.25 (array([-0.00538347,  0.11301524, -0.08923925,  0.06505435,  0.        ]), 0.9993023772092156)\n",
      "R 0.5 (array([-0.00298461,  0.16543747, -0.11267253,  0.12100397,  0.        ]), 0.9997422618690156)\n",
      "R 2 (array([ 0.00284545,  0.20137336, -0.00853718,  0.44981381,  0.        ]), 0.9975402446220616)\n"
     ]
    }
   ],
   "source": [
    "for testr in [0.125, 0.25, 0.5, 2]:\n",
    "    print(\"R\", testr, get_r2_by_r(testr))"
   ]
  },
  {
   "cell_type": "code",
   "execution_count": 114,
   "metadata": {},
   "outputs": [
    {
     "name": "stdout",
     "output_type": "stream",
     "text": [
      "arxiv.AstroPh\n",
      "arxiv.CondMat\n",
      "arxiv.GrQc\n",
      "arxiv.HepPh\n",
      "arxiv.HepTh\n",
      "deezer.HR\n",
      "deezer.HU\n",
      "deezer.RO\n",
      "fb.artist\n",
      "fb.athletes\n",
      "fb.company\n",
      "fb.government\n",
      "fb.new_sites\n"
     ]
    }
   ],
   "source": [
    "Xreal = []\n",
    "Yreal = []\n",
    "for k in sorted_keys:\n",
    "    if not( k.startswith('arxiv') or k.startswith('deezer') or k.startswith('fb')):\n",
    "        continue\n",
    "    print(k)\n",
    "    \n",
    "    Xreal.append(get_quint_by_name(k))\n",
    "    Yreal.append(get_quarantine_percent(k))"
   ]
  },
  {
   "cell_type": "code",
   "execution_count": 153,
   "metadata": {},
   "outputs": [
    {
     "name": "stdout",
     "output_type": "stream",
     "text": [
      "0.7580070211111211\n"
     ]
    }
   ],
   "source": [
    "realreg = linear_model.LinearRegression()\n",
    "realreg.fit(Aprime, Yreal)\n",
    "realpred = realreg.predict(Aprime)\n",
    "print(r2_score(realpred, Yreal))"
   ]
  },
  {
   "cell_type": "code",
   "execution_count": 181,
   "metadata": {},
   "outputs": [
    {
     "data": {
      "image/png": "[encoded data removed]",
      "text/plain": [
       "<Figure size 432x288 with 1 Axes>"
      ]
     },
     "metadata": {},
     "output_type": "display_data"
    }
   ],
   "source": [
    "plot_by_feature(2, Xreal, Yreal)"
   ]
  },
  {
   "cell_type": "code",
   "execution_count": 135,
   "metadata": {},
   "outputs": [],
   "source": [
    "# Center: \n",
    "A = np.array([list(_[:-1]) for _ in Xreal])\n",
    "Aprime = (A - A.mean(axis=0)) / A.std(axis=0)\n"
   ]
  },
  {
   "cell_type": "code",
   "execution_count": 161,
   "metadata": {},
   "outputs": [
    {
     "data": {
      "text/plain": [
       "[(21.10696782441935, 4.187, 2.8341885079219566, 0.6305932411707943, 1),\n",
       " (8.083430596982666, 5.363, 3.105684718276472, 0.6334130270820665, 1),\n",
       " (5.530713468141931, 6.0572, 2.8810900986395005, 0.529635811052136, 1),\n",
       " (19.740339773484344, 4.6599, 2.3100988004575402, 0.6114825236824339, 1),\n",
       " (5.264351523742027, 5.9454, 3.276478575985644, 0.4714390529669332, 1),\n",
       " (18.257553825011453, 4.4985, 3.3908677535409915, 0.13647174362435588, 1),\n",
       " (9.376861590239798, 5.3347, 3.7911015748095784, 0.11618233863493775, 1),\n",
       " (6.024033512866547, 6.3441, 3.7033138691444494, 0.09120797046991468, 1),\n",
       " (32.4368826335689, 3.6902, 2.643106686438551, 0.13811495287065234, 1),\n",
       " (12.526535910008652, 4.2723, 2.8476187754078945, 0.27614853940273026, 1),\n",
       " (7.41211477151966, 5.2941, 2.9738746289840985, 0.2392079390902055, 1),\n",
       " (25.34523303584077, 3.779, 2.579581857183071, 0.41076781193737977, 1),\n",
       " (14.775600845302483, 4.3984, 2.850199750093277, 0.2953695976286596, 1)]"
      ]
     },
     "execution_count": 161,
     "metadata": {},
     "output_type": "execute_result"
    }
   ],
   "source": [
    "Xreal"
   ]
  },
  {
   "cell_type": "code",
   "execution_count": 169,
   "metadata": {},
   "outputs": [],
   "source": [
    "REALS = [_ for _ in data.keys() if _.startswith('arxiv') or _.startswith('fb') or _.startswith('deezer')]\n",
    "quads_by_name = {k: get_struct_quad(graphs[k]) for k in REALS}"
   ]
  },
  {
   "cell_type": "code",
   "execution_count": 188,
   "metadata": {},
   "outputs": [
    {
     "name": "stdout",
     "output_type": "stream",
     "text": [
      "-------------  --------  -------  -------  -------  -------\n",
      "fb.artist      32.43688  0.00007  2.64311  0.13811  0.34917\n",
      "fb.athletes    12.52654  0.00031  2.84762  0.27615  0.41942\n",
      "fb.company      7.41211  0.00038  2.97387  0.23921  0.48726\n",
      "fb.new_sites   14.77560  0.00016  2.85020  0.29537  0.36933\n",
      "fb.government  25.34523  0.00053  2.57958  0.41077  0.27813\n",
      "deezer.RO       6.02403  0.00015  3.70331  0.09121  0.40965\n",
      "deezer.HR      18.25755  0.00008  3.39087  0.13647  0.25498\n",
      "deezer.HU       9.37686  0.00011  3.79110  0.11618  0.30677\n",
      "arxiv.AstroPh  21.10697  0.00022  2.83419  0.63059  0.38527\n",
      "arxiv.CondMat   8.08343  0.00023  3.10568  0.63341  0.48518\n",
      "arxiv.HepPh    19.74034  0.00039  2.31010  0.61148  0.44326\n",
      "arxiv.GrQc      5.53071  0.00116  2.88109  0.52964  0.50303\n",
      "arxiv.HepTh     5.26435  0.00060  3.27648  0.47144  0.50563\n",
      "-------------  --------  -------  -------  -------  -------\n"
     ]
    }
   ],
   "source": [
    "print(tabulate([(k,) + v + (get_quarantine_percent(k),) for k,v in quads_by_name.items()], floatfmt='0.5f'))"
   ]
  },
  {
   "cell_type": "code",
   "execution_count": 192,
   "metadata": {},
   "outputs": [
    {
     "data": {
      "text/plain": [
       "<matplotlib.collections.PathCollection at 0x7f5da30f9438>"
      ]
     },
     "execution_count": 192,
     "metadata": {},
     "output_type": "execute_result"
    },
    {
     "data": {
      "image/png": "[encoded data removed]",
      "text/plain": [
       "<Figure size 432x288 with 1 Axes>"
      ]
     },
     "metadata": {},
     "output_type": "display_data"
    }
   ],
   "source": [
    "realx = [quads_by_name[_] for _ in REALS]\n",
    "realy = [get_quarantine_percent(_) for _ in REALS]\n",
    "scaled = [_[3] for _ in realx]\n",
    "plt.scatter(scaled, realy)"
   ]
  },
  {
   "cell_type": "code",
   "execution_count": 184,
   "metadata": {},
   "outputs": [
    {
     "data": {
      "image/png": "[encoded data removed]",
      "text/plain": [
       "<Figure size 432x288 with 1 Axes>"
      ]
     },
     "metadata": {},
     "output_type": "display_data"
    }
   ],
   "source": [
    "plot_by_feature(1, realpx, realy)"
   ]
  },
  {
   "cell_type": "code",
   "execution_count": 202,
   "metadata": {},
   "outputs": [
    {
     "data": {
      "image/png": "[encoded data removed]",
      "text/plain": [
       "<Figure size 432x288 with 1 Axes>"
      ]
     },
     "metadata": {},
     "output_type": "display_data"
    }
   ],
   "source": [
    "################\n",
    "plot_by_feature(1, sort_by_r[0.5][0][:-1], sort_by_r[0.5][1][:-1] )"
   ]
  },
  {
   "cell_type": "code",
   "execution_count": 220,
   "metadata": {},
   "outputs": [
    {
     "data": {
      "text/plain": [
       "<matplotlib.collections.PathCollection at 0x7f5da2a3eac8>"
      ]
     },
     "execution_count": 220,
     "metadata": {},
     "output_type": "execute_result"
    },
    {
     "data": {
      "image/png": "[encoded data removed]",
      "text/plain": [
       "<Figure size 432x288 with 1 Axes>"
      ]
     },
     "metadata": {},
     "output_type": "display_data"
    }
   ],
   "source": [
    "plt.scatter([_[1] * 1e4 for _ in realx[-5:]], realy[-5:])"
   ]
  },
  {
   "cell_type": "code",
   "execution_count": null,
   "metadata": {},
   "outputs": [],
   "source": [
    "plt.scatter([_[1] * 1e3 for _ in realx[-5:]], realy[-5:])"
   ]
  }
 ],
 "metadata": {
  "kernelspec": {
   "display_name": "py3",
   "language": "python",
   "name": "py3"
  },
  "language_info": {
   "codemirror_mode": {
    "name": "ipython",
    "version": 3
   },
   "file_extension": ".py",
   "mimetype": "text/x-python",
   "name": "python",
   "nbconvert_exporter": "python",
   "pygments_lexer": "ipython3",
   "version": "3.6.9"
  }
 },
 "nbformat": 4,
 "nbformat_minor": 4
}
