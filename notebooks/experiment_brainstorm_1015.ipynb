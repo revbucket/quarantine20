{
 "cells": [
  {
   "cell_type": "code",
   "execution_count": 1,
   "metadata": {},
   "outputs": [
    {
     "data": {
      "text/html": [
       "\n",
       "\t\t\t<script type=\"text/javascript\">\n",
       "\t\t\t<!--\n",
       "\t\t\t\t\n",
       "\t\t\t{\n",
       "\t\t\t\tvar element = document.getElementById('NetworKit_script');\n",
       "\t\t\t\tif (element) {\n",
       "\t\t\t\t\telement.parentNode.removeChild(element);\n",
       "\t\t\t\t}\n",
       "\t\t\t\telement = document.createElement('script');\n",
       "\t\t\t\telement.type = 'text/javascript';\n",
       "\t\t\t\telement.innerHTML = 'function NetworKit_pageEmbed(id) { var i, j; var elements; elements = document.getElementById(id).getElementsByClassName(\"Plot\"); for (i=0; i<elements.length; i++) { elements[i].id = id + \"_Plot_\" + i; var data = elements[i].getAttribute(\"data-image\").split(\"|\"); elements[i].removeAttribute(\"data-image\"); var content = \"<div class=\\\\\"Image\\\\\" id=\\\\\"\" + elements[i].id + \"_Image\\\\\" />\"; elements[i].innerHTML = content; elements[i].setAttribute(\"data-image-index\", 0); elements[i].setAttribute(\"data-image-length\", data.length); for (j=0; j<data.length; j++) { elements[i].setAttribute(\"data-image-\" + j, data[j]); } NetworKit_plotUpdate(elements[i]); elements[i].onclick = function (e) { NetworKit_overlayShow((e.target) ? e.target : e.srcElement); } } elements = document.getElementById(id).getElementsByClassName(\"HeatCell\"); for (i=0; i<elements.length; i++) { var data = parseFloat(elements[i].getAttribute(\"data-heat\")); var color = \"#00FF00\"; if (data <= 1 && data > 0) { color = \"hsla(0, 100%, 75%, \" + (data) + \")\"; } else if (data <= 0 && data >= -1) { color = \"hsla(240, 100%, 75%, \" + (-data) + \")\"; } elements[i].style.backgroundColor = color; } elements = document.getElementById(id).getElementsByClassName(\"Details\"); for (i=0; i<elements.length; i++) { elements[i].setAttribute(\"data-title\", \"-\"); NetworKit_toggleDetails(elements[i]); elements[i].onclick = function (e) { NetworKit_toggleDetails((e.target) ? e.target : e.srcElement); } } elements = document.getElementById(id).getElementsByClassName(\"MathValue\"); for (i=elements.length-1; i>=0; i--) { value = elements[i].innerHTML.trim(); if (value === \"nan\") { elements[i].parentNode.innerHTML = \"\" } } elements = document.getElementById(id).getElementsByClassName(\"SubCategory\"); for (i=elements.length-1; i>=0; i--) { value = elements[i].innerHTML.trim(); if (value === \"\") { elements[i].parentNode.removeChild(elements[i]) } } elements = document.getElementById(id).getElementsByClassName(\"Category\"); for (i=elements.length-1; i>=0; i--) { value = elements[i].innerHTML.trim(); if (value === \"\") { elements[i].parentNode.removeChild(elements[i]) } } var isFirefox = false; try { isFirefox = typeof InstallTrigger !== \"undefined\"; } catch (e) {} if (!isFirefox) { alert(\"Currently the function\\'s output is only fully supported by Firefox.\"); } } function NetworKit_plotUpdate(source) { var index = source.getAttribute(\"data-image-index\"); var data = source.getAttribute(\"data-image-\" + index); var image = document.getElementById(source.id + \"_Image\"); image.style.backgroundImage = \"url(\" + data + \")\"; } function NetworKit_showElement(id, show) { var element = document.getElementById(id); element.style.display = (show) ? \"block\" : \"none\"; } function NetworKit_overlayShow(source) { NetworKit_overlayUpdate(source); NetworKit_showElement(\"NetworKit_Overlay\", true); } function NetworKit_overlayUpdate(source) { document.getElementById(\"NetworKit_Overlay_Title\").innerHTML = source.title; var index = source.getAttribute(\"data-image-index\"); var data = source.getAttribute(\"data-image-\" + index); var image = document.getElementById(\"NetworKit_Overlay_Image\"); image.setAttribute(\"data-id\", source.id); image.style.backgroundImage = \"url(\" + data + \")\"; var link = document.getElementById(\"NetworKit_Overlay_Toolbar_Bottom_Save\"); link.href = data; link.download = source.title + \".svg\"; } function NetworKit_overlayImageShift(delta) { var image = document.getElementById(\"NetworKit_Overlay_Image\"); var source = document.getElementById(image.getAttribute(\"data-id\")); var index = parseInt(source.getAttribute(\"data-image-index\")); var length = parseInt(source.getAttribute(\"data-image-length\")); var index = (index+delta) % length; if (index < 0) { index = length + index; } source.setAttribute(\"data-image-index\", index); NetworKit_overlayUpdate(source); } function NetworKit_toggleDetails(source) { var childs = source.children; var show = false; if (source.getAttribute(\"data-title\") == \"-\") { source.setAttribute(\"data-title\", \"+\"); show = false; } else { source.setAttribute(\"data-title\", \"-\"); show = true; } for (i=0; i<childs.length; i++) { if (show) { childs[i].style.display = \"block\"; } else { childs[i].style.display = \"none\"; } } }';\n",
       "\t\t\t\telement.setAttribute('id', 'NetworKit_script');\n",
       "\t\t\t\tdocument.head.appendChild(element);\n",
       "\t\t\t}\n",
       "\t\t\n",
       "\t\t\t\t\n",
       "\t\t\t{\n",
       "\t\t\t\tvar element = document.getElementById('NetworKit_style');\n",
       "\t\t\t\tif (element) {\n",
       "\t\t\t\t\telement.parentNode.removeChild(element);\n",
       "\t\t\t\t}\n",
       "\t\t\t\telement = document.createElement('style');\n",
       "\t\t\t\telement.type = 'text/css';\n",
       "\t\t\t\telement.innerHTML = '.NetworKit_Page { font-family: Arial, Helvetica, sans-serif; font-size: 14px; } .NetworKit_Page .Value:before { font-family: Arial, Helvetica, sans-serif; font-size: 1.05em; content: attr(data-title) \":\"; margin-left: -2.5em; padding-right: 0.5em; } .NetworKit_Page .Details .Value:before { display: block; } .NetworKit_Page .Value { font-family: monospace; white-space: pre; padding-left: 2.5em; white-space: -moz-pre-wrap !important; white-space: -pre-wrap; white-space: -o-pre-wrap; white-space: pre-wrap; word-wrap: break-word; tab-size: 4; -moz-tab-size: 4; } .NetworKit_Page .Category { clear: both; padding-left: 1em; margin-bottom: 1.5em; } .NetworKit_Page .Category:before { content: attr(data-title); font-size: 1.75em; display: block; margin-left: -0.8em; margin-bottom: 0.5em; } .NetworKit_Page .SubCategory { margin-bottom: 1.5em; padding-left: 1em; } .NetworKit_Page .SubCategory:before { font-size: 1.6em; display: block; margin-left: -0.8em; margin-bottom: 0.5em; } .NetworKit_Page .SubCategory[data-title]:before { content: attr(data-title); } .NetworKit_Page .Block { display: block; } .NetworKit_Page .Block:after { content: \".\"; visibility: hidden; display: block; height: 0; clear: both; } .NetworKit_Page .Block .Thumbnail_Overview, .NetworKit_Page .Block .Thumbnail_ScatterPlot { width: 260px; float: left; } .NetworKit_Page .Block .Thumbnail_Overview img, .NetworKit_Page .Block .Thumbnail_ScatterPlot img { width: 260px; } .NetworKit_Page .Block .Thumbnail_Overview:before, .NetworKit_Page .Block .Thumbnail_ScatterPlot:before { display: block; text-align: center; font-weight: bold; } .NetworKit_Page .Block .Thumbnail_Overview:before { content: attr(data-title); } .NetworKit_Page .HeatCell { font-family: \"Courier New\", Courier, monospace; cursor: pointer; } .NetworKit_Page .HeatCell, .NetworKit_Page .HeatCellName { display: inline; padding: 0.1em; margin-right: 2px; background-color: #FFFFFF } .NetworKit_Page .HeatCellName { margin-left: 0.25em; } .NetworKit_Page .HeatCell:before { content: attr(data-heat); display: inline-block; color: #000000; width: 4em; text-align: center; } .NetworKit_Page .Measure { clear: both; } .NetworKit_Page .Measure .Details { cursor: pointer; } .NetworKit_Page .Measure .Details:before { content: \"[\" attr(data-title) \"]\"; display: block; } .NetworKit_Page .Measure .Details .Value { border-left: 1px dotted black; margin-left: 0.4em; padding-left: 3.5em; pointer-events: none; } .NetworKit_Page .Measure .Details .Spacer:before { content: \".\"; opacity: 0.0; pointer-events: none; } .NetworKit_Page .Measure .Plot { width: 440px; height: 440px; cursor: pointer; float: left; margin-left: -0.9em; margin-right: 20px; } .NetworKit_Page .Measure .Plot .Image { background-repeat: no-repeat; background-position: center center; background-size: contain; height: 100%; pointer-events: none; } .NetworKit_Page .Measure .Stat { width: 500px; float: left; } .NetworKit_Page .Measure .Stat .Group { padding-left: 1.25em; margin-bottom: 0.75em; } .NetworKit_Page .Measure .Stat .Group .Title { font-size: 1.1em; display: block; margin-bottom: 0.3em; margin-left: -0.75em; border-right-style: dotted; border-right-width: 1px; border-bottom-style: dotted; border-bottom-width: 1px; background-color: #D0D0D0; padding-left: 0.2em; } .NetworKit_Page .Measure .Stat .Group .List { -webkit-column-count: 3; -moz-column-count: 3; column-count: 3; } .NetworKit_Page .Measure .Stat .Group .List .Entry { position: relative; line-height: 1.75em; } .NetworKit_Page .Measure .Stat .Group .List .Entry[data-tooltip]:before { position: absolute; left: 0; top: -40px; background-color: #808080; color: #ffffff; height: 30px; line-height: 30px; border-radius: 5px; padding: 0 15px; content: attr(data-tooltip); white-space: nowrap; display: none; } .NetworKit_Page .Measure .Stat .Group .List .Entry[data-tooltip]:after { position: absolute; left: 15px; top: -10px; border-top: 7px solid #808080; border-left: 7px solid transparent; border-right: 7px solid transparent; content: \"\"; display: none; } .NetworKit_Page .Measure .Stat .Group .List .Entry[data-tooltip]:hover:after, .NetworKit_Page .Measure .Stat .Group .List .Entry[data-tooltip]:hover:before { display: block; } .NetworKit_Page .Measure .Stat .Group .List .Entry .MathValue { font-family: \"Courier New\", Courier, monospace; } .NetworKit_Page .Measure:after { content: \".\"; visibility: hidden; display: block; height: 0; clear: both; } .NetworKit_Page .PartitionPie { clear: both; } .NetworKit_Page .PartitionPie img { width: 600px; } #NetworKit_Overlay { left: 0px; top: 0px; display: none; position: absolute; width: 100%; height: 100%; background-color: rgba(0,0,0,0.6); z-index: 1000; } #NetworKit_Overlay_Title { position: absolute; color: white; transform: rotate(-90deg); width: 32em; height: 32em; padding-right: 0.5em; padding-top: 0.5em; text-align: right; font-size: 40px; } #NetworKit_Overlay .button { background: white; cursor: pointer; } #NetworKit_Overlay .button:before { size: 13px; display: inline-block; text-align: center; margin-top: 0.5em; margin-bottom: 0.5em; width: 1.5em; height: 1.5em; } #NetworKit_Overlay .icon-close:before { content: \"X\"; } #NetworKit_Overlay .icon-previous:before { content: \"P\"; } #NetworKit_Overlay .icon-next:before { content: \"N\"; } #NetworKit_Overlay .icon-save:before { content: \"S\"; } #NetworKit_Overlay_Toolbar_Top, #NetworKit_Overlay_Toolbar_Bottom { position: absolute; width: 40px; right: 13px; text-align: right; z-index: 1100; } #NetworKit_Overlay_Toolbar_Top { top: 0.5em; } #NetworKit_Overlay_Toolbar_Bottom { Bottom: 0.5em; } #NetworKit_Overlay_ImageContainer { position: absolute; top: 5%; left: 5%; height: 90%; width: 90%; background-repeat: no-repeat; background-position: center center; background-size: contain; } #NetworKit_Overlay_Image { height: 100%; width: 100%; background-repeat: no-repeat; background-position: center center; background-size: contain; }';\n",
       "\t\t\t\telement.setAttribute('id', 'NetworKit_style');\n",
       "\t\t\t\tdocument.head.appendChild(element);\n",
       "\t\t\t}\n",
       "\t\t\n",
       "\t\t\t\t\n",
       "\t\t\t{\n",
       "\t\t\t\tvar element = document.getElementById('NetworKit_Overlay');\n",
       "\t\t\t\tif (element) {\n",
       "\t\t\t\t\telement.parentNode.removeChild(element);\n",
       "\t\t\t\t}\n",
       "\t\t\t\telement = document.createElement('div');\n",
       "\t\t\t\telement.innerHTML = '<div id=\"NetworKit_Overlay_Toolbar_Top\"><div class=\"button icon-close\" id=\"NetworKit_Overlay_Close\" /></div><div id=\"NetworKit_Overlay_Title\" /> <div id=\"NetworKit_Overlay_ImageContainer\"> <div id=\"NetworKit_Overlay_Image\" /> </div> <div id=\"NetworKit_Overlay_Toolbar_Bottom\"> <div class=\"button icon-previous\" onclick=\"NetworKit_overlayImageShift(-1)\" /> <div class=\"button icon-next\" onclick=\"NetworKit_overlayImageShift(1)\" /> <a id=\"NetworKit_Overlay_Toolbar_Bottom_Save\"><div class=\"button icon-save\" /></a> </div>';\n",
       "\t\t\t\telement.setAttribute('id', 'NetworKit_Overlay');\n",
       "\t\t\t\tdocument.body.appendChild(element);\n",
       "\t\t\t\tdocument.getElementById('NetworKit_Overlay_Close').onclick = function (e) {\n",
       "\t\t\t\t\tdocument.getElementById('NetworKit_Overlay').style.display = 'none';\n",
       "\t\t\t\t}\n",
       "\t\t\t}\n",
       "\t\t\n",
       "\t\t\t-->\n",
       "\t\t\t</script>\n",
       "\t\t"
      ]
     },
     "metadata": {},
     "output_type": "display_data"
    }
   ],
   "source": [
    "import sys\n",
    "sys.path.append('..')\n",
    "import quarantines as Q\n",
    "import quarantines_mongo as qm\n",
    "import graph_generators as gg \n",
    "import networkx as nx \n",
    "import networkit as nk\n",
    "import pymongo\n",
    "import pickle\n",
    "import numpy as np\n",
    "import matplotlib.pyplot as plt\n",
    "import seaborn as sns\n",
    "from prettytable import PrettyTable\n",
    "from tabulate import tabulate\n",
    "from scipy import stats\n",
    "import pprint\n",
    "sns.set()"
   ]
  },
  {
   "cell_type": "code",
   "execution_count": 2,
   "metadata": {},
   "outputs": [
    {
     "name": "stdout",
     "output_type": "stream",
     "text": [
      "\n"
     ]
    }
   ],
   "source": [
    "\"\"\"\n",
    "General notebook to read/play around with data and figure out which experiments to run\n",
    "Will do the following 4 things: \n",
    "1) V_graphs by name: V([names,...], [I,R]): plots V graphs normalized by graph size for graphs by name \n",
    "2) Graph_stats_reader : Read the Avg-degree, cluster-coefficient, scale parameter for these graphs \n",
    "3) Graph_stats_singleQ: read the (prop, value) for {maxI, finalR} by name and print \n",
    "4) Plot by ^ for these things \n",
    "\"\"\"\n",
    "print()"
   ]
  },
  {
   "cell_type": "code",
   "execution_count": 20,
   "metadata": {},
   "outputs": [],
   "source": [
    "# Part 0: Collect data by name and print all names...\n",
    "\n",
    "def gather_data():\n",
    "    data_file = open('../quarantine_by_props_1016A.pkl', 'rb')\n",
    "    data = pickle.load(data_file)\n",
    "    data_by_name = {}\n",
    "    for datum in data:\n",
    "        name = datum.get('name')\n",
    "        if name not in data_by_name:\n",
    "            data_by_name[name] = [] \n",
    "        data_by_name[name].append(datum)\n",
    "    return data_by_name\n",
    "\n",
    "def group_by_qprop(series):\n",
    "    gather = {} \n",
    "    for datum in series:\n",
    "        qprop = datum['quarantine_props']\n",
    "        if qprop not in gather:\n",
    "            gather[qprop] = [] \n",
    "        gather[qprop].append(datum)\n",
    "        \n",
    "    # and now modify to only collect final_R, max_I\n",
    "    output = {}\n",
    "    for qprop, datalist in gather.items():\n",
    "        final_rs = [_['final_R'] for _ in datalist]\n",
    "        max_is = [_['max_I'] for _ in datalist]\n",
    "        output[qprop] = {'final_R': final_rs, \n",
    "                         'max_I': max_is}\n",
    "    return output\n",
    "\n",
    "def gather_by_name(data, name, i_or_r):\n",
    "    # Gather triples of [(qprop, mean, std), ...]\n",
    "    assert i_or_r in ['I', 'R']\n",
    "    series = group_by_qprop(data[name])\n",
    "    output = []\n",
    "    def getter(doc):\n",
    "        if i_or_r == 'I':\n",
    "            return doc['max_I']\n",
    "        else:\n",
    "            return doc['final_R']\n",
    "        \n",
    "        \n",
    "    for k, v in series.items():\n",
    "        mean = np.mean(getter(v))\n",
    "        std = np.std(getter(v))\n",
    "        output.append((k, mean, std))\n",
    "        \n",
    "    return sorted(output, key=lambda trip: trip[0])\n",
    "    \n",
    "\n",
    "def size_lookup_by_name(name):\n",
    "    if name in SYNTHETICS:\n",
    "        return 10 ** 4 \n",
    "    elif name.startswith('fb.'):\n",
    "        return len(gg.load_gemsec_fb(name.split('.')[1]))\n",
    "    elif name.startswith('deezer.'):\n",
    "        return len(gg.load_gemsec_deezer(name.split('.')[1]))\n",
    "    elif name.startswith('arxiv.'):\n",
    "        return len(gg.load_arxiv_collab(name.split('.')[1]))\n",
    "    elif name.startswith('hiv') or name.startswith('hs'):\n",
    "        G = recreate_by_name(name)\n",
    "        return len(G)\n",
    "    \n",
    "    \n",
    "def recreate_by_name(name):\n",
    "    # Don't worry too much about actual random seed, just gather parameters\n",
    "    if name.startswith('ba'):\n",
    "        return gg.ba_graph(10 ** 4, int(name[2:]))\n",
    "    elif name.startswith('plc'):\n",
    "        m, p = name[3:].split('.')\n",
    "        return gg.plc_graph(10 **4, int(m), float(p) / 100)\n",
    "    elif name.startswith('rw'):\n",
    "        assert name == 'rw.91.94'\n",
    "        return gg.random_walk_graph(10 ** 4, 0.91, 0.94)\n",
    "    elif name.startswith('nn'):\n",
    "        assert name == 'nn.886'\n",
    "        return gg.nearestNeighbor_mod(10 **4, 0.88,6)\n",
    "    elif name.startswith('ws'):\n",
    "        assert name == 'ws10.05'\n",
    "        return gg.watts_strogatz_graph(10 ** 4, 10, 0.05)\n",
    "    elif name.startswith('fb.'):\n",
    "        return gg.load_gemsec_fb(name.split('.')[1])\n",
    "    elif name.startswith('deezer.'):\n",
    "        return gg.load_gemsec_deezer(name.split('.')[1])\n",
    "    elif name.startswith('arxiv.'):\n",
    "        return gg.load_arxiv_collab(name.split('.')[1])\n",
    "    elif name.startswith('hs'):\n",
    "        params = name[2:].split('_')\n",
    "        return gg.load_highschool(float(params[0]), int(params[1]))\n",
    "    elif name.startswith('hiv'):\n",
    "        param = int(name[3:].split('R')[0])\n",
    "        return gg.load_hiv(param)\n",
    "    else:\n",
    "        raise Exception(\"wut\")\n",
    "    return\n",
    "    \n",
    "    \n",
    "def parse_data_name(name):\n",
    "    prefixes = ['ba', 'plc', 'nn', 'rw', 'ws' ]\n",
    "    match = None\n",
    "    for prefix in prefixes:\n",
    "        if name.startswith(prefix):\n",
    "            match = prefix \n",
    "    if match is None or len(name.split('_')) == 1:\n",
    "        return recreate_by_name(name)\n",
    "    params = name.split('_')\n",
    "    R = params[-1]\n",
    "    if name.startswith('ba'):\n",
    "        return gg.ba_graph(10 ** 4, int(params[1]))\n",
    "    elif name.startswith('plc'):\n",
    "        return gg.plc_graph(10 **4, int(params[1]), float(params[2]))\n",
    "    elif name.startswith('rw'):\n",
    "        return gg.random_walk_graph(10 ** 4, float(params[1]), float(params[2]))\n",
    "    elif name.startswith('nn'):\n",
    "        return gg.nearestNeighbor_mod(10 **4, float(params[1]),int(params[2]))\n",
    "    elif name.startswith('ws'):\n",
    "        return gg.watts_strogatz_graph(10 ** 4, int(params[1]), float(params[2]))\n",
    "\n",
    "    \n",
    "def get_r_by_name(name):\n",
    "    prefixes = ['ba', 'plc', 'nn', 'rw', 'ws' ]\n",
    "    match = None\n",
    "    for prefix in prefixes:\n",
    "        if name.startswith(prefix):\n",
    "            match = prefix \n",
    "    if match is None or len(name.split('_')) == 1:\n",
    "        return 1\n",
    "    params = name.split('_')\n",
    "    return float(params[-1])\n",
    "\n",
    "\n",
    "\n",
    "def get_minR_graph(data, name):\n",
    "    # Gathers the graph (after minR optimal quarantine) \n",
    "    # 1) Get minR prop:\n",
    "    minprop = min(gather_by_name(data, name, 'R'), key=lambda trip: trip[1])[0]\n",
    "    \n",
    "    \n",
    "    # 2) Recreate graph and rerun \n",
    "    R = get_r_by_name(name)\n",
    "    G = parse_data_name(name)\n",
    "    outG = Q.run_until_prop_IR(G, R, 1, 10 / len(G), float('inf'), minprop)[0]\n",
    "    return outG\n"
   ]
  },
  {
   "cell_type": "code",
   "execution_count": 19,
   "metadata": {},
   "outputs": [
    {
     "data": {
      "text/plain": [
       "0.38"
      ]
     },
     "execution_count": 19,
     "metadata": {},
     "output_type": "execute_result"
    }
   ],
   "source": [
    "min(gather_by_name(data, 'ba_10_0.', 'R'), key=lambda trip: trip[1])[0]"
   ]
  },
  {
   "cell_type": "code",
   "execution_count": 4,
   "metadata": {},
   "outputs": [],
   "source": [
    "data = gather_data()\n",
    "SYNTHETICS = ['ba10', 'ba5', 'plc10.25', 'plc5.5', 'rw.91.94', 'nn.886', 'ws10.05',]\n",
    "EPIS = [_ for _ in data if (_.startswith('hs') or _.startswith('hiv'))]\n",
    "REALS = [_ for _ in data if _ not in SYNTHETICS]\n",
    "#size_lookup = {k: size_lookup_by_name(k) for k in data}"
   ]
  },
  {
   "cell_type": "code",
   "execution_count": 6,
   "metadata": {},
   "outputs": [
    {
     "data": {
      "text/plain": [
       "['arxiv.AstroPh',\n",
       " 'arxiv.CondMat',\n",
       " 'arxiv.GrQc',\n",
       " 'arxiv.HepPh',\n",
       " 'arxiv.HepTh',\n",
       " 'ba10',\n",
       " 'ba5',\n",
       " 'ba_10_0.03125',\n",
       " 'ba_10_0.0625',\n",
       " 'ba_10_0.125',\n",
       " 'ba_10_0.25',\n",
       " 'ba_10_0.5',\n",
       " 'ba_10_1',\n",
       " 'ba_10_2',\n",
       " 'ba_10_4',\n",
       " 'ba_10_8',\n",
       " 'ba_5_0.03125',\n",
       " 'ba_5_0.0625',\n",
       " 'ba_5_0.125',\n",
       " 'ba_5_0.25',\n",
       " 'ba_5_0.5',\n",
       " 'ba_5_1',\n",
       " 'ba_5_2',\n",
       " 'ba_5_4',\n",
       " 'ba_5_8',\n",
       " 'deezer.HR',\n",
       " 'deezer.HU',\n",
       " 'deezer.RO',\n",
       " 'fb.artist',\n",
       " 'fb.athletes',\n",
       " 'fb.company',\n",
       " 'fb.government',\n",
       " 'fb.new_sites',\n",
       " 'hiv50R1',\n",
       " 'hiv50R3',\n",
       " 'hiv50R5',\n",
       " 'hs15_10',\n",
       " 'hs30_10',\n",
       " 'hs5_10',\n",
       " 'hs60_10',\n",
       " 'nn.886',\n",
       " 'nn_0.88_6_0.03125',\n",
       " 'nn_0.88_6_0.0625',\n",
       " 'nn_0.88_6_0.125',\n",
       " 'nn_0.88_6_0.25',\n",
       " 'nn_0.88_6_0.5',\n",
       " 'nn_0.88_6_1',\n",
       " 'nn_0.88_6_2',\n",
       " 'nn_0.88_6_4',\n",
       " 'nn_0.88_6_8',\n",
       " 'plc10.25',\n",
       " 'plc5.5',\n",
       " 'plc_10_0.25_0.03125',\n",
       " 'plc_10_0.25_0.0625',\n",
       " 'plc_10_0.25_0.125',\n",
       " 'plc_10_0.25_0.25',\n",
       " 'plc_10_0.25_0.5',\n",
       " 'plc_10_0.25_1',\n",
       " 'plc_10_0.25_2',\n",
       " 'plc_10_0.25_4',\n",
       " 'plc_10_0.25_8',\n",
       " 'plc_5_0.5_0.03125',\n",
       " 'plc_5_0.5_0.0625',\n",
       " 'plc_5_0.5_0.125',\n",
       " 'plc_5_0.5_0.25',\n",
       " 'plc_5_0.5_0.5',\n",
       " 'plc_5_0.5_1',\n",
       " 'plc_5_0.5_2',\n",
       " 'plc_5_0.5_4',\n",
       " 'plc_5_0.5_8',\n",
       " 'rw.91.94',\n",
       " 'rw_0.91_0.94_0.03125',\n",
       " 'rw_0.91_0.94_0.0625',\n",
       " 'rw_0.91_0.94_0.125',\n",
       " 'rw_0.91_0.94_0.25',\n",
       " 'rw_0.91_0.94_0.5',\n",
       " 'rw_0.91_0.94_1',\n",
       " 'rw_0.91_0.94_2',\n",
       " 'rw_0.91_0.94_4',\n",
       " 'rw_0.91_0.94_8',\n",
       " 'ws10.05',\n",
       " 'ws_10_0.05_0.03125',\n",
       " 'ws_10_0.05_0.0625',\n",
       " 'ws_10_0.05_0.125',\n",
       " 'ws_10_0.05_0.25',\n",
       " 'ws_10_0.05_0.5',\n",
       " 'ws_10_0.05_1',\n",
       " 'ws_10_0.05_2',\n",
       " 'ws_10_0.05_4',\n",
       " 'ws_10_0.05_8']"
      ]
     },
     "execution_count": 6,
     "metadata": {},
     "output_type": "execute_result"
    }
   ],
   "source": [
    "sorted(data.keys())"
   ]
  },
  {
   "cell_type": "code",
   "execution_count": null,
   "metadata": {},
   "outputs": [],
   "source": [
    "for el in sorted(data.keys()):\n",
    "    print(el)"
   ]
  },
  {
   "cell_type": "code",
   "execution_count": null,
   "metadata": {},
   "outputs": [],
   "source": [
    "plcs_rs = '''plc_10_0.25_0.03125\n",
    "plc_10_0.25_0.0625\n",
    "plc_10_0.25_0.125\n",
    "plc_10_0.25_0.25\n",
    "plc_10_0.25_0.5\n",
    "plc_10_0.25_1\n",
    "plc_10_0.25_2\n",
    "plc_10_0.25_4\n",
    "plc_10_0.25_8'''.split('\\n')"
   ]
  },
  {
   "cell_type": "code",
   "execution_count": null,
   "metadata": {},
   "outputs": [],
   "source": [
    "plc2='''plc_5_0.5_0.03125\n",
    "plc_5_0.5_0.0625\n",
    "plc_5_0.5_0.125\n",
    "plc_5_0.5_0.25\n",
    "plc_5_0.5_0.5\n",
    "plc_5_0.5_1\n",
    "plc_5_0.5_2\n",
    "plc_5_0.5_4\n",
    "plc_5_0.5_8'''.split('\\n')"
   ]
  },
  {
   "cell_type": "code",
   "execution_count": null,
   "metadata": {},
   "outputs": [],
   "source": [
    "REALS"
   ]
  },
  {
   "cell_type": "code",
   "execution_count": null,
   "metadata": {},
   "outputs": [],
   "source": []
  },
  {
   "cell_type": "code",
   "execution_count": null,
   "metadata": {},
   "outputs": [],
   "source": [
    "\n",
    "def degree_hist(G):\n",
    "    pairs = {}\n",
    "    for _, d in G.degree():\n",
    "        pairs[d] = pairs.get(d, 0) + 1\n",
    "    return pairs\n",
    "\n",
    "\n",
    "def get_powerlaw_exponent_cbin(G):\n",
    "    # Returns best-fit powerlaw exponent by using cumulative binning \n",
    "    items = sorted(degree_hist(G).items(), key=lambda p:-p[0])\n",
    "    cdf = []\n",
    "    runsum = 0\n",
    "    for deg, num in items:\n",
    "        runsum += num \n",
    "        cdf.append((deg, runsum))\n",
    "    xform = [(np.log(_[0]), np.log(_[1] / len(G))) for _ in cdf]\n",
    "    #plt.scatter(*zip(*xform))\n",
    "    slope, intercept, r_value, p_value, std_err = stats.linregress(*zip(*xform))\n",
    "    return 1 -slope\n",
    "\n",
    "        \n",
    "def collect_graph_data_by_name(name, data=data):\n",
    "    # Returns graph [name, nodes, average degree, cluster coefficient, powerlaw exponent, best_iTup, bestrTup] \n",
    "    G = recreate_by_name(name)\n",
    "    nodes = len(G)\n",
    "    avg_deg = sum(dict(G.degree()).values()) / len(G)\n",
    "    cc = nx.average_clustering(G)\n",
    "    powerlaw = get_powerlaw_exponent_cbin(G)\n",
    "    no_q = gather_by_name(data, name, 'R')[0][1] /len(G)\n",
    "    best_i = min(gather_by_name(data, name, 'I'), key=lambda tri: tri[1])\n",
    "    best_i_prop = best_i[0]\n",
    "    best_i_val = best_i[1] / nodes\n",
    "    best_r = min(gather_by_name(data, name, 'R'), key=lambda tri: tri[1])\n",
    "    best_r_prop = best_r[0]\n",
    "    best_r_val = best_r[1] / nodes\n",
    "    return [name, nodes, avg_deg, cc, powerlaw, no_q, best_r_prop, best_r_val]\n",
    "\n",
    "\n",
    "def tabulate_by_name(names):\n",
    "    headers=['name', 'nodes', 'avg_deg', 'cc', 'powerlaw', 'no_Q', 'best_r_prop', 'best_r_val']\n",
    "    graph_data = [collect_graph_data_by_name(_) for _ in names]\n",
    "    print(tabulate(graph_data, headers=headers, floatfmt='.2f'))\n",
    "    return graph_data"
   ]
  },
  {
   "cell_type": "code",
   "execution_count": null,
   "metadata": {},
   "outputs": [],
   "source": [
    "synth_rows = tabulate_by_name(SYNTHETICS)"
   ]
  },
  {
   "cell_type": "code",
   "execution_count": 27,
   "metadata": {},
   "outputs": [],
   "source": [
    "#fig, ax = plt.subplots(figsize=(10,10)) #<---- general axis maker\n",
    "def plot_vs(data, names, irs, ax=None):\n",
    "    if ax is None:\n",
    "        fig, ax = plt.subplots(figsize=(10,10))\n",
    "    if not isinstance(names, list):\n",
    "        names = [names]\n",
    "    def plot_single_v(name, ir, ax=ax):\n",
    "        try:\n",
    "            size = size_lookup[name]\n",
    "        except:\n",
    "            size = 1e4\n",
    "        i_trips = gather_by_name(data, name, 'I')\n",
    "        r_trips = gather_by_name(data, name, 'R')\n",
    "        qprops = [_[0] for _ in i_trips]\n",
    "        Is = [_[1] / size for _ in i_trips]\n",
    "        qprops_r = [_[0] for _ in r_trips]\n",
    "        Rs = [_[1] / size for _ in r_trips]\n",
    "        if 'I' in ir:\n",
    "            ax.plot(qprops, Is, label=name)\n",
    "        if 'R' in ir:\n",
    "            ax.plot(qprops, Rs, label=name)\n",
    "    \n",
    "    \n",
    "    for name in names:\n",
    "        plot_single_v(name, irs, ax=ax)\n",
    "    ax.legend()"
   ]
  },
  {
   "cell_type": "code",
   "execution_count": null,
   "metadata": {},
   "outputs": [],
   "source": [
    "#fig, ax = plt.subplots(figsize=(10,10)) #<---- general axis maker\n",
    "def plot_vs(data, names, irs, ax=None):\n",
    "    if ax is None:\n",
    "        fig, ax = plt.subplots(figsize=(10,10))\n",
    "    if not isinstance(names, list):\n",
    "        names = [names]\n",
    "    def plot_single_v(name, ir, ax=ax):\n",
    "        size = 10 **4 # size_lookup[name]\n",
    "        i_trips = gather_by_name(data, name, 'I')\n",
    "        r_trips = gather_by_name(data, name, 'R')\n",
    "        qprops = [_[0] for _ in i_trips]\n",
    "        Is = [_[1] / size for _ in i_trips]\n",
    "        qprops_r = [_[0] for _ in r_trips]\n",
    "        Rs = [_[1] / size for _ in r_trips]\n",
    "        if 'I' in ir:\n",
    "            ax.plot(qprops, Is, label=name)\n",
    "        if 'R' in ir:\n",
    "            ax.plot(qprops, Rs, label=name)\n",
    "    \n",
    "    \n",
    "    for name in names:\n",
    "        plot_single_v(name, irs, ax=ax)\n",
    "    ax.legend()\n",
    "    return ax"
   ]
  },
  {
   "cell_type": "code",
   "execution_count": null,
   "metadata": {},
   "outputs": [],
   "source": [
    "ax = plot_vs(data, plcs_rs, 'R')\n",
    "ax.plot([0.0, 1.0], [0.0, 1.0], linestyle='dashed', alpha=0.8, c='grey', label='Pop. Average')\n"
   ]
  },
  {
   "cell_type": "code",
   "execution_count": null,
   "metadata": {},
   "outputs": [],
   "source": [
    "ax = plot_vs(data, plc2, 'R')\n",
    "ax.plot([0.0, 1.0], [0.0, 1.0], linestyle='dashed', alpha=0.8, c='grey', label='Pop. Average')\n"
   ]
  },
  {
   "cell_type": "code",
   "execution_count": null,
   "metadata": {},
   "outputs": [],
   "source": [
    "nns = '''nn_0.88_6_0.03125\n",
    "nn_0.88_6_0.0625\n",
    "nn_0.88_6_0.125\n",
    "nn_0.88_6_0.25\n",
    "nn_0.88_6_0.5\n",
    "nn_0.88_6_1\n",
    "nn_0.88_6_2\n",
    "nn_0.88_6_4\n",
    "nn_0.88_6_8'''.split('\\n')"
   ]
  },
  {
   "cell_type": "code",
   "execution_count": null,
   "metadata": {},
   "outputs": [],
   "source": [
    "ax = plot_vs(data, nns, 'R')\n",
    "ax.plot([0.0, 1.0], [0.0, 1.0], linestyle='dashed', alpha=0.8, c='grey', label='Pop. Average')\n"
   ]
  },
  {
   "cell_type": "code",
   "execution_count": null,
   "metadata": {},
   "outputs": [],
   "source": []
  },
  {
   "cell_type": "code",
   "execution_count": null,
   "metadata": {},
   "outputs": [],
   "source": [
    "plot_vs(data, [_ for _ in EPIS if _.startswith('hs')], 'R')\n",
    "print([_ for _ in EPIS if _.startswith('hs')])"
   ]
  },
  {
   "cell_type": "code",
   "execution_count": null,
   "metadata": {},
   "outputs": [],
   "source": [
    "tabulate_by_name(['ba10', 'ba5'])"
   ]
  },
  {
   "cell_type": "code",
   "execution_count": null,
   "metadata": {},
   "outputs": [],
   "source": [
    "synth_data = [collect_graph_data_by_name(_) for _ in SYNTHETICS]\n",
    "print(tabulate(synth_data, headers=['name', 'nodes', 'avg_deg', 'cc', 'powerlaw', 'best_i', 'best_r']))"
   ]
  },
  {
   "cell_type": "code",
   "execution_count": null,
   "metadata": {},
   "outputs": [],
   "source": [
    "real_data = [collect_graph_data_by_name(_) for _ in REALS]\n",
    "print(tabulate(real_data, headers=['name', 'nodes', 'avg_deg', 'cc', 'powerlaw', 'best_i', 'best_r'], \n",
    "               floatfmt=\".2f\"))"
   ]
  },
  {
   "cell_type": "code",
   "execution_count": null,
   "metadata": {},
   "outputs": [],
   "source": []
  },
  {
   "cell_type": "code",
   "execution_count": null,
   "metadata": {},
   "outputs": [],
   "source": []
  },
  {
   "cell_type": "code",
   "execution_count": null,
   "metadata": {},
   "outputs": [],
   "source": []
  },
  {
   "cell_type": "code",
   "execution_count": null,
   "metadata": {},
   "outputs": [],
   "source": [
    "hiv_vanilla = gg.load_hiv()\n",
    "print(len(hiv_vanilla))"
   ]
  },
  {
   "cell_type": "code",
   "execution_count": null,
   "metadata": {},
   "outputs": [],
   "source": [
    "qprops = [_ / 100 for _ in range(100)]\n",
    "hiv_data = {}\n",
    "for qprop in qprops:\n",
    "    print(qprop)\n",
    "    hiv_data[qprop] = Q.quarantine_by_prop(hiv_vanilla, 0.1, 0.1, 5 / len(hiv_vanilla), [qprop], float('inf'), num_iter=100)"
   ]
  },
  {
   "cell_type": "code",
   "execution_count": null,
   "metadata": {},
   "outputs": [],
   "source": [
    "def get_vs_now(data_dict, irs):\n",
    "    "
   ]
  },
  {
   "cell_type": "code",
   "execution_count": null,
   "metadata": {},
   "outputs": [],
   "source": [
    "hs_dict = {_: gg.load_highschool(_, scale=1) for _ in [0, 5, 15, 30, 60]}"
   ]
  },
  {
   "cell_type": "code",
   "execution_count": null,
   "metadata": {},
   "outputs": [],
   "source": [
    "plt.hist(dict(hs_dict[15].degree()).values(), bins=25)"
   ]
  },
  {
   "cell_type": "code",
   "execution_count": null,
   "metadata": {},
   "outputs": [],
   "source": [
    "print(SYNTHETICS)"
   ]
  },
  {
   "cell_type": "code",
   "execution_count": null,
   "metadata": {},
   "outputs": [],
   "source": [
    "tabulate_by_name(['ba10', 'ba5'])"
   ]
  },
  {
   "cell_type": "code",
   "execution_count": null,
   "metadata": {},
   "outputs": [],
   "source": [
    "tabulate_by_name(SYNTHETICS)"
   ]
  },
  {
   "cell_type": "code",
   "execution_count": null,
   "metadata": {},
   "outputs": [],
   "source": [
    "tabulate_by_name(REALS)"
   ]
  },
  {
   "cell_type": "code",
   "execution_count": null,
   "metadata": {},
   "outputs": [],
   "source": [
    "real_str = '''name             nodes    avg_deg    cc    powerlaw    best_i_prop    best_i_val    best_r_prop    best_r_val\n",
    "-------------  -------  ---------  ----  ----------  -------------  ------------  -------------  ------------\n",
    "fb.artist        50517      32.44  0.14        2.64           0.28          0.28           0.59          0.61\n",
    "fb.athletes      13868      12.53  0.28        2.85           0.24          0.23           0.48          0.52\n",
    "fb.company       14115       7.41  0.24        2.97           0.17          0.16           0.36          0.40\n",
    "fb.new_sites     27919      14.78  0.30        2.85           0.25          0.24           0.55          0.57\n",
    "fb.government     7059      25.35  0.41        2.58           0.29          0.28           0.65          0.68\n",
    "deezer.RO        41775       6.02  0.09        3.70           0.20          0.17           0.47          0.49\n",
    "deezer.HR        54575      18.26  0.14        3.39           0.31          0.30           0.66          0.71\n",
    "deezer.HU        47540       9.38  0.12        3.79           0.27          0.25           0.61          0.64\n",
    "arxiv.AstroPh    18772      21.11  0.63        2.83           0.25          0.24           0.48          0.53\n",
    "arxiv.CondMat    23133       8.08  0.63        3.11           0.18          0.17           0.37          0.40\n",
    "arxiv.HepPh      12008      19.74  0.61        2.31           0.20          0.19           0.42          0.44\n",
    "arxiv.GrQc        5242       5.53  0.53        2.88           0.12          0.10           0.22          0.28\n",
    "arxiv.HepTh       9877       5.26  0.47        3.28           0.14          0.12           0.31          0.32\n",
    "hiv50R1          10327       2.29  0.06        2.68           0.02          0.01           0.02          0.03\n",
    "hiv50R3          10172       2.28  0.07        2.67           0.11          0.08           0.18          0.25\n",
    "hiv50R5          10489       2.26  0.07        2.67           0.15          0.13           0.28          0.34\n",
    "hs5_10            7850      61.69  0.12        2.09           0.43          0.43           0.88          0.89\n",
    "hs15_10           7590      38.85  0.11        2.31           0.42          0.41           0.86          0.87\n",
    "hs30_10           7320      21.65  0.08        2.52           0.39          0.37           0.79          0.81\n",
    "hs60_10           6408       5.59  0.04        3.02           0.25          0.19           0.55          0.60'''"
   ]
  },
  {
   "cell_type": "code",
   "execution_count": null,
   "metadata": {},
   "outputs": [],
   "source": [
    "buffer = '-' * 109\n",
    "split_str = real_str.split('\\n')\n",
    "sort_str = split_str[:2] \n",
    "sortkey = lambda line: float(line.split(' ')[-1])\n",
    "sort_str = sort_str + sorted(split_str[2:], key=sortkey)\n",
    "\n",
    "# first sort by best r \n",
    "\n",
    "# then add '-' buffers \n",
    "output_str = [] \n",
    "for line in sort_str:\n",
    "    output_str.append(line)\n",
    "    #output_str.append(buffer)\n",
    "print('\\n'.join(output_str))"
   ]
  },
  {
   "cell_type": "code",
   "execution_count": null,
   "metadata": {},
   "outputs": [],
   "source": [
    "sort_str"
   ]
  },
  {
   "cell_type": "code",
   "execution_count": null,
   "metadata": {},
   "outputs": [],
   "source": [
    "G = gg.ba_graph(10 ** 4, 10)\n",
    "Q.plot_vanilla_run(G, 0.125 / 2, 1, 10 / len(G), float('inf'), num_iter=3)"
   ]
  },
  {
   "cell_type": "code",
   "execution_count": 24,
   "metadata": {},
   "outputs": [],
   "source": [
    "plcs = [_ for _ in sorted(data.keys()) if _.startswith('plc_5_0.5')]"
   ]
  },
  {
   "cell_type": "code",
   "execution_count": 42,
   "metadata": {},
   "outputs": [
    {
     "data": {
      "image/png": "[encoded data removed]",
      "text/plain": [
       "<Figure size 720x720 with 1 Axes>"
      ]
     },
     "metadata": {},
     "output_type": "display_data"
    }
   ],
   "source": [
    "\n",
    "plot_vs(data, plcs, 'R')"
   ]
  },
  {
   "cell_type": "code",
   "execution_count": null,
   "metadata": {},
   "outputs": [],
   "source": []
  }
 ],
 "metadata": {
  "kernelspec": {
   "display_name": "py3",
   "language": "python",
   "name": "py3"
  },
  "language_info": {
   "codemirror_mode": {
    "name": "ipython",
    "version": 3
   },
   "file_extension": ".py",
   "mimetype": "text/x-python",
   "name": "python",
   "nbconvert_exporter": "python",
   "pygments_lexer": "ipython3",
   "version": "3.6.9"
  }
 },
 "nbformat": 4,
 "nbformat_minor": 4
}
