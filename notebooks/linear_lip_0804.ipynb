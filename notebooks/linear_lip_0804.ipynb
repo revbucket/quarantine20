{
 "cells": [
  {
   "cell_type": "code",
   "execution_count": 21,
   "metadata": {},
   "outputs": [],
   "source": [
    "\n",
    "import torch\n",
    "from torch.distributions.multivariate_normal import MultivariateNormal\n",
    "import torch.nn as nn \n",
    "import torch.nn.functional as F \n",
    "import torch.optim as optim\n",
    "import matplotlib.pyplot as plt"
   ]
  },
  {
   "cell_type": "code",
   "execution_count": 10,
   "metadata": {},
   "outputs": [],
   "source": [
    "\"\"\"\n",
    "Idea: Want a clean theoretical example where overtraining can increase lipschitz constants. \n",
    "      Let's consider linear classifiers trying to minimize squared loss/XE loss over a simple gaussian dataset:\n",
    "      0-labels drawn from N(-1, std_0), 1-labels drawn from N(+1, std_1)\n",
    "\"\"\"\n",
    "\n",
    "\n",
    "\n",
    "d0 = MultivariateNormal(-2 * torch.ones(3), torch.eye(3))    \n",
    "d1 = MultivariateNormal(2 * torch.ones(3), torch.eye(3))    "
   ]
  },
  {
   "cell_type": "code",
   "execution_count": 11,
   "metadata": {},
   "outputs": [],
   "source": [
    "# Build datasets \n",
    "def train_data(num_mbs=16, mb_size=128):\n",
    "    mbs = [] \n",
    "    sub_mb = mb_size // 2\n",
    "    for mb in range(num_mbs):\n",
    "        data_0 = d0.sample((sub_mb,))\n",
    "        data_1 = d1.sample((sub_mb,))\n",
    "        mb_data = torch.cat([data_0, data_1])\n",
    "        mb_labels = torch.cat([torch.zeros(sub_mb), torch.ones(sub_mb)]).long()\n",
    "        mbs.append((mb_data, mb_labels))\n",
    "    return mbs\n",
    "\n",
    "\n",
    "def onehotify(labels):\n",
    "    y = torch.FloatTensor(labels.numel(), 2)\n",
    "    y.zero_()\n",
    "    y.scatter_(1, labels.view(-1, 1), 1)\n",
    "    return y"
   ]
  },
  {
   "cell_type": "code",
   "execution_count": 4,
   "metadata": {},
   "outputs": [],
   "source": [
    "mbs = train_data()"
   ]
  },
  {
   "cell_type": "code",
   "execution_count": 14,
   "metadata": {},
   "outputs": [],
   "source": [
    "def train_linear_MSE(num_epochs, silent=True):\n",
    "    model = nn.Linear(3, 2)\n",
    "    \n",
    "    loss = nn.MSELoss()\n",
    "    all_data = train_data()\n",
    "    optimizer = optim.Adam(model.parameters())\n",
    "    for epoch in range(num_epochs):\n",
    "        optimizer.zero_grad()\n",
    "        for (data, labels) in all_data:\n",
    "            loss_val = loss(model(data), onehotify(labels))\n",
    "            loss_val.backward()\n",
    "            optimizer.step()\n",
    "        if not silent:\n",
    "            print(loss_val)\n",
    "    return model\n",
    "            "
   ]
  },
  {
   "cell_type": "code",
   "execution_count": 15,
   "metadata": {},
   "outputs": [],
   "source": [
    "lip_points = [] \n",
    "for i in range(0, 1001, 50):\n",
    "    lip_points.append((i, train_linear_MSE(i)))"
   ]
  },
  {
   "cell_type": "code",
   "execution_count": 19,
   "metadata": {},
   "outputs": [],
   "source": [
    "def one_norm(lin):\n",
    "    return (lin.weight.T @ torch.tensor([1.0, -1.0])).abs().sum().item()"
   ]
  },
  {
   "cell_type": "code",
   "execution_count": 22,
   "metadata": {
    "scrolled": true
   },
   "outputs": [
    {
     "data": {
      "text/plain": [
       "[<matplotlib.lines.Line2D at 0x7f0f29a3bf60>]"
      ]
     },
     "execution_count": 22,
     "metadata": {},
     "output_type": "execute_result"
    },
    {
     "data": {
      "image/png": "[encoded data removed]",
      "text/plain": [
       "<Figure size 432x288 with 1 Axes>"
      ]
     },
     "metadata": {
      "needs_background": "light"
     },
     "output_type": "display_data"
    }
   ],
   "source": [
    "def one_norm(lin):\n",
    "    return (lin.weight.T @ torch.tensor([1.0, -1.0])).abs().sum().item()\n",
    "xs = [_[0] for _ in lip_points]\n",
    "ys = [one_norm(_[1]) for _ in lip_points]\n",
    "plt.plot(xs, ys)"
   ]
  },
  {
   "cell_type": "code",
   "execution_count": null,
   "metadata": {},
   "outputs": [],
   "source": []
  },
  {
   "cell_type": "code",
   "execution_count": null,
   "metadata": {},
   "outputs": [],
   "source": [
    "labels = mb[1].view(-1, 1)\n",
    "y = torch.FloatTensor(labels.numel(), 2)\n",
    "y.zero_()\n",
    "y.scatter_(1, labels, 1)"
   ]
  },
  {
   "cell_type": "code",
   "execution_count": null,
   "metadata": {},
   "outputs": [],
   "source": []
  }
 ],
 "metadata": {
  "kernelspec": {
   "display_name": "Python 3",
   "language": "python",
   "name": "python3"
  },
  "language_info": {
   "codemirror_mode": {
    "name": "ipython",
    "version": 3
   },
   "file_extension": ".py",
   "mimetype": "text/x-python",
   "name": "python",
   "nbconvert_exporter": "python",
   "pygments_lexer": "ipython3",
   "version": "3.6.9"
  }
 },
 "nbformat": 4,
 "nbformat_minor": 4
}
