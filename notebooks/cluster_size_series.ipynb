{
 "cells": [
  {
   "cell_type": "code",
   "execution_count": 2,
   "metadata": {},
   "outputs": [
    {
     "data": {
      "text/html": [
       "\n",
       "\t\t\t<script type=\"text/javascript\">\n",
       "\t\t\t<!--\n",
       "\t\t\t\t\n",
       "\t\t\t{\n",
       "\t\t\t\tvar element = document.getElementById('NetworKit_script');\n",
       "\t\t\t\tif (element) {\n",
       "\t\t\t\t\telement.parentNode.removeChild(element);\n",
       "\t\t\t\t}\n",
       "\t\t\t\telement = document.createElement('script');\n",
       "\t\t\t\telement.type = 'text/javascript';\n",
       "\t\t\t\telement.innerHTML = 'function NetworKit_pageEmbed(id) { var i, j; var elements; elements = document.getElementById(id).getElementsByClassName(\"Plot\"); for (i=0; i<elements.length; i++) { elements[i].id = id + \"_Plot_\" + i; var data = elements[i].getAttribute(\"data-image\").split(\"|\"); elements[i].removeAttribute(\"data-image\"); var content = \"<div class=\\\\\"Image\\\\\" id=\\\\\"\" + elements[i].id + \"_Image\\\\\" />\"; elements[i].innerHTML = content; elements[i].setAttribute(\"data-image-index\", 0); elements[i].setAttribute(\"data-image-length\", data.length); for (j=0; j<data.length; j++) { elements[i].setAttribute(\"data-image-\" + j, data[j]); } NetworKit_plotUpdate(elements[i]); elements[i].onclick = function (e) { NetworKit_overlayShow((e.target) ? e.target : e.srcElement); } } elements = document.getElementById(id).getElementsByClassName(\"HeatCell\"); for (i=0; i<elements.length; i++) { var data = parseFloat(elements[i].getAttribute(\"data-heat\")); var color = \"#00FF00\"; if (data <= 1 && data > 0) { color = \"hsla(0, 100%, 75%, \" + (data) + \")\"; } else if (data <= 0 && data >= -1) { color = \"hsla(240, 100%, 75%, \" + (-data) + \")\"; } elements[i].style.backgroundColor = color; } elements = document.getElementById(id).getElementsByClassName(\"Details\"); for (i=0; i<elements.length; i++) { elements[i].setAttribute(\"data-title\", \"-\"); NetworKit_toggleDetails(elements[i]); elements[i].onclick = function (e) { NetworKit_toggleDetails((e.target) ? e.target : e.srcElement); } } elements = document.getElementById(id).getElementsByClassName(\"MathValue\"); for (i=elements.length-1; i>=0; i--) { value = elements[i].innerHTML.trim(); if (value === \"nan\") { elements[i].parentNode.innerHTML = \"\" } } elements = document.getElementById(id).getElementsByClassName(\"SubCategory\"); for (i=elements.length-1; i>=0; i--) { value = elements[i].innerHTML.trim(); if (value === \"\") { elements[i].parentNode.removeChild(elements[i]) } } elements = document.getElementById(id).getElementsByClassName(\"Category\"); for (i=elements.length-1; i>=0; i--) { value = elements[i].innerHTML.trim(); if (value === \"\") { elements[i].parentNode.removeChild(elements[i]) } } var isFirefox = false; try { isFirefox = typeof InstallTrigger !== \"undefined\"; } catch (e) {} if (!isFirefox) { alert(\"Currently the function\\'s output is only fully supported by Firefox.\"); } } function NetworKit_plotUpdate(source) { var index = source.getAttribute(\"data-image-index\"); var data = source.getAttribute(\"data-image-\" + index); var image = document.getElementById(source.id + \"_Image\"); image.style.backgroundImage = \"url(\" + data + \")\"; } function NetworKit_showElement(id, show) { var element = document.getElementById(id); element.style.display = (show) ? \"block\" : \"none\"; } function NetworKit_overlayShow(source) { NetworKit_overlayUpdate(source); NetworKit_showElement(\"NetworKit_Overlay\", true); } function NetworKit_overlayUpdate(source) { document.getElementById(\"NetworKit_Overlay_Title\").innerHTML = source.title; var index = source.getAttribute(\"data-image-index\"); var data = source.getAttribute(\"data-image-\" + index); var image = document.getElementById(\"NetworKit_Overlay_Image\"); image.setAttribute(\"data-id\", source.id); image.style.backgroundImage = \"url(\" + data + \")\"; var link = document.getElementById(\"NetworKit_Overlay_Toolbar_Bottom_Save\"); link.href = data; link.download = source.title + \".svg\"; } function NetworKit_overlayImageShift(delta) { var image = document.getElementById(\"NetworKit_Overlay_Image\"); var source = document.getElementById(image.getAttribute(\"data-id\")); var index = parseInt(source.getAttribute(\"data-image-index\")); var length = parseInt(source.getAttribute(\"data-image-length\")); var index = (index+delta) % length; if (index < 0) { index = length + index; } source.setAttribute(\"data-image-index\", index); NetworKit_overlayUpdate(source); } function NetworKit_toggleDetails(source) { var childs = source.children; var show = false; if (source.getAttribute(\"data-title\") == \"-\") { source.setAttribute(\"data-title\", \"+\"); show = false; } else { source.setAttribute(\"data-title\", \"-\"); show = true; } for (i=0; i<childs.length; i++) { if (show) { childs[i].style.display = \"block\"; } else { childs[i].style.display = \"none\"; } } }';\n",
       "\t\t\t\telement.setAttribute('id', 'NetworKit_script');\n",
       "\t\t\t\tdocument.head.appendChild(element);\n",
       "\t\t\t}\n",
       "\t\t\n",
       "\t\t\t\t\n",
       "\t\t\t{\n",
       "\t\t\t\tvar element = document.getElementById('NetworKit_style');\n",
       "\t\t\t\tif (element) {\n",
       "\t\t\t\t\telement.parentNode.removeChild(element);\n",
       "\t\t\t\t}\n",
       "\t\t\t\telement = document.createElement('style');\n",
       "\t\t\t\telement.type = 'text/css';\n",
       "\t\t\t\telement.innerHTML = '.NetworKit_Page { font-family: Arial, Helvetica, sans-serif; font-size: 14px; } .NetworKit_Page .Value:before { font-family: Arial, Helvetica, sans-serif; font-size: 1.05em; content: attr(data-title) \":\"; margin-left: -2.5em; padding-right: 0.5em; } .NetworKit_Page .Details .Value:before { display: block; } .NetworKit_Page .Value { font-family: monospace; white-space: pre; padding-left: 2.5em; white-space: -moz-pre-wrap !important; white-space: -pre-wrap; white-space: -o-pre-wrap; white-space: pre-wrap; word-wrap: break-word; tab-size: 4; -moz-tab-size: 4; } .NetworKit_Page .Category { clear: both; padding-left: 1em; margin-bottom: 1.5em; } .NetworKit_Page .Category:before { content: attr(data-title); font-size: 1.75em; display: block; margin-left: -0.8em; margin-bottom: 0.5em; } .NetworKit_Page .SubCategory { margin-bottom: 1.5em; padding-left: 1em; } .NetworKit_Page .SubCategory:before { font-size: 1.6em; display: block; margin-left: -0.8em; margin-bottom: 0.5em; } .NetworKit_Page .SubCategory[data-title]:before { content: attr(data-title); } .NetworKit_Page .Block { display: block; } .NetworKit_Page .Block:after { content: \".\"; visibility: hidden; display: block; height: 0; clear: both; } .NetworKit_Page .Block .Thumbnail_Overview, .NetworKit_Page .Block .Thumbnail_ScatterPlot { width: 260px; float: left; } .NetworKit_Page .Block .Thumbnail_Overview img, .NetworKit_Page .Block .Thumbnail_ScatterPlot img { width: 260px; } .NetworKit_Page .Block .Thumbnail_Overview:before, .NetworKit_Page .Block .Thumbnail_ScatterPlot:before { display: block; text-align: center; font-weight: bold; } .NetworKit_Page .Block .Thumbnail_Overview:before { content: attr(data-title); } .NetworKit_Page .HeatCell { font-family: \"Courier New\", Courier, monospace; cursor: pointer; } .NetworKit_Page .HeatCell, .NetworKit_Page .HeatCellName { display: inline; padding: 0.1em; margin-right: 2px; background-color: #FFFFFF } .NetworKit_Page .HeatCellName { margin-left: 0.25em; } .NetworKit_Page .HeatCell:before { content: attr(data-heat); display: inline-block; color: #000000; width: 4em; text-align: center; } .NetworKit_Page .Measure { clear: both; } .NetworKit_Page .Measure .Details { cursor: pointer; } .NetworKit_Page .Measure .Details:before { content: \"[\" attr(data-title) \"]\"; display: block; } .NetworKit_Page .Measure .Details .Value { border-left: 1px dotted black; margin-left: 0.4em; padding-left: 3.5em; pointer-events: none; } .NetworKit_Page .Measure .Details .Spacer:before { content: \".\"; opacity: 0.0; pointer-events: none; } .NetworKit_Page .Measure .Plot { width: 440px; height: 440px; cursor: pointer; float: left; margin-left: -0.9em; margin-right: 20px; } .NetworKit_Page .Measure .Plot .Image { background-repeat: no-repeat; background-position: center center; background-size: contain; height: 100%; pointer-events: none; } .NetworKit_Page .Measure .Stat { width: 500px; float: left; } .NetworKit_Page .Measure .Stat .Group { padding-left: 1.25em; margin-bottom: 0.75em; } .NetworKit_Page .Measure .Stat .Group .Title { font-size: 1.1em; display: block; margin-bottom: 0.3em; margin-left: -0.75em; border-right-style: dotted; border-right-width: 1px; border-bottom-style: dotted; border-bottom-width: 1px; background-color: #D0D0D0; padding-left: 0.2em; } .NetworKit_Page .Measure .Stat .Group .List { -webkit-column-count: 3; -moz-column-count: 3; column-count: 3; } .NetworKit_Page .Measure .Stat .Group .List .Entry { position: relative; line-height: 1.75em; } .NetworKit_Page .Measure .Stat .Group .List .Entry[data-tooltip]:before { position: absolute; left: 0; top: -40px; background-color: #808080; color: #ffffff; height: 30px; line-height: 30px; border-radius: 5px; padding: 0 15px; content: attr(data-tooltip); white-space: nowrap; display: none; } .NetworKit_Page .Measure .Stat .Group .List .Entry[data-tooltip]:after { position: absolute; left: 15px; top: -10px; border-top: 7px solid #808080; border-left: 7px solid transparent; border-right: 7px solid transparent; content: \"\"; display: none; } .NetworKit_Page .Measure .Stat .Group .List .Entry[data-tooltip]:hover:after, .NetworKit_Page .Measure .Stat .Group .List .Entry[data-tooltip]:hover:before { display: block; } .NetworKit_Page .Measure .Stat .Group .List .Entry .MathValue { font-family: \"Courier New\", Courier, monospace; } .NetworKit_Page .Measure:after { content: \".\"; visibility: hidden; display: block; height: 0; clear: both; } .NetworKit_Page .PartitionPie { clear: both; } .NetworKit_Page .PartitionPie img { width: 600px; } #NetworKit_Overlay { left: 0px; top: 0px; display: none; position: absolute; width: 100%; height: 100%; background-color: rgba(0,0,0,0.6); z-index: 1000; } #NetworKit_Overlay_Title { position: absolute; color: white; transform: rotate(-90deg); width: 32em; height: 32em; padding-right: 0.5em; padding-top: 0.5em; text-align: right; font-size: 40px; } #NetworKit_Overlay .button { background: white; cursor: pointer; } #NetworKit_Overlay .button:before { size: 13px; display: inline-block; text-align: center; margin-top: 0.5em; margin-bottom: 0.5em; width: 1.5em; height: 1.5em; } #NetworKit_Overlay .icon-close:before { content: \"X\"; } #NetworKit_Overlay .icon-previous:before { content: \"P\"; } #NetworKit_Overlay .icon-next:before { content: \"N\"; } #NetworKit_Overlay .icon-save:before { content: \"S\"; } #NetworKit_Overlay_Toolbar_Top, #NetworKit_Overlay_Toolbar_Bottom { position: absolute; width: 40px; right: 13px; text-align: right; z-index: 1100; } #NetworKit_Overlay_Toolbar_Top { top: 0.5em; } #NetworKit_Overlay_Toolbar_Bottom { Bottom: 0.5em; } #NetworKit_Overlay_ImageContainer { position: absolute; top: 5%; left: 5%; height: 90%; width: 90%; background-repeat: no-repeat; background-position: center center; background-size: contain; } #NetworKit_Overlay_Image { height: 100%; width: 100%; background-repeat: no-repeat; background-position: center center; background-size: contain; }';\n",
       "\t\t\t\telement.setAttribute('id', 'NetworKit_style');\n",
       "\t\t\t\tdocument.head.appendChild(element);\n",
       "\t\t\t}\n",
       "\t\t\n",
       "\t\t\t\t\n",
       "\t\t\t{\n",
       "\t\t\t\tvar element = document.getElementById('NetworKit_Overlay');\n",
       "\t\t\t\tif (element) {\n",
       "\t\t\t\t\telement.parentNode.removeChild(element);\n",
       "\t\t\t\t}\n",
       "\t\t\t\telement = document.createElement('div');\n",
       "\t\t\t\telement.innerHTML = '<div id=\"NetworKit_Overlay_Toolbar_Top\"><div class=\"button icon-close\" id=\"NetworKit_Overlay_Close\" /></div><div id=\"NetworKit_Overlay_Title\" /> <div id=\"NetworKit_Overlay_ImageContainer\"> <div id=\"NetworKit_Overlay_Image\" /> </div> <div id=\"NetworKit_Overlay_Toolbar_Bottom\"> <div class=\"button icon-previous\" onclick=\"NetworKit_overlayImageShift(-1)\" /> <div class=\"button icon-next\" onclick=\"NetworKit_overlayImageShift(1)\" /> <a id=\"NetworKit_Overlay_Toolbar_Bottom_Save\"><div class=\"button icon-save\" /></a> </div>';\n",
       "\t\t\t\telement.setAttribute('id', 'NetworKit_Overlay');\n",
       "\t\t\t\tdocument.body.appendChild(element);\n",
       "\t\t\t\tdocument.getElementById('NetworKit_Overlay_Close').onclick = function (e) {\n",
       "\t\t\t\t\tdocument.getElementById('NetworKit_Overlay').style.display = 'none';\n",
       "\t\t\t\t}\n",
       "\t\t\t}\n",
       "\t\t\n",
       "\t\t\t-->\n",
       "\t\t\t</script>\n",
       "\t\t"
      ]
     },
     "metadata": {},
     "output_type": "display_data"
    }
   ],
   "source": [
    "import sys\n",
    "sys.path.append('..')\n",
    "import quarantines as Q\n",
    "import quarantines_mongo as qm\n",
    "import graph_generators as gg \n",
    "import networkx as nx \n",
    "import networkit as nk\n",
    "import pymongo\n",
    "import pickle\n",
    "import numpy as np\n",
    "import matplotlib.pyplot as plt\n",
    "import seaborn as sns\n",
    "from prettytable import PrettyTable\n",
    "from tabulate import tabulate\n",
    "from scipy import stats\n",
    "from pprint import pprint\n",
    "import os \n",
    "import random\n",
    "import experiment_helpers as eh\n",
    "import utils\n",
    "sns.set()"
   ]
  },
  {
   "cell_type": "code",
   "execution_count": 2,
   "metadata": {},
   "outputs": [],
   "source": [
    "## Want to run a scatter plot for 'clustering coefficient' vs total 'recovery' property\n",
    "def get_best_recovery(G, tau, gamma, num_init, num_iter, resolution=100):\n",
    "    pass"
   ]
  },
  {
   "cell_type": "code",
   "execution_count": 3,
   "metadata": {},
   "outputs": [],
   "source": [
    "def get_vcurve(G, tau, gamma, num_init, num_iter, resolution=100):\n",
    "    tups_by_qprop = {} \n",
    "    for i in range(resolution):\n",
    "        print(i, resolution)\n",
    "        qprop = i / resolution \n",
    "        tups = Q.quarantine_by_prop(G, tau, gamma, num_init / len(G), qprop, float('inf'), num_iter=num_iter)\n",
    "        tups_by_qprop[qprop] = tups \n",
    "    return tups_by_qprop"
   ]
  },
  {
   "cell_type": "code",
   "execution_count": null,
   "metadata": {},
   "outputs": [],
   "source": [
    "G = gg.plc_graph(10 **4, 10, 0.5)\n",
    "\n",
    "qrpops = get_vcurve(G, 0.5, 1.0, 10, 5, resolution=25)"
   ]
  },
  {
   "cell_type": "code",
   "execution_count": null,
   "metadata": {},
   "outputs": [],
   "source": [
    "G2 = gg.plc_graph(10 **4, 10, 0.9)\n",
    "\n",
    "qrpops2 = get_vcurve(G2, 0.5, 1.0, 10, 5, resolution=25)"
   ]
  },
  {
   "cell_type": "code",
   "execution_count": null,
   "metadata": {},
   "outputs": [],
   "source": [
    "nx.average_clustering(G), nx.average_clustering(G2),nx.average_clustering(G3)"
   ]
  },
  {
   "cell_type": "code",
   "execution_count": null,
   "metadata": {},
   "outputs": [],
   "source": [
    "G3 = gg.plc_graph(10 **4, 10, 1.0)\n",
    "qrpops3 = get_vcurve(G3, 0.5, 1.0, 10, 5, resolution=25)"
   ]
  },
  {
   "cell_type": "code",
   "execution_count": 14,
   "metadata": {},
   "outputs": [],
   "source": [
    "def plot_vcurve(qp, fig, ax, c, N=10** 4, label=None):\n",
    "    trips = []\n",
    "    for k, tup in sorted(qp.items(), key=lambda item: item[0]):\n",
    "        Rs = [_.get_final_R() / N for _ in tup]\n",
    "        print(Rs)\n",
    "        trips.append((k, np.mean(Rs), np.std(Rs)))\n",
    "        \n",
    "    ax.plot(*utils.select_mean(trips), color=c, label=label)\n",
    "    ax.fill_between(*utils.plotfill_trips(trips), color=c, alpha=0.2)\n",
    "    \n",
    "    "
   ]
  },
  {
   "cell_type": "code",
   "execution_count": 5,
   "metadata": {},
   "outputs": [
    {
     "ename": "NameError",
     "evalue": "name 'qrpops' is not defined",
     "output_type": "error",
     "traceback": [
      "\u001b[0;31m---------------------------------------------------------------------------\u001b[0m",
      "\u001b[0;31mNameError\u001b[0m                                 Traceback (most recent call last)",
      "\u001b[0;32m<ipython-input-5-e2d0c755bac5>\u001b[0m in \u001b[0;36m<module>\u001b[0;34m\u001b[0m\n\u001b[1;32m      1\u001b[0m \u001b[0mfig\u001b[0m\u001b[0;34m,\u001b[0m \u001b[0max\u001b[0m \u001b[0;34m=\u001b[0m \u001b[0mplt\u001b[0m\u001b[0;34m.\u001b[0m\u001b[0msubplots\u001b[0m\u001b[0;34m(\u001b[0m\u001b[0mfigsize\u001b[0m\u001b[0;34m=\u001b[0m\u001b[0;34m(\u001b[0m\u001b[0;36m8\u001b[0m\u001b[0;34m,\u001b[0m\u001b[0;36m8\u001b[0m\u001b[0;34m)\u001b[0m\u001b[0;34m)\u001b[0m\u001b[0;34m\u001b[0m\u001b[0;34m\u001b[0m\u001b[0m\n\u001b[0;32m----> 2\u001b[0;31m \u001b[0mplot_vcurve\u001b[0m\u001b[0;34m(\u001b[0m\u001b[0mqrpops\u001b[0m\u001b[0;34m,\u001b[0m \u001b[0mfig\u001b[0m\u001b[0;34m,\u001b[0m \u001b[0max\u001b[0m\u001b[0;34m,\u001b[0m \u001b[0mutils\u001b[0m\u001b[0;34m.\u001b[0m\u001b[0mc\u001b[0m\u001b[0;34m(\u001b[0m\u001b[0;36m0\u001b[0m\u001b[0;34m)\u001b[0m\u001b[0;34m,\u001b[0m\u001b[0mlabel\u001b[0m\u001b[0;34m=\u001b[0m\u001b[0;34m'CC 0.1'\u001b[0m\u001b[0;34m)\u001b[0m\u001b[0;34m\u001b[0m\u001b[0;34m\u001b[0m\u001b[0m\n\u001b[0m\u001b[1;32m      3\u001b[0m \u001b[0mplot_vcurve\u001b[0m\u001b[0;34m(\u001b[0m\u001b[0mqrpops2\u001b[0m\u001b[0;34m,\u001b[0m \u001b[0mfig\u001b[0m\u001b[0;34m,\u001b[0m \u001b[0max\u001b[0m\u001b[0;34m,\u001b[0m \u001b[0mutils\u001b[0m\u001b[0;34m.\u001b[0m\u001b[0mc\u001b[0m\u001b[0;34m(\u001b[0m\u001b[0;36m1\u001b[0m\u001b[0;34m)\u001b[0m\u001b[0;34m,\u001b[0m \u001b[0mlabel\u001b[0m\u001b[0;34m=\u001b[0m\u001b[0;34m'CC 0.2'\u001b[0m\u001b[0;34m)\u001b[0m\u001b[0;34m\u001b[0m\u001b[0;34m\u001b[0m\u001b[0m\n\u001b[1;32m      4\u001b[0m \u001b[0mplot_vcurve\u001b[0m\u001b[0;34m(\u001b[0m\u001b[0mqrpops3\u001b[0m\u001b[0;34m,\u001b[0m \u001b[0mfig\u001b[0m\u001b[0;34m,\u001b[0m \u001b[0max\u001b[0m\u001b[0;34m,\u001b[0m \u001b[0mutils\u001b[0m\u001b[0;34m.\u001b[0m\u001b[0mc\u001b[0m\u001b[0;34m(\u001b[0m\u001b[0;36m3\u001b[0m\u001b[0;34m)\u001b[0m\u001b[0;34m,\u001b[0m \u001b[0mlabel\u001b[0m\u001b[0;34m=\u001b[0m\u001b[0;34m'CC 0.3'\u001b[0m\u001b[0;34m)\u001b[0m\u001b[0;34m\u001b[0m\u001b[0;34m\u001b[0m\u001b[0m\n\u001b[1;32m      5\u001b[0m \u001b[0max\u001b[0m\u001b[0;34m.\u001b[0m\u001b[0mlegend\u001b[0m\u001b[0;34m(\u001b[0m\u001b[0;34m)\u001b[0m\u001b[0;34m\u001b[0m\u001b[0;34m\u001b[0m\u001b[0m\n",
      "\u001b[0;31mNameError\u001b[0m: name 'qrpops' is not defined"
     ]
    },
    {
     "data": {
      "image/png": "[encoded data removed]",
      "text/plain": [
       "<Figure size 576x576 with 1 Axes>"
      ]
     },
     "metadata": {},
     "output_type": "display_data"
    }
   ],
   "source": [
    "fig, ax = plt.subplots(figsize=(8,8))\n",
    "plot_vcurve(qrpops, fig, ax, utils.c(0),label='CC 0.1')\n",
    "plot_vcurve(qrpops2, fig, ax, utils.c(1), label='CC 0.2')\n",
    "plot_vcurve(qrpops3, fig, ax, utils.c(3), label='CC 0.3')\n",
    "ax.legend()\n",
    "ax.set_title(\"Total Infected vs. Quarantine Threshold under Varying Clustering\")\n",
    "ax.set_xlabel(\"Quarantine Threshold\")\n",
    "ax.set_ylabel(\"Total Proportion Infected\")"
   ]
  },
  {
   "cell_type": "code",
   "execution_count": 6,
   "metadata": {},
   "outputs": [],
   "source": [
    "smallG = gg.ba_graph(10 ** 4, 10)\n",
    "bigG = gg.ba_graph(10 ** 5, 10)"
   ]
  },
  {
   "cell_type": "code",
   "execution_count": 7,
   "metadata": {},
   "outputs": [
    {
     "name": "stdout",
     "output_type": "stream",
     "text": [
      "0 25\n",
      "1 25\n",
      "2 25\n",
      "3 25\n",
      "4 25\n",
      "5 25\n",
      "6 25\n",
      "7 25\n",
      "8 25\n",
      "9 25\n",
      "10 25\n",
      "11 25\n",
      "12 25\n",
      "13 25\n",
      "14 25\n",
      "15 25\n",
      "16 25\n",
      "17 25\n",
      "18 25\n",
      "19 25\n",
      "20 25\n",
      "21 25\n",
      "22 25\n",
      "23 25\n",
      "24 25\n",
      "0 25\n",
      "1 25\n",
      "2 25\n",
      "3 25\n",
      "4 25\n",
      "5 25\n",
      "6 25\n",
      "7 25\n",
      "8 25\n",
      "9 25\n",
      "10 25\n",
      "11 25\n",
      "12 25\n",
      "13 25\n",
      "14 25\n",
      "15 25\n",
      "16 25\n",
      "17 25\n",
      "18 25\n",
      "19 25\n",
      "20 25\n",
      "21 25\n",
      "22 25\n",
      "23 25\n",
      "24 25\n"
     ]
    }
   ],
   "source": [
    "small_qr = get_vcurve(smallG, 0.5, 1.0, 10, 5, resolution=25)\n",
    "big_qr = get_vcurve(bigG, 0.5, 1.0, 10, 5, resolution=25)"
   ]
  },
  {
   "cell_type": "code",
   "execution_count": 16,
   "metadata": {},
   "outputs": [
    {
     "name": "stdout",
     "output_type": "stream",
     "text": [
      "[0.9935, 0.9933, 0.9932, 0.9953, 0.993]\n",
      "[0.9921, 0.9901, 0.9905, 0.9912, 0.9906]\n",
      "[0.9869, 0.9844, 0.9851, 0.9867, 0.9837]\n",
      "[0.9809, 0.9853, 0.9825, 0.983, 0.9839]\n",
      "[0.9746, 0.9735, 0.9764, 0.9735, 0.9779]\n",
      "[0.9704, 0.9684, 0.9743, 0.97, 0.9644]\n",
      "[0.9636, 0.9622, 0.965, 0.9616, 0.9665]\n",
      "[0.9557, 0.9504, 0.9528, 0.954, 0.9508]\n",
      "[0.942, 0.9422, 0.9397, 0.9431, 0.9444]\n",
      "[0.934, 0.9307, 0.9407, 0.9333, 0.9279]\n",
      "[0.9156, 0.9104, 0.9172, 0.916, 0.9178]\n",
      "[0.9094, 0.9116, 0.9125, 0.9088, 0.9075]\n",
      "[0.8913, 0.8849, 0.8902, 0.8846, 0.8791]\n",
      "[0.8659, 0.8832, 0.8743, 0.8628, 0.8792]\n",
      "[0.8559, 0.8606, 0.5624, 0.8445, 0.8579]\n",
      "[0.8296, 0.8329, 0.8366, 0.8244, 0.8324]\n",
      "[0.8215, 0.8032, 0.8084, 0.8151, 0.804]\n",
      "[0.7871, 0.7783, 0.7839, 0.806, 0.7725]\n",
      "[0.7222, 0.7422, 0.7632, 0.735, 0.7787]\n",
      "[0.7684, 0.7802, 0.7652, 0.7696, 0.7629]\n",
      "[0.8017, 0.8031, 0.8026, 0.8017, 0.8084]\n",
      "[0.8418, 0.8436, 0.8425, 0.842, 0.8432]\n",
      "[0.8812, 0.8812, 0.8811, 0.8826, 0.8816]\n",
      "[0.9211, 0.9212, 0.9213, 0.9218, 0.9214]\n",
      "[0.961, 0.961, 0.961, 0.9613, 0.961]\n",
      "[0.99337, 0.99389, 0.99367, 0.99397, 0.99375]\n",
      "[0.99015, 0.98968, 0.99013, 0.99013, 0.98931]\n",
      "[0.98562, 0.98579, 0.98532, 0.98567, 0.98593]\n",
      "[0.98005, 0.98044, 0.98016, 0.98142, 0.98094]\n",
      "[0.97461, 0.97458, 0.97484, 0.97462, 0.97485]\n",
      "[0.96969, 0.96854, 0.96924, 0.96819, 0.96821]\n",
      "[0.96214, 0.96185, 0.96242, 0.96191, 0.95983]\n",
      "[0.95454, 0.95366, 0.953, 0.95318, 0.95374]\n",
      "[0.9431, 0.94244, 0.94187, 0.94406, 0.9427]\n",
      "[0.93139, 0.93122, 0.92965, 0.93197, 0.93284]\n",
      "[0.92031, 0.91734, 0.91633, 0.91767, 0.92007]\n",
      "[0.90634, 0.9043, 0.90588, 0.90866, 0.9072]\n",
      "[0.89414, 0.8906, 0.89272, 0.89141, 0.88899]\n",
      "[0.87381, 0.87255, 0.87194, 0.87279, 0.87218]\n",
      "[0.85566, 0.85201, 0.85045, 0.8515, 0.8529]\n",
      "[0.82788, 0.82536, 0.83003, 0.83313, 0.83107]\n",
      "[0.80684, 0.80628, 0.80946, 0.80519, 0.80436]\n",
      "[0.7857, 0.77767, 0.68033, 0.7821, 0.77911]\n",
      "[0.7412, 0.72032, 0.72086, 0.72212, 0.74673]\n",
      "[0.76017, 0.7603, 0.76217, 0.7605, 0.76105]\n",
      "[0.80027, 0.80013, 0.80028, 0.8002, 0.80067]\n",
      "[0.84026, 0.84012, 0.84017, 0.84018, 0.84013]\n",
      "[0.88012, 0.8802, 0.88013, 0.88014, 0.88022]\n",
      "[0.92011, 0.92021, 0.92018, 0.92013, 0.92014]\n",
      "[0.96011, 0.96012, 0.9601, 0.9601, 0.96015]\n"
     ]
    },
    {
     "data": {
      "text/plain": [
       "<matplotlib.legend.Legend at 0x7fe85d9c92e8>"
      ]
     },
     "execution_count": 16,
     "metadata": {},
     "output_type": "execute_result"
    },
    {
     "data": {
      "image/png": "[encoded data removed]",
      "text/plain": [
       "<Figure size 576x576 with 1 Axes>"
      ]
     },
     "metadata": {},
     "output_type": "display_data"
    }
   ],
   "source": [
    "fig, ax = plt.subplots(figsize=(8,8))\n",
    "plot_vcurve(small_qr, fig, ax, c=utils.c(0), label=\"N=1e4\")\n",
    "plot_vcurve(big_qr, fig, ax, c=utils.c(1), N = 10 ** 5, label=\"N=1e5\")\n",
    "ax.set_title(\"Total Infected Vs. Quarantine Threshold under Varying Size\")\n",
    "ax.set_xlabel(\"Quarantine Threshold\")\n",
    "ax.set_ylabel(\"Total Proportion Infected\")\n",
    "ax.legend()"
   ]
  },
  {
   "cell_type": "code",
   "execution_count": 10,
   "metadata": {},
   "outputs": [
    {
     "name": "stdout",
     "output_type": "stream",
     "text": [
      "CUR 0\n",
      "CUR 0.5\n",
      "CUR 0.75\n",
      "CUR 0.875\n",
      "CUR 0.9375\n"
     ]
    },
    {
     "data": {
      "text/plain": [
       "0.96875"
      ]
     },
     "execution_count": 10,
     "metadata": {},
     "output_type": "execute_result"
    }
   ],
   "source": [
    "def get_plc_cluster(N, m, cluster):\n",
    "    low_cluster = gg.plc_graph(N, m, 0)\n",
    "    high_cluster = gg.plc_graph(N, m, 1.0)\n",
    "    lo, lo_val = 0, nx.average_clustering(low_cluster)\n",
    "    hi, hi_val = 1, nx.average_clustering(high_cluster)\n",
    "    assert lo_val <= cluster <= hi_val\n",
    "    cur, cur_val = lo, lo_val\n",
    "    while abs(cur_val - cluster) > 0.001:\n",
    "        print(\"CUR\", cur)\n",
    "        cur = (lo + hi) / 2 \n",
    "        G = gg.plc_graph(N, m, cur)\n",
    "        cur_val = nx.average_clustering(G)\n",
    "        if cluster > cur_val:\n",
    "            lo, lo_val = cur, cur_val \n",
    "        else:\n",
    "            hi, hi_val = cur, cur_val\n",
    "    return cur, G\n",
    "\n",
    "\n",
    "get_plc_cluster(10 *1000, 10, 0.25)"
   ]
  },
  {
   "cell_type": "code",
   "execution_count": 14,
   "metadata": {},
   "outputs": [
    {
     "data": {
      "text/plain": [
       "0.251717484917635"
      ]
     },
     "execution_count": 14,
     "metadata": {},
     "output_type": "execute_result"
    }
   ],
   "source": [
    "nx.average_clustering(gg.plc_graph(10 * 1000, 10, 0.96875))"
   ]
  },
  {
   "cell_type": "code",
   "execution_count": null,
   "metadata": {},
   "outputs": [],
   "source": []
  }
 ],
 "metadata": {
  "kernelspec": {
   "display_name": "py3",
   "language": "python",
   "name": "py3"
  },
  "language_info": {
   "codemirror_mode": {
    "name": "ipython",
    "version": 3
   },
   "file_extension": ".py",
   "mimetype": "text/x-python",
   "name": "python",
   "nbconvert_exporter": "python",
   "pygments_lexer": "ipython3",
   "version": "3.6.9"
  }
 },
 "nbformat": 4,
 "nbformat_minor": 4
}
